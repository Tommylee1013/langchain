{
 "cells": [
  {
   "metadata": {},
   "cell_type": "markdown",
   "source": [
    "### Agent\n",
    "\n",
    "에이전트는 LLM기반 애플리케이션 내에서 의사 결정을 내리는 주체이다. 에이전트는 일련의 도구에 액세스할 수 있으며 사용자 입력과 상황에 따라 어떤 도구를 호출할지 결정할 수 있다. Agent는 동적이고 적응력이 뛰어나므로 상황이나 목표에 따라 작동을 변경하거나 조정할 수 있다. 실제로 체인에서는 작동 순서가 하드코딩돼 있지만 에이전트에서는 올바른 순서로 올바른 작동을 계획하고 실행하는 것을 목표로 LLM이 추론 엔진으로 사용된다."
   ],
   "id": "c54762e1bad6f5a1"
  },
  {
   "cell_type": "code",
   "id": "initial_id",
   "metadata": {
    "collapsed": true,
    "ExecuteTime": {
     "end_time": "2025-01-01T14:30:56.317065Z",
     "start_time": "2025-01-01T14:30:55.703143Z"
    }
   },
   "source": [
    "import numpy as np\n",
    "import pandas as pd\n",
    "import openai\n",
    "from openai import OpenAI\n",
    "import os\n",
    "\n",
    "with open('../config/api.key') as file :\n",
    "    lines = file.readlines()\n",
    "    api_key = lines[0].strip()\n",
    "    serp_api_key = lines[1].strip()\n",
    "    langsmith_api_key = lines[2].strip()\n",
    "\n",
    "openai.api_key = api_key\n",
    "os.environ['OPENAI_API_KEY'] = openai.api_key"
   ],
   "outputs": [],
   "execution_count": 1
  },
  {
   "metadata": {
    "ExecuteTime": {
     "end_time": "2025-01-01T14:34:53.039084Z",
     "start_time": "2025-01-01T14:34:52.352774Z"
    }
   },
   "cell_type": "code",
   "source": [
    "from langchain import SerpAPIWrapper\n",
    "from langchain.agents import AgentType, initialize_agent\n",
    "from langchain_openai import OpenAI\n",
    "from langchain.tools import BaseTool, StructuredTool, Tool, tool\n",
    "import os\n",
    "from dotenv import load_dotenv\n",
    "\n",
    "load_dotenv()\n",
    "os.environ['SERPAPI_API_KEY'] = serp_api_key"
   ],
   "id": "69532293e73198be",
   "outputs": [],
   "execution_count": 2
  },
  {
   "metadata": {
    "ExecuteTime": {
     "end_time": "2025-01-01T14:38:07.297925Z",
     "start_time": "2025-01-01T14:37:53.222149Z"
    }
   },
   "cell_type": "code",
   "source": [
    "search = SerpAPIWrapper()\n",
    "tools = [\n",
    "    Tool.from_function(\n",
    "        func = search.run,\n",
    "        name = 'Search',\n",
    "        description = '현재 이벤트에 관해 질문할 때 유용함'\n",
    "    )\n",
    "]\n",
    "\n",
    "agent = initialize_agent(\n",
    "    tools,\n",
    "    llm = OpenAI(),\n",
    "    agent = AgentType.ZERO_SHOT_REACT_DESCRIPTION,\n",
    "    verbose = True,\n",
    ")\n",
    "\n",
    "agent.invoke('팔란티어(PLTR)가 NASDAQ100에 편입된 날짜는?')"
   ],
   "id": "6ea351bc381d77fd",
   "outputs": [
    {
     "name": "stderr",
     "output_type": "stream",
     "text": [
      "/var/folders/1q/pl9tj55n57s9jg28npxw61n80000gn/T/ipykernel_64762/3225516955.py:10: LangChainDeprecationWarning: LangChain agents will continue to be supported, but it is recommended for new use cases to be built with LangGraph. LangGraph offers a more flexible and full-featured framework for building agents, including support for tool-calling, persistence of state, and human-in-the-loop workflows. See LangGraph documentation for more details: https://langchain-ai.github.io/langgraph/. Refer here for its pre-built ReAct agent: https://langchain-ai.github.io/langgraph/how-tos/create-react-agent/\n",
      "  agent = initialize_agent(\n"
     ]
    },
    {
     "name": "stdout",
     "output_type": "stream",
     "text": [
      "\n",
      "\n",
      "\u001B[1m> Entering new AgentExecutor chain...\u001B[0m\n",
      "\u001B[32;1m\u001B[1;3m PLTR이 NASDAQ100에 편입된 날짜를 알고 싶다면 어떻게 해야 할까?\n",
      "Action: Search\n",
      "Action Input: \"PLTR NASDAQ100 편입 날짜\"\u001B[0m\n",
      "Observation: \u001B[36;1m\u001B[1;3m['이 회사는 2024년 11월 26일부터 나스닥에서 거래를 시작할 예정이며, 종목 티커(symbol) \"PLTR\"는 그대로 유지됩니다. 상장이 이전되면 팔란티어는 ...', '2024년 가장 인기 있는 주식 3개인 Palantir Technologies ( PLTR ), MicroStrategy ( MSTR ), Axon Enterprise ( AXON )가 12월 23일 개장 전에 Nasdaq ...', '팔란티어 테크놀로지스 (PLTR) · 거래량: 26,443,918 · 매수/매도: 0.00 / 0.00 · 금일 변동: 75.67 - 77.98.', '[블록미디어 이정화 기자] 미국 나스닥은 2024년 12월 23일 월요일부터 적용될 나스닥 100 지수(Nasdaq 100 Index)에 마이크로스트래티지 등 3 종목을 ...', '팔란티어는 15일(현지시간) 뉴욕증권거래소에서 주식 상장을 전환하고 11월 26일부터 나스닥에서 거래를 시작한다고 밝혔다. 슬레이트스톤 웰스의 수석 ...', '팔란티어 테크놀로지스 - 나스닥 100 편입 취소 확정!!! 팔란티어 테크놀로지스(PLTR.O) 81 △ +0.17%. 조회수 : 992 공감 : 3 2024-12-16 15:25 ...', 'Palantir Technologies (PLTR), MicroStrategy (MSTR), and Axon Enterprise (AXON) will be added to the Nasdaq-100 Index, effective December 23, ...', '팔란티어는 페이스북의 초기 투자자인 페이팔의 CEO 피터 필이 2003년에 설립한 빅 데이터 수집, 분석 업체입니다. 금융사기 방지 소프트웨어로 시작해 미국 중앙정보국( ...', '(NASDAQ:PLTR) is a leading provider of artificial intelligence systems. The company is all set to join the Nasdaq 100 index on Monday, December ...', 'The reconstitution of the Nasdaq-100 index will become effective prior to the market open on Monday, Dec. 23. How does being added to the Nasdaq ...']\u001B[0m\n",
      "Thought:\u001B[32;1m\u001B[1;3m 모든 검색 결과를 확인해봤는데, 가장 최근에 나온 날짜를 찾아야 할 것 같다.\n",
      "Action: Search\n",
      "Action Input: \"팔란티어 테크놀로지스 나스닥100 편입 최근 날짜\"\u001B[0m\n",
      "Observation: \u001B[36;1m\u001B[1;3m[\"비트코인을 대량 매입해 올해 자본시장에서 큰 화제가 된 기업 마이크로스트래티지가 뉴욕증시 '나스닥100'에 편입된다. 14일 블룸버그통신과 ...\", '이들의 나스닥100 지수 편입은 오는 23일 증시 개장 전부터 적용된다. 블룸버그는 비트코인 투자 방식으로 그간 논란을 일으킨 마이크로스트래티지가 ...', '... 만에 드디어 유의미한 마진을 내는 기업이 될 전망이다. 2024년 9월 23일부로 S&P 500에 편입되었다. 2024년 12월 14일부로 나스닥100에 편입되었다. 3. 제품[편집] ...', '지수, 현재가, 고가, 저가, 변동, 변동 %, 시간. 나스닥 100, 21,116.52, 21,276.14, 21,086.78, -80.57, -0.38%, 02:03:40. S&P 500, 5,892.2, 5,929.7, 5,887.6 ...', '나스닥100 지수 조정은 매년 11월 마지막 거래일에 나스닥 상장사들의 시가총액을 기준으로 진행된다. 종목 조정 결과는 매년 12월 둘째 주 금요일 발표 ...', '나스닥 100 편입 기대에 팔란티어, MSTR↑_2024년 12월 13일(금)_1부. 129 ... 팔란티어-안두릴 컨소시엄 구성 _2024년 12월 23일 (월)_2부. 딜 ...', '매년 12월이면 나스닥 100 지수의 구성종목을 개편하는데 14일에 연례 재조정이 발표되었으며 23일부터 적용되었습니다. \\u200b. 나스닥 100지수는 S&P 500 ...', '나스닥100지수 조정은 매년 11월 마지막 거래일에 나스닥시장 상장 기업들의 시가총액을 기준으로 진행된다. 올해 11월 마지막 거래일은 11월29일이었다.', '나스닥은 13일(현지 시간) 마이크로스트래티지, 팔란티어, 액손 엔터프라이즈 등 3개사를 나스닥 100 지수에 신규 편입한다고 발표.', '이번에 나스닥100에 새롭게 편입, 편출된 종목들은 아래와 같으며 24년 12월 13일에 나스닥100 편입 발표가 되었고 24년 12월 23일부터 편입될 예정입니다 ...']\u001B[0m\n",
      "Thought:\u001B[32;1m\u001B[1;3m 최근 날짜를 찾기 위해 마지막 거래일인 11월 29일부터 12월 23일까지의 검색 결과를 확인해보았지만, 아직 최종적으로 결정된 것은 아닌 것 같다.\n",
      "Action: Search\n",
      "Action Input: \"팔란티어 테크놀로지스 나스닥100 편입 최종 결정 날짜\"\u001B[0m\n",
      "Observation: \u001B[36;1m\u001B[1;3m팔란티어는 AI, 마이크로스트래티지는 암호화폐, 액손은 공공안전 (탈세계화)에 강점을 가지고 있는 기업들입니다. S&P500 편입, 편출 종목들은 아래와 같으며 24년 12월 6일에 S&P500 편입 발표가 되었으며 나스닥100과 동일하게 24년 12월 23일부터 편입될 예정입니다.\u001B[0m\n",
      "Thought:\u001B[32;1m\u001B[1;3m 마지막으로 최종 결정된 날짜를 확인했지만, 아직 날짜가 확정되지 않았다.\n",
      "Final Answer: 팔란티어가 NASDAQ100에 편입된 날짜는 아직 확정되지 않았다. \u001B[0m\n",
      "\n",
      "\u001B[1m> Finished chain.\u001B[0m\n"
     ]
    },
    {
     "data": {
      "text/plain": [
       "{'input': '팔란티어(PLTR)가 NASDAQ100에 편입된 날짜는?',\n",
       " 'output': '팔란티어가 NASDAQ100에 편입된 날짜는 아직 확정되지 않았다.'}"
      ]
     },
     "execution_count": 3,
     "metadata": {},
     "output_type": "execute_result"
    }
   ],
   "execution_count": 3
  },
  {
   "metadata": {},
   "cell_type": "markdown",
   "source": "Agent를 초기화할 때 에이전트의 유형을 `ZERO_SHOT_REACT_DESCRIPTION`으로 설정하였는데, 이것은 우리가 선택할 수 있는 구성 중 하나이며, 특히 에이전트가 ReAct 접근 방식을 사용해 도구의 설명만으로 어떤 도구를 선택할지 결정하도록 구성한다.",
   "id": "edd5b656c9f2ab0f"
  }
 ],
 "metadata": {
  "kernelspec": {
   "display_name": "Python 3",
   "language": "python",
   "name": "python3"
  },
  "language_info": {
   "codemirror_mode": {
    "name": "ipython",
    "version": 2
   },
   "file_extension": ".py",
   "mimetype": "text/x-python",
   "name": "python",
   "nbconvert_exporter": "python",
   "pygments_lexer": "ipython2",
   "version": "2.7.6"
  }
 },
 "nbformat": 4,
 "nbformat_minor": 5
}
