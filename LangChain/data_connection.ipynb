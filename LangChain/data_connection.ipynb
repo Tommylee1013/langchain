{
 "cells": [
  {
   "metadata": {},
   "cell_type": "markdown",
   "source": [
    "### Data Connection\n",
    "\n",
    "data connection은 모델에 제공하려는 추가적인 non-parametic 지식을 검색하는 데 필요한 빌딩 블록을 의미한다. 이 아이디어는 5개의 주요 블록(원천 - 로드 - 변환 - 임베드 - 저장 - 검색)으로 이뤄지는 애플리케이션에 사용자별 데이터를 통합하는 일반적인 흐름을 다루기 위한 것이다."
   ],
   "id": "e5adda8a3ef35516"
  },
  {
   "metadata": {},
   "cell_type": "markdown",
   "source": [
    "#### Document loaders\n",
    "\n",
    "document loader는 CSV, file directory, HTML, JSON, markdown, PDF 등 다양한 source로부터 문서를 읽어 들이는 일을 한다. document loader는 구성된 소스로부터 데이터를 문서로 loading하기 위한 `.load` method를 노출한다. 출력은 텍스트와 관련 메타데이터를 포함하는 `Document` 객체이다."
   ],
   "id": "8f2b5531436d1426"
  },
  {
   "cell_type": "code",
   "id": "initial_id",
   "metadata": {
    "collapsed": true,
    "ExecuteTime": {
     "end_time": "2025-01-01T07:56:21.401172Z",
     "start_time": "2025-01-01T07:56:20.797571Z"
    }
   },
   "source": [
    "import numpy as np\n",
    "import pandas as pd\n",
    "import openai\n",
    "from openai import OpenAI\n",
    "import os\n",
    "\n",
    "with open('../config/api.key') as file :\n",
    "    lines = file.readlines()\n",
    "    api_key = lines[0].strip()\n",
    "    serp_api_key = lines[1].strip()\n",
    "    langsmith_api_key = lines[2].strip()\n",
    "\n",
    "openai.api_key = api_key"
   ],
   "outputs": [],
   "execution_count": 1
  },
  {
   "metadata": {
    "ExecuteTime": {
     "end_time": "2025-01-01T07:56:47.790295Z",
     "start_time": "2025-01-01T07:56:47.780599Z"
    }
   },
   "cell_type": "code",
   "source": [
    "dot_data = pd.read_csv(\n",
    "    '../data/dot_plot_2024_12.csv',\n",
    "    index_col = 0\n",
    ")"
   ],
   "id": "f4a92253bbe7dc60",
   "outputs": [],
   "execution_count": 2
  },
  {
   "metadata": {
    "ExecuteTime": {
     "end_time": "2025-01-01T07:56:49.219882Z",
     "start_time": "2025-01-01T07:56:49.209618Z"
    }
   },
   "cell_type": "code",
   "source": "dot_data",
   "id": "fc6d3583c8be46fa",
   "outputs": [
    {
     "data": {
      "text/plain": [
       "             2024  2025  2026  2027  Longer run\n",
       "Target rate                                    \n",
       "4.750         NaN   NaN   NaN   NaN         NaN\n",
       "4.625         4.0   NaN   NaN   NaN         NaN\n",
       "4.500         NaN   NaN   NaN   NaN         NaN\n",
       "4.375        15.0   1.0   NaN   NaN         NaN\n",
       "4.250         NaN   NaN   NaN   NaN         NaN\n",
       "4.125         NaN   3.0   NaN   NaN         NaN\n",
       "4.000         NaN   NaN   NaN   NaN         NaN\n",
       "3.875         NaN  10.0   3.0   2.0         1.0\n",
       "3.750         NaN   NaN   NaN   NaN         1.0\n",
       "3.625         NaN   3.0   4.0   4.0         2.0\n",
       "3.500         NaN   NaN   NaN   NaN         2.0\n",
       "3.375         NaN   1.0   5.0   1.0         1.0\n",
       "3.250         NaN   NaN   NaN   NaN         NaN\n",
       "3.125         NaN   1.0   4.0   7.0         1.0\n",
       "3.000         NaN   NaN   NaN   NaN         3.0\n",
       "2.875         NaN   NaN   1.0   2.0         4.0\n",
       "2.750         NaN   NaN   1.0   1.0         1.0\n",
       "2.625         NaN   NaN   NaN   1.0         1.0\n",
       "2.500         NaN   NaN   NaN   NaN         1.0\n",
       "2.375         NaN   NaN   1.0   1.0         1.0\n",
       "2.250         NaN   NaN   NaN   NaN         NaN"
      ],
      "text/html": [
       "<div>\n",
       "<style scoped>\n",
       "    .dataframe tbody tr th:only-of-type {\n",
       "        vertical-align: middle;\n",
       "    }\n",
       "\n",
       "    .dataframe tbody tr th {\n",
       "        vertical-align: top;\n",
       "    }\n",
       "\n",
       "    .dataframe thead th {\n",
       "        text-align: right;\n",
       "    }\n",
       "</style>\n",
       "<table border=\"1\" class=\"dataframe\">\n",
       "  <thead>\n",
       "    <tr style=\"text-align: right;\">\n",
       "      <th></th>\n",
       "      <th>2024</th>\n",
       "      <th>2025</th>\n",
       "      <th>2026</th>\n",
       "      <th>2027</th>\n",
       "      <th>Longer run</th>\n",
       "    </tr>\n",
       "    <tr>\n",
       "      <th>Target rate</th>\n",
       "      <th></th>\n",
       "      <th></th>\n",
       "      <th></th>\n",
       "      <th></th>\n",
       "      <th></th>\n",
       "    </tr>\n",
       "  </thead>\n",
       "  <tbody>\n",
       "    <tr>\n",
       "      <th>4.750</th>\n",
       "      <td>NaN</td>\n",
       "      <td>NaN</td>\n",
       "      <td>NaN</td>\n",
       "      <td>NaN</td>\n",
       "      <td>NaN</td>\n",
       "    </tr>\n",
       "    <tr>\n",
       "      <th>4.625</th>\n",
       "      <td>4.0</td>\n",
       "      <td>NaN</td>\n",
       "      <td>NaN</td>\n",
       "      <td>NaN</td>\n",
       "      <td>NaN</td>\n",
       "    </tr>\n",
       "    <tr>\n",
       "      <th>4.500</th>\n",
       "      <td>NaN</td>\n",
       "      <td>NaN</td>\n",
       "      <td>NaN</td>\n",
       "      <td>NaN</td>\n",
       "      <td>NaN</td>\n",
       "    </tr>\n",
       "    <tr>\n",
       "      <th>4.375</th>\n",
       "      <td>15.0</td>\n",
       "      <td>1.0</td>\n",
       "      <td>NaN</td>\n",
       "      <td>NaN</td>\n",
       "      <td>NaN</td>\n",
       "    </tr>\n",
       "    <tr>\n",
       "      <th>4.250</th>\n",
       "      <td>NaN</td>\n",
       "      <td>NaN</td>\n",
       "      <td>NaN</td>\n",
       "      <td>NaN</td>\n",
       "      <td>NaN</td>\n",
       "    </tr>\n",
       "    <tr>\n",
       "      <th>4.125</th>\n",
       "      <td>NaN</td>\n",
       "      <td>3.0</td>\n",
       "      <td>NaN</td>\n",
       "      <td>NaN</td>\n",
       "      <td>NaN</td>\n",
       "    </tr>\n",
       "    <tr>\n",
       "      <th>4.000</th>\n",
       "      <td>NaN</td>\n",
       "      <td>NaN</td>\n",
       "      <td>NaN</td>\n",
       "      <td>NaN</td>\n",
       "      <td>NaN</td>\n",
       "    </tr>\n",
       "    <tr>\n",
       "      <th>3.875</th>\n",
       "      <td>NaN</td>\n",
       "      <td>10.0</td>\n",
       "      <td>3.0</td>\n",
       "      <td>2.0</td>\n",
       "      <td>1.0</td>\n",
       "    </tr>\n",
       "    <tr>\n",
       "      <th>3.750</th>\n",
       "      <td>NaN</td>\n",
       "      <td>NaN</td>\n",
       "      <td>NaN</td>\n",
       "      <td>NaN</td>\n",
       "      <td>1.0</td>\n",
       "    </tr>\n",
       "    <tr>\n",
       "      <th>3.625</th>\n",
       "      <td>NaN</td>\n",
       "      <td>3.0</td>\n",
       "      <td>4.0</td>\n",
       "      <td>4.0</td>\n",
       "      <td>2.0</td>\n",
       "    </tr>\n",
       "    <tr>\n",
       "      <th>3.500</th>\n",
       "      <td>NaN</td>\n",
       "      <td>NaN</td>\n",
       "      <td>NaN</td>\n",
       "      <td>NaN</td>\n",
       "      <td>2.0</td>\n",
       "    </tr>\n",
       "    <tr>\n",
       "      <th>3.375</th>\n",
       "      <td>NaN</td>\n",
       "      <td>1.0</td>\n",
       "      <td>5.0</td>\n",
       "      <td>1.0</td>\n",
       "      <td>1.0</td>\n",
       "    </tr>\n",
       "    <tr>\n",
       "      <th>3.250</th>\n",
       "      <td>NaN</td>\n",
       "      <td>NaN</td>\n",
       "      <td>NaN</td>\n",
       "      <td>NaN</td>\n",
       "      <td>NaN</td>\n",
       "    </tr>\n",
       "    <tr>\n",
       "      <th>3.125</th>\n",
       "      <td>NaN</td>\n",
       "      <td>1.0</td>\n",
       "      <td>4.0</td>\n",
       "      <td>7.0</td>\n",
       "      <td>1.0</td>\n",
       "    </tr>\n",
       "    <tr>\n",
       "      <th>3.000</th>\n",
       "      <td>NaN</td>\n",
       "      <td>NaN</td>\n",
       "      <td>NaN</td>\n",
       "      <td>NaN</td>\n",
       "      <td>3.0</td>\n",
       "    </tr>\n",
       "    <tr>\n",
       "      <th>2.875</th>\n",
       "      <td>NaN</td>\n",
       "      <td>NaN</td>\n",
       "      <td>1.0</td>\n",
       "      <td>2.0</td>\n",
       "      <td>4.0</td>\n",
       "    </tr>\n",
       "    <tr>\n",
       "      <th>2.750</th>\n",
       "      <td>NaN</td>\n",
       "      <td>NaN</td>\n",
       "      <td>1.0</td>\n",
       "      <td>1.0</td>\n",
       "      <td>1.0</td>\n",
       "    </tr>\n",
       "    <tr>\n",
       "      <th>2.625</th>\n",
       "      <td>NaN</td>\n",
       "      <td>NaN</td>\n",
       "      <td>NaN</td>\n",
       "      <td>1.0</td>\n",
       "      <td>1.0</td>\n",
       "    </tr>\n",
       "    <tr>\n",
       "      <th>2.500</th>\n",
       "      <td>NaN</td>\n",
       "      <td>NaN</td>\n",
       "      <td>NaN</td>\n",
       "      <td>NaN</td>\n",
       "      <td>1.0</td>\n",
       "    </tr>\n",
       "    <tr>\n",
       "      <th>2.375</th>\n",
       "      <td>NaN</td>\n",
       "      <td>NaN</td>\n",
       "      <td>1.0</td>\n",
       "      <td>1.0</td>\n",
       "      <td>1.0</td>\n",
       "    </tr>\n",
       "    <tr>\n",
       "      <th>2.250</th>\n",
       "      <td>NaN</td>\n",
       "      <td>NaN</td>\n",
       "      <td>NaN</td>\n",
       "      <td>NaN</td>\n",
       "      <td>NaN</td>\n",
       "    </tr>\n",
       "  </tbody>\n",
       "</table>\n",
       "</div>"
      ]
     },
     "execution_count": 3,
     "metadata": {},
     "output_type": "execute_result"
    }
   ],
   "execution_count": 3
  },
  {
   "metadata": {
    "ExecuteTime": {
     "end_time": "2025-01-01T07:57:51.857328Z",
     "start_time": "2025-01-01T07:57:51.645741Z"
    }
   },
   "cell_type": "code",
   "source": [
    "from langchain.document_loaders.csv_loader import CSVLoader\n",
    "loader = CSVLoader(\n",
    "    file_path = '../data/dot_plot_2024_12.csv'\n",
    ")\n",
    "data = loader.load()"
   ],
   "id": "97be93dfcc8d67c5",
   "outputs": [],
   "execution_count": 4
  },
  {
   "metadata": {},
   "cell_type": "markdown",
   "source": "출력은 다음과 같다. 객체가 `Document`인 것을 확인할 수 있다.",
   "id": "215d0e143ec1e01e"
  },
  {
   "metadata": {
    "ExecuteTime": {
     "end_time": "2025-01-01T07:58:01.174285Z",
     "start_time": "2025-01-01T07:58:01.168922Z"
    }
   },
   "cell_type": "code",
   "source": "data",
   "id": "98eab181d26771d6",
   "outputs": [
    {
     "data": {
      "text/plain": [
       "[Document(metadata={'source': '../data/dot_plot_2024_12.csv', 'row': 0}, page_content='Target rate: 4.750\\n2024: \\n2025: \\n2026: \\n2027: \\nLonger run: '),\n",
       " Document(metadata={'source': '../data/dot_plot_2024_12.csv', 'row': 1}, page_content='Target rate: 4.625\\n2024: 4\\n2025: \\n2026: \\n2027: \\nLonger run: '),\n",
       " Document(metadata={'source': '../data/dot_plot_2024_12.csv', 'row': 2}, page_content='Target rate: 4.500\\n2024: \\n2025: \\n2026: \\n2027: \\nLonger run: '),\n",
       " Document(metadata={'source': '../data/dot_plot_2024_12.csv', 'row': 3}, page_content='Target rate: 4.375\\n2024: 15\\n2025: 1\\n2026: \\n2027: \\nLonger run: '),\n",
       " Document(metadata={'source': '../data/dot_plot_2024_12.csv', 'row': 4}, page_content='Target rate: 4.250\\n2024: \\n2025: \\n2026: \\n2027: \\nLonger run: '),\n",
       " Document(metadata={'source': '../data/dot_plot_2024_12.csv', 'row': 5}, page_content='Target rate: 4.125\\n2024: \\n2025: 3\\n2026: \\n2027: \\nLonger run: '),\n",
       " Document(metadata={'source': '../data/dot_plot_2024_12.csv', 'row': 6}, page_content='Target rate: 4.000\\n2024: \\n2025: \\n2026: \\n2027: \\nLonger run: '),\n",
       " Document(metadata={'source': '../data/dot_plot_2024_12.csv', 'row': 7}, page_content='Target rate: 3.875\\n2024: \\n2025: 10\\n2026: 3\\n2027: 2\\nLonger run: 1'),\n",
       " Document(metadata={'source': '../data/dot_plot_2024_12.csv', 'row': 8}, page_content='Target rate: 3.750\\n2024: \\n2025: \\n2026: \\n2027: \\nLonger run: 1'),\n",
       " Document(metadata={'source': '../data/dot_plot_2024_12.csv', 'row': 9}, page_content='Target rate: 3.625\\n2024: \\n2025: 3\\n2026: 4\\n2027: 4\\nLonger run: 2'),\n",
       " Document(metadata={'source': '../data/dot_plot_2024_12.csv', 'row': 10}, page_content='Target rate: 3.500\\n2024: \\n2025: \\n2026: \\n2027: \\nLonger run: 2'),\n",
       " Document(metadata={'source': '../data/dot_plot_2024_12.csv', 'row': 11}, page_content='Target rate: 3.375\\n2024: \\n2025: 1\\n2026: 5\\n2027: 1\\nLonger run: 1'),\n",
       " Document(metadata={'source': '../data/dot_plot_2024_12.csv', 'row': 12}, page_content='Target rate: 3.250\\n2024: \\n2025: \\n2026: \\n2027: \\nLonger run: '),\n",
       " Document(metadata={'source': '../data/dot_plot_2024_12.csv', 'row': 13}, page_content='Target rate: 3.125\\n2024: \\n2025: 1\\n2026: 4\\n2027: 7\\nLonger run: 1'),\n",
       " Document(metadata={'source': '../data/dot_plot_2024_12.csv', 'row': 14}, page_content='Target rate: 3.000\\n2024: \\n2025: \\n2026: \\n2027: \\nLonger run: 3'),\n",
       " Document(metadata={'source': '../data/dot_plot_2024_12.csv', 'row': 15}, page_content='Target rate: 2.875\\n2024: \\n2025: \\n2026: 1\\n2027: 2\\nLonger run: 4'),\n",
       " Document(metadata={'source': '../data/dot_plot_2024_12.csv', 'row': 16}, page_content='Target rate: 2.750\\n2024: \\n2025: \\n2026: 1\\n2027: 1\\nLonger run: 1'),\n",
       " Document(metadata={'source': '../data/dot_plot_2024_12.csv', 'row': 17}, page_content='Target rate: 2.625\\n2024: \\n2025: \\n2026: \\n2027: 1\\nLonger run: 1'),\n",
       " Document(metadata={'source': '../data/dot_plot_2024_12.csv', 'row': 18}, page_content='Target rate: 2.500\\n2024: \\n2025: \\n2026: \\n2027: \\nLonger run: 1'),\n",
       " Document(metadata={'source': '../data/dot_plot_2024_12.csv', 'row': 19}, page_content='Target rate: 2.375\\n2024: \\n2025: \\n2026: 1\\n2027: 1\\nLonger run: 1'),\n",
       " Document(metadata={'source': '../data/dot_plot_2024_12.csv', 'row': 20}, page_content='Target rate: 2.250\\n2024: \\n2025: \\n2026: \\n2027: \\nLonger run: ')]"
      ]
     },
     "execution_count": 6,
     "metadata": {},
     "output_type": "execute_result"
    }
   ],
   "execution_count": 6
  },
  {
   "metadata": {},
   "cell_type": "markdown",
   "source": [
    "#### Document Transformation\n",
    "\n",
    "문서를 가져온 후에는 필요에 더 잘 맞게 수정하는 것이 일반적이다. 기본적인 예로, 긴 문서를 모델의 문맥 창에 맞는 작은 chunk로 나누는 것이 있다. 랭체인에는 text splitters라고 하는 다양한 사전 구축된 문서 변환기가 존재한다. 텍스트 분할기는 문맥 및 관련 정보를 보존하면서 문서를 의미론적 연관성이 있는 청크로 더 쉽게 분할한다.\n",
    "\n",
    "텍스트 분할기를 사용하면 텍스트를 분할하는 방법과 청크의 길이를 측정하는 방법을 결정할 수 있다. 예를 들어, 글자(character) 수준에서 작동하는 `RecursiveCharacterTextSplitter` module을 사용하여 문서를 분할해 보자."
   ],
   "id": "cb5322e4720bf455"
  },
  {
   "metadata": {
    "ExecuteTime": {
     "end_time": "2025-01-01T08:03:58.588847Z",
     "start_time": "2025-01-01T08:03:58.574412Z"
    }
   },
   "cell_type": "code",
   "source": [
    "from langchain.text_splitter import RecursiveCharacterTextSplitter\n",
    "\n",
    "with open('../data/Artificial Intelligence in the Financial System.txt') as file :\n",
    "    text_file = file.read()\n",
    "\n",
    "text_splitter = RecursiveCharacterTextSplitter(\n",
    "    chunk_size = 100,\n",
    "    chunk_overlap = 20,\n",
    "    length_function = len\n",
    ")\n",
    "\n",
    "texts = text_splitter.create_documents([text_file])"
   ],
   "id": "f9b4920d9df7e4fc",
   "outputs": [],
   "execution_count": 7
  },
  {
   "metadata": {},
   "cell_type": "markdown",
   "source": "여기서 `chunk_size`는 각 청크의 글자 수를 나타내고 `chunk_overlap`은 연속된 청크 간에 겹치는 글자 수를 나타낸다. 출력은 다음과 같다",
   "id": "c850594f33fb7076"
  },
  {
   "metadata": {
    "ExecuteTime": {
     "end_time": "2025-01-01T08:05:07.269146Z",
     "start_time": "2025-01-01T08:05:07.263546Z"
    }
   },
   "cell_type": "code",
   "source": [
    "print(texts[0])\n",
    "print(texts[1])\n",
    "print(texts[2])"
   ],
   "id": "8097b2874b25fb22",
   "outputs": [
    {
     "name": "stdout",
     "output_type": "stream",
     "text": [
      "page_content='Discussions of artificial intelligence (AI) inevitably center on two main points: risks and'\n",
      "page_content='points: risks and benefits.1 Both of these can be frustratingly vague and amorphous. Proponents of'\n",
      "page_content='Proponents of AI project its widespread adoption will be as momentous as the industrial'\n"
     ]
    }
   ],
   "execution_count": 9
  },
  {
   "metadata": {},
   "cell_type": "markdown",
   "source": [
    "#### Text Embedding Model\n",
    "\n",
    "embedding은 nonparametic 지식을 LLM에 통합하는 핵심 단계이다. 실제로 embedding이 vector DB에 제대로 저장되면 사용자 쿼리의 거리를 측정할 수 있는 비모수적 지식이 된다.\n",
    "\n",
    "임베딩을 시작하려면 임베딩 모델이 필요한데, 랭체인은 비모수적 지식과 사용자 쿼리의 임베딩을 각각 처리하는 두 가지 주요 모듈로 구성된 `Embedding` 클래스를 제공한다."
   ],
   "id": "89270d19b3ecce3d"
  },
  {
   "metadata": {
    "ExecuteTime": {
     "end_time": "2025-01-01T08:13:51.785079Z",
     "start_time": "2025-01-01T08:13:51.563779Z"
    }
   },
   "cell_type": "code",
   "source": [
    "from langchain_openai import OpenAIEmbeddings\n",
    "from dotenv import load_dotenv\n",
    "\n",
    "load_dotenv()\n",
    "os.environ['OPENAI_API_KEY'] = openai.api_key"
   ],
   "id": "2b90d13a752d931d",
   "outputs": [],
   "execution_count": 10
  },
  {
   "metadata": {
    "ExecuteTime": {
     "end_time": "2025-01-01T08:17:24.339803Z",
     "start_time": "2025-01-01T08:17:23.609215Z"
    }
   },
   "cell_type": "code",
   "source": [
    "embedding_model = OpenAIEmbeddings(model = 'text-embedding-3-small')\n",
    "embeddings = embedding_model.embed_documents(\n",
    "    [\n",
    "        \"Good morning!\",\n",
    "        \"Good afternoon!\",\n",
    "        'Oh, hello!',\n",
    "        'I want to report an accident',\n",
    "        'Sorry to hear that, May I ask your name?',\n",
    "        'Sure, Mario Rossi.',\n",
    "    ]\n",
    ")\n",
    "\n",
    "print('<embedded documents>')\n",
    "print(\n",
    "    f\"Number of vector : {len(embeddings)} \\nDimension of vector : {len(embeddings[0])}\"\n",
    ")"
   ],
   "id": "2dec1df7f4dc5bd8",
   "outputs": [
    {
     "name": "stdout",
     "output_type": "stream",
     "text": [
      "<embedded documents>\n",
      "Number of vector : 6 \n",
      "Dimension of vector : 1536\n"
     ]
    }
   ],
   "execution_count": 13
  },
  {
   "metadata": {},
   "cell_type": "markdown",
   "source": "문서 질의가 모두 임베딩된 후에 할 일은 두 요소 간의 유사도를 계산하고 문서 임베딩에서 가장 적합한 정보를 검색하는 것이다.",
   "id": "13c4cfc05f866675"
  },
  {
   "metadata": {},
   "cell_type": "code",
   "outputs": [],
   "execution_count": 14,
   "source": [
    "embedded_query = embedding_model.embed_query(\n",
    "    \"What was the name mentioned in the conversation?\"\n",
    ")"
   ],
   "id": "3b100ee5aed8a88a"
  },
  {
   "metadata": {},
   "cell_type": "code",
   "outputs": [
    {
     "name": "stdout",
     "output_type": "stream",
     "text": [
      "<questionare>\n",
      "Dimension of ter vector : 1536\n",
      "Sample of the first 5 elements of the vector : [-0.010684116743505001, -0.010173137299716473, -0.0019674645736813545, 0.023056013509631157, -0.02686513401567936]\n"
     ]
    }
   ],
   "execution_count": 15,
   "source": [
    "print('<questionare>')\n",
    "print(f\"Dimension of ter vector : {len(embeddings[0])}\")\n",
    "print(f\"Sample of the first 5 elements of the vector : {embedded_query[:5]}\")"
   ],
   "id": "780fd8bfbe253059"
  },
  {
   "metadata": {},
   "cell_type": "markdown",
   "source": [
    "#### Vector Database\n",
    "\n",
    "Vector DB는 임베딩을 사용하여 텍스트, 이미지, 오디오 또는 비디오와 같은 비정형 데이터를 저장하고 검색할 수 있는 데이터베이스의 한 유형이다. 임베딩을 사용하면 벡터 저장소는 빠르고 정확한 유사도 검색, 즉 주어진 쿼리에 가장 관련성이 높은 데이터를 사용할 수 있다. 여기서는 고밀도 벡터의 효율적인 유사도 검색 및 클러스터링을 위해 META AI Research에서 개발한 FAISS Vector storage를 사용해 보자."
   ],
   "id": "1d7ec7428caf1188"
  },
  {
   "metadata": {
    "ExecuteTime": {
     "end_time": "2025-01-01T08:29:01.673541Z",
     "start_time": "2025-01-01T08:29:01.641857Z"
    }
   },
   "cell_type": "code",
   "source": [
    "from langchain.document_loaders import TextLoader\n",
    "from langchain.embeddings.openai import OpenAIEmbeddings\n",
    "from langchain.text_splitter import CharacterTextSplitter\n",
    "from langchain.vectorstores import FAISS\n",
    "from dotenv import load_dotenv\n",
    "\n",
    "load_dotenv()\n",
    "os.environ['OPENAI_API_KEY'] = openai.api_key"
   ],
   "id": "93e7d03a7d64ac4d",
   "outputs": [],
   "execution_count": 16
  },
  {
   "metadata": {
    "ExecuteTime": {
     "end_time": "2025-01-01T08:31:18.071392Z",
     "start_time": "2025-01-01T08:31:17.173281Z"
    }
   },
   "cell_type": "code",
   "source": [
    "raw_documents = TextLoader('../data/Artificial Intelligence in the Financial System.txt').load()\n",
    "text_splitter = CharacterTextSplitter(\n",
    "    chunk_size = 1100,\n",
    "    chunk_overlap = 0,\n",
    "    separator = '\\n'\n",
    ")\n",
    "documents = text_splitter.split_documents(raw_documents)\n",
    "db = FAISS.from_documents(documents, OpenAIEmbeddings())"
   ],
   "id": "bd7e7d03148da397",
   "outputs": [],
   "execution_count": 19
  },
  {
   "metadata": {},
   "cell_type": "markdown",
   "source": "이제 비모수적 지식을 임베딩하고 저장했으니, 코사인 유사도를 측정값으로 사용하여 가장 유사한 텍스트 청크를 검색하는 데 사용할 수 있도록 사용자의 쿼리도 임베딩해 보자",
   "id": "df5c889e9e4e39b4"
  },
  {
   "metadata": {
    "ExecuteTime": {
     "end_time": "2025-01-01T08:35:27.607513Z",
     "start_time": "2025-01-01T08:35:26.781080Z"
    }
   },
   "cell_type": "code",
   "source": [
    "query = \"How does AI affect the financial system?\"\n",
    "docs = db.similarity_search(query)\n",
    "print(docs[0].page_content)"
   ],
   "id": "44408a3d6204489c",
   "outputs": [
    {
     "name": "stdout",
     "output_type": "stream",
     "text": [
      "Looking at the financial industry-specific implications of AI, it is helpful to consider not only how it may change the financial system, but also how regulatory frameworks should respond to this emerging technology. Are the existing frameworks sufficient? If not, how can regulators best balance the risks AI may pose to bank safety and soundness and financial stability with the need to allow for continued innovation?\n",
      "Broader availability of generative AI and large language models have created headlines and spiking stock prices, but the financial services sector has been using AI for some time.2 Over time, it has become clear that AI's impact could be far-reaching, particularly as the technology becomes more efficient, new sources of data become available, and as AI technology becomes more affordable.\n",
      "Do We Need a Definition of AI?\n"
     ]
    }
   ],
   "execution_count": 21
  },
  {
   "metadata": {},
   "cell_type": "markdown",
   "source": "출력은 질문에 대한 답을 포함할 가능성이 더 높은 텍스트 조각이다. 엔드 투 엔드 시나리오에서는 대화형 응답을 생성하기 위한 LLM의 문맥으로 사용된다.",
   "id": "25929499f8f1d565"
  },
  {
   "metadata": {},
   "cell_type": "markdown",
   "source": [
    "#### Retrievers\n",
    "\n",
    "검색기는 자연어 질문이나 키워드와 같은 비정형 쿼리와 관련된 문서를 반환할 수 있는 랭체인의 구성 요소이다. 검색기는 문서 자체를 저장할 필요 없이 source에서 문서를 검색하기만 하면 된다. 검색기는 키워드 매칭, 의미론적 검색, 순위 알고리즘 등 다양한 방법을 사용해 관련 문서를 찾을 수 있다.\n",
    "\n",
    "검색기와 벡터 저장소의 차이점은 검색기가 벡터 저장소보다 더 일반적이고 유연하다는 점이다. 검색기는 모든 방법을 사용해 관련 문서를 찾을 수 있는 반면, 벡터 저장소는 임베딩과 유사도 메트릭에 의존한다. 또한 검색기는 웹 페이지, 데이터베이스, 파일 등 다양한 문서 소스를 사용할 수 있는 반면, 벡터 저장소는 데이터 자체를 저장해야 한다.\n",
    "\n",
    "그러나 데이터가 벡터 저장소에 의해 임베딩되고 색인된 경우, 벡터 저장소를 검색기의 백본으로 사용할 수도 있다. 이 경우 검색기는 벡터 저장소를 사용하여 임베딩된 데이터에 대해 유사도 검색을 수행하고 가장 관련성이 높은 문서를 반환할 수 있다. 이것은 랭체인의 주요 검색기 유형 중 하나이며, 벡터 저장소 검색기라고 불린다.\n",
    "\n",
    "예를 들어서, 이전에 초기화했던 FAISS 벡터 저장소를 고려하고 그 위에 검색기를 마운팅해 보자."
   ],
   "id": "b09415a6b1834cb0"
  },
  {
   "metadata": {
    "ExecuteTime": {
     "end_time": "2025-01-01T08:49:03.805762Z",
     "start_time": "2025-01-01T08:49:01.643345Z"
    }
   },
   "cell_type": "code",
   "source": [
    "from langchain.chains import RetrievalQA\n",
    "from langchain_openai import OpenAI\n",
    "\n",
    "retriever = db.as_retriever()\n",
    "qa = RetrievalQA.from_chain_type(\n",
    "    llm = OpenAI(), \n",
    "    chain_type = 'stuff',\n",
    "    retriever = retriever\n",
    ")\n",
    "query = \"How does AI affect the financial system?\"\n",
    "qa.invoke(query)"
   ],
   "id": "1ce8c63c957b8fec",
   "outputs": [
    {
     "data": {
      "text/plain": [
       "{'query': 'How does AI affect the financial system?',\n",
       " 'result': ' AI has the potential to reshape the financial services industry and the broader world economy, with potential benefits such as improved efficiency, lower operational costs, and better fraud prevention and customer service. However, there are also risks to consider, such as model risks, data management and governance concerns, and cybersecurity threats. There is a need for continued monitoring and regulation to balance these risks with the potential for innovation and competition in the financial system.'}"
      ]
     },
     "execution_count": 23,
     "metadata": {},
     "output_type": "execute_result"
    }
   ],
   "execution_count": 23
  }
 ],
 "metadata": {
  "kernelspec": {
   "display_name": "Python 3",
   "language": "python",
   "name": "python3"
  },
  "language_info": {
   "codemirror_mode": {
    "name": "ipython",
    "version": 2
   },
   "file_extension": ".py",
   "mimetype": "text/x-python",
   "name": "python",
   "nbconvert_exporter": "python",
   "pygments_lexer": "ipython2",
   "version": "2.7.6"
  }
 },
 "nbformat": 4,
 "nbformat_minor": 5
}
