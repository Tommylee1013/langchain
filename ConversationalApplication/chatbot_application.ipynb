{
 "cells": [
  {
   "metadata": {},
   "cell_type": "markdown",
   "source": "### 1. 단순한 기본형 봇 만들기",
   "id": "7e837ebadb290408"
  },
  {
   "metadata": {
    "ExecuteTime": {
     "end_time": "2025-01-03T16:13:45.673275Z",
     "start_time": "2025-01-03T16:13:45.669616Z"
    }
   },
   "cell_type": "code",
   "source": [
    "import numpy as np\n",
    "import pandas as pd\n",
    "import openai\n",
    "from openai import OpenAI\n",
    "import os\n",
    "import warnings\n",
    "warnings.filterwarnings(\"ignore\")\n",
    "\n",
    "with open('../config/api.key') as file :\n",
    "    lines = file.readlines()\n",
    "    api_key = lines[0].strip()\n",
    "    serp_api_key = lines[1].strip()\n",
    "    langsmith_api_key = lines[2].strip()\n",
    "\n",
    "openai.api_key = api_key\n",
    "os.environ['OPENAI_API_KEY'] = openai.api_key"
   ],
   "id": "f9f319e63976eec8",
   "outputs": [],
   "execution_count": 7
  },
  {
   "cell_type": "code",
   "id": "initial_id",
   "metadata": {
    "collapsed": true,
    "ExecuteTime": {
     "end_time": "2025-01-03T16:13:46.315736Z",
     "start_time": "2025-01-03T16:13:46.271111Z"
    }
   },
   "source": [
    "from langchain.schema import (\n",
    "    AIMessage,\n",
    "    HumanMessage,\n",
    "    SystemMessage\n",
    ")\n",
    "from langchain.chains import LLMChain, ConversationChain\n",
    "from langchain_openai import ChatOpenAI\n",
    "\n",
    "chat = ChatOpenAI()\n",
    "\n",
    "message = [\n",
    "    SystemMessage(\n",
    "        content = \"당신은 사용자가 최적화된 투자 의사결정을 내리도록 도움을 주는 유용한 도우미입니다.\"\n",
    "    ),\n",
    "    HumanMessage(\n",
    "        content = \"저는 애플(AAPL)을 1년동안 투자하고 있는데, 앞으로 계속 추가 매수를 하는게 좋을까요?\"\n",
    "    )\n",
    "]"
   ],
   "outputs": [],
   "execution_count": 8
  },
  {
   "metadata": {
    "ExecuteTime": {
     "end_time": "2025-01-03T16:13:52.496572Z",
     "start_time": "2025-01-03T16:13:46.980113Z"
    }
   },
   "cell_type": "code",
   "source": [
    "output = chat.invoke(message)\n",
    "print(output.content)"
   ],
   "id": "c776cd7fac2e445",
   "outputs": [
    {
     "name": "stdout",
     "output_type": "stream",
     "text": [
      "애플(AAPL)은 기술 기업으로서 현재 시장에서 안정적이고 성장하는 기업으로 평가받고 있습니다. 하지만 투자의사결정은 개인의 투자목표, 투자기간, 위험 선호도 등을 고려해야 합니다. 추가 매수를 고려할 때 고려해야 할 몇 가지 사항이 있습니다.\n",
      "\n",
      "1. 재무제표 분석: 애플의 재무건전성과 수익성을 분석해야 합니다. 매출액, 순이익, 자산가치 등을 확인하여 기업의 건강한 재무 상태를 확인할 수 있습니다.\n",
      "\n",
      "2. 시장 분석: 애플이 속한 산업과 시장의 트렌드를 파악해야 합니다. 기술 산업이 미래에 어떻게 변화할지 고려해야 합니다.\n",
      "\n",
      "3. 기업 분석: 애플의 제품 라인업, 혁신력, 경쟁력 등을 분석하여 기업이 성장할 여지가 있는지 확인해야 합니다.\n",
      "\n",
      "4. 주가 분석: 현재 애플의 주가가 적정한 가치에 있는지, 과도하게 고평가되었는지 등을 분석하여 추가 매수의 타이밍을 결정할 수 있습니다.\n",
      "\n",
      "따라서, 추가 매수를 고려할 때에는 위와 같은 요인들을 종합적으로 고려하여 결정하는 것이 중요합니다. 또한, 투자에 대한 충분한 연구와 정보 수집을 통해 최선의 결정을 내리는 것이 중요합니다. 만약 추가로 도움이 필요하다면 금융 전문가와 상담을 하는 것을 권장합니다.\n"
     ]
    }
   ],
   "execution_count": 9
  },
  {
   "metadata": {},
   "cell_type": "markdown",
   "source": [
    "### 2. 기억 추가하기\n",
    "\n",
    "이 시나리오는 비교적 짧은 메세지로 대화형 봇을 만드는 것이므로 `ConversationBufferMemory`로 충분할 것이다. 더 쉽게 구성할 수 있게 LLM과 메모리 컴포넌트를 결합하기 위해 `ConversationChain`도 초기화해 보자. "
   ],
   "id": "cf26c894f974e4e7"
  },
  {
   "metadata": {
    "ExecuteTime": {
     "end_time": "2025-01-03T16:14:00.031234Z",
     "start_time": "2025-01-03T16:14:00.028378Z"
    }
   },
   "cell_type": "code",
   "source": [
    "from langchain.memory import ConversationBufferMemory\n",
    "from langchain.chains import ConversationChain\n",
    "\n",
    "memory = ConversationBufferMemory()\n",
    "conversation = ConversationChain(\n",
    "    llm = chat,\n",
    "    verbose = True,\n",
    "    memory = memory\n",
    ")"
   ],
   "id": "6bcda6907f7c68b0",
   "outputs": [],
   "execution_count": 10
  },
  {
   "metadata": {
    "ExecuteTime": {
     "end_time": "2025-01-03T16:14:13.366371Z",
     "start_time": "2025-01-03T16:14:12.826148Z"
    }
   },
   "cell_type": "code",
   "source": "conversation.invoke(\"안녕하세요!\")",
   "id": "ece7cc50c4fcaa63",
   "outputs": [
    {
     "name": "stdout",
     "output_type": "stream",
     "text": [
      "\n",
      "\n",
      "\u001B[1m> Entering new ConversationChain chain...\u001B[0m\n",
      "Prompt after formatting:\n",
      "\u001B[32;1m\u001B[1;3mThe following is a friendly conversation between a human and an AI. The AI is talkative and provides lots of specific details from its context. If the AI does not know the answer to a question, it truthfully says it does not know.\n",
      "\n",
      "Current conversation:\n",
      "\n",
      "Human: 안녕하세요!\n",
      "AI:\u001B[0m\n",
      "\n",
      "\u001B[1m> Finished chain.\u001B[0m\n"
     ]
    },
    {
     "data": {
      "text/plain": [
       "{'input': '안녕하세요!', 'history': '', 'response': ' 안녕하세요! 어떻게 도와 드릴까요?'}"
      ]
     },
     "execution_count": 11,
     "metadata": {},
     "output_type": "execute_result"
    }
   ],
   "execution_count": 11
  },
  {
   "metadata": {
    "ExecuteTime": {
     "end_time": "2025-01-03T16:16:52.507340Z",
     "start_time": "2025-01-03T16:16:50.947599Z"
    }
   },
   "cell_type": "code",
   "source": "conversation.invoke('2025년에 성장가능성이 높은 산업은 무엇인가요?')",
   "id": "1a7057c776d269b4",
   "outputs": [
    {
     "name": "stdout",
     "output_type": "stream",
     "text": [
      "\n",
      "\n",
      "\u001B[1m> Entering new ConversationChain chain...\u001B[0m\n",
      "Prompt after formatting:\n",
      "\u001B[32;1m\u001B[1;3mThe following is a friendly conversation between a human and an AI. The AI is talkative and provides lots of specific details from its context. If the AI does not know the answer to a question, it truthfully says it does not know.\n",
      "\n",
      "Current conversation:\n",
      "Human: 안녕하세요!\n",
      "AI:  안녕하세요! 어떻게 도와 드릴까요?\n",
      "Human: 2025년에 성장가능성이 높은 산업은 무엇인가요?\n",
      "AI:\u001B[0m\n",
      "\n",
      "\u001B[1m> Finished chain.\u001B[0m\n"
     ]
    },
    {
     "data": {
      "text/plain": [
       "{'input': '2025년에 성장가능성이 높은 산업은 무엇인가요?',\n",
       " 'history': 'Human: 안녕하세요!\\nAI:  안녕하세요! 어떻게 도와 드릴까요?',\n",
       " 'response': '2025년에는 인공지능, 사물인터넷, 빅데이터, 사물인터넷, 사이버 보안 및 생명 과학 분야가 성장 가능성이 높을 것으로 예상됩니다. 특히 인공지능과 빅데이터 분야는 계속해서 발전하여 많은 기회를 제공할 것으로 보입니다.'}"
      ]
     },
     "execution_count": 12,
     "metadata": {},
     "output_type": "execute_result"
    }
   ],
   "execution_count": 12
  },
  {
   "metadata": {},
   "cell_type": "markdown",
   "source": "체인에서 볼 수 있듯이 이전 상호 작용을 추적하고 있다.",
   "id": "8a10aa7d2ba456e"
  },
  {
   "metadata": {
    "ExecuteTime": {
     "end_time": "2025-01-03T16:17:44.222282Z",
     "start_time": "2025-01-03T16:17:42.655374Z"
    }
   },
   "cell_type": "code",
   "source": "conversation.invoke('성장가능성이 희박한 산업도 말해 주세요')",
   "id": "db431bea51662544",
   "outputs": [
    {
     "name": "stdout",
     "output_type": "stream",
     "text": [
      "\n",
      "\n",
      "\u001B[1m> Entering new ConversationChain chain...\u001B[0m\n",
      "Prompt after formatting:\n",
      "\u001B[32;1m\u001B[1;3mThe following is a friendly conversation between a human and an AI. The AI is talkative and provides lots of specific details from its context. If the AI does not know the answer to a question, it truthfully says it does not know.\n",
      "\n",
      "Current conversation:\n",
      "Human: 안녕하세요!\n",
      "AI:  안녕하세요! 어떻게 도와 드릴까요?\n",
      "Human: 2025년에 성장가능성이 높은 산업은 무엇인가요?\n",
      "AI: 2025년에는 인공지능, 사물인터넷, 빅데이터, 사물인터넷, 사이버 보안 및 생명 과학 분야가 성장 가능성이 높을 것으로 예상됩니다. 특히 인공지능과 빅데이터 분야는 계속해서 발전하여 많은 기회를 제공할 것으로 보입니다.\n",
      "Human: 성장가능성이 희박한 산업도 말해 주세요\n",
      "AI:\u001B[0m\n",
      "\n",
      "\u001B[1m> Finished chain.\u001B[0m\n"
     ]
    },
    {
     "data": {
      "text/plain": [
       "{'input': '성장가능성이 희박한 산업도 말해 주세요',\n",
       " 'history': 'Human: 안녕하세요!\\nAI:  안녕하세요! 어떻게 도와 드릴까요?\\nHuman: 2025년에 성장가능성이 높은 산업은 무엇인가요?\\nAI: 2025년에는 인공지능, 사물인터넷, 빅데이터, 사물인터넷, 사이버 보안 및 생명 과학 분야가 성장 가능성이 높을 것으로 예상됩니다. 특히 인공지능과 빅데이터 분야는 계속해서 발전하여 많은 기회를 제공할 것으로 보입니다.',\n",
       " 'response': '성장가능성이 희박한 산업으로는 전통적인 제조업, 일부 광업 및 석유화학 산업 등이 있습니다. 이러한 산업들은 기술 혁신과 경쟁력 부족으로 인해 미래에는 성장 가능성이 낮을 수 있습니다.'}"
      ]
     },
     "execution_count": 13,
     "metadata": {},
     "output_type": "execute_result"
    }
   ],
   "execution_count": 13
  },
  {
   "metadata": {},
   "cell_type": "markdown",
   "source": "봇은 우리의 요청이 이전 답변과 관련이 있다는 것을 이해할 수 있다. 또한 `memory.load_memory_variables()` method를 사용해 메세지 이력을 검색할 수도 있다.",
   "id": "1edada4267328956"
  },
  {
   "metadata": {
    "ExecuteTime": {
     "end_time": "2025-01-04T08:56:55.625075Z",
     "start_time": "2025-01-04T08:56:55.622309Z"
    }
   },
   "cell_type": "code",
   "source": "memory.load_memory_variables('성장가능성이 희박한 산업도 말해 주세요')",
   "id": "a03a1d30e6681f83",
   "outputs": [
    {
     "data": {
      "text/plain": [
       "{'history': 'Human: 안녕하세요!\\nAI:  안녕하세요! 어떻게 도와 드릴까요?\\nHuman: 2025년에 성장가능성이 높은 산업은 무엇인가요?\\nAI: 2025년에는 인공지능, 사물인터넷, 빅데이터, 사물인터넷, 사이버 보안 및 생명 과학 분야가 성장 가능성이 높을 것으로 예상됩니다. 특히 인공지능과 빅데이터 분야는 계속해서 발전하여 많은 기회를 제공할 것으로 보입니다.\\nHuman: 성장가능성이 희박한 산업도 말해 주세요\\nAI: 성장가능성이 희박한 산업으로는 전통적인 제조업, 일부 광업 및 석유화학 산업 등이 있습니다. 이러한 산업들은 기술 혁신과 경쟁력 부족으로 인해 미래에는 성장 가능성이 낮을 수 있습니다.'}"
      ]
     },
     "execution_count": 16,
     "metadata": {},
     "output_type": "execute_result"
    }
   ],
   "execution_count": 16
  },
  {
   "metadata": {},
   "cell_type": "markdown",
   "source": "모든 상호 작용에서 `conversation.invoke` method를 실행하는 대신 `while` 반복문을 사용해 대화형으로 코딩할 수 있다.",
   "id": "4699d46f25441187"
  },
  {
   "metadata": {
    "ExecuteTime": {
     "end_time": "2025-01-04T09:03:46.628419Z",
     "start_time": "2025-01-04T09:03:46.607753Z"
    }
   },
   "cell_type": "code",
   "source": [
    "from langchain.prompts import (\n",
    "    ChatPromptTemplate,\n",
    "    MessagesPlaceholder,\n",
    "    SystemMessagePromptTemplate,\n",
    "    HumanMessagePromptTemplate,\n",
    ")\n",
    "from langchain.memory import ConversationBufferMemory\n",
    "\n",
    "\n",
    "prompt = ChatPromptTemplate.from_messages(\n",
    "    messages=[\n",
    "        SystemMessagePromptTemplate.from_template(\n",
    "            \"You are a helpful assistant that help the user to invest optimized stock portfolio.\"\n",
    "        ),\n",
    "        MessagesPlaceholder(variable_name=\"chat_history\"),\n",
    "        HumanMessagePromptTemplate.from_template(\"{question}\")\n",
    "    ]\n",
    ")\n",
    "\n",
    "memory = ConversationBufferMemory(memory_key=\"chat_history\",return_messages=True)\n",
    "conversation = LLMChain(\n",
    "    llm=chat,\n",
    "    prompt=prompt,\n",
    "    verbose=False,\n",
    "    memory=memory\n",
    ")"
   ],
   "id": "aa05c19d7a444a78",
   "outputs": [],
   "execution_count": 19
  },
  {
   "metadata": {
    "ExecuteTime": {
     "end_time": "2025-01-04T09:05:21.428341Z",
     "start_time": "2025-01-04T09:04:39.096042Z"
    }
   },
   "cell_type": "code",
   "source": [
    "while True :\n",
    "    query = input('input conversation (q to quit): ')\n",
    "    if query == 'q':\n",
    "        print('Quit the chatbot')\n",
    "        break\n",
    "    output = conversation({'question':query})\n",
    "    print('user: ', query)\n",
    "    print('AI system: ', output['text'])"
   ],
   "id": "37f1044b717fbb9b",
   "outputs": [
    {
     "name": "stdout",
     "output_type": "stream",
     "text": [
      "user:  퀀텀 컴퓨팅 테마가 끝난 뒤 상승할 미국 주식 테마는 뭘까?\n",
      "AI system:  퀀텀 컴퓨팅 테마가 끝나면 다양한 미국 주식 테마 중에서 성장 가능성이 있는 분야를 고려해볼 수 있습니다. 몇 가지 주목할 만한 테마들을 소개해드리겠습니다:\n",
      "\n",
      "1. 인공지능(AI) 및 자동화 기술: 인공지능 기술은 다양한 산업 분야에서 혁신을 이끌고 있으며, 자동화 기술도 더 많은 기업들이 도입하고 있습니다. AI 및 자동화 기술 관련 기업들은 향후 성장 가능성이 높을 것으로 예상됩니다.\n",
      "\n",
      "2. 사물인터넷(IoT) 및 스마트 시티: IoT 기술은 물류, 건설, 제조업 등 다양한 산업 분야에서 활용되고 있으며, 스마트 시티 관련 기술도 더 많은 관심을 받고 있습니다. 이러한 분야의 기업들이 향후 성장할 수 있는 가능성이 있습니다.\n",
      "\n",
      "3. 친환경 및 신재생 에너지: 친환경 및 신재생 에너지 기술은 환경 보호 및 기후 변화 대응을 위해 더 많은 관심을 받고 있습니다. 태양광, 풍력 에너지 등의 신재생 에너지 기업들이 향후 성장할 수 있는 가능성이 있습니다.\n",
      "\n",
      "이 외에도 의료기술, 클라우드 컴퓨팅, 사이버보안 등의 분야도 향후 성장 가능성이 있는 주식 테마로 고려될 수 있습니다. 투자를 고려하실 때에는 해당 분야의 시장 동향과 기업 분석을 통해 신중하게 결정하시는 것이 좋습니다.\n",
      "user:  항공우주 관련 테마는 앞으로 상승할 가능성이 높을까?\n",
      "AI system:  항공우주 관련 테마는 향후 상승할 가능성이 있다고 볼 수 있습니다. 여러 이유로 인해 항공우주 산업이 성장하는 추세에 있습니다.\n",
      "\n",
      "1. 항공 여행 수요 증가: 코로나19로 인해 항공 여행이 감소했지만, 백신 보급과 여행 제한의 완화로 항공 여행 수요가 증가할 것으로 예상됩니다.\n",
      "\n",
      "2. 항공기 수요 증가: 항공사들이 새로운 항공기를 도입하거나 기존 항공기를 교체하는 수요가 증가할 것으로 예상됩니다.\n",
      "\n",
      "3. 우주 산업 발전: 우주 탐사, 우주 여행, 위성 발사 등의 우주 산업이 성장하고 있으며, 민간 우주 기업들의 활동도 증가하고 있습니다.\n",
      "\n",
      "이러한 이유로 항공우주 관련 기업들은 향후 성장 가능성이 있을 수 있습니다. 하지만 투자를 고려할 때에는 해당 기업의 재무 건전성, 기술력, 경쟁력, 시장 점유율 등을 면밀히 분석하고 투자 결정을 내리는 것이 중요합니다. 또한, 산업 전반의 동향과 정책 변화 등을 주의 깊게 관찰하여 투자할 수 있는 기회를 찾는 것이 좋습니다.\n",
      "user:  사이버 보안과 관련된 주식은 뭐가 있어?\n",
      "AI system:  사이버 보안과 관련된 주식을 탐색하실 때에는 주요 사이버 보안 기업을 중심으로 찾아보시는 것이 좋습니다. 몇 가지 유명한 사이버 보안 기업들을 소개해드리겠습니다.\n",
      "\n",
      "1. **CrowdStrike Holdings, Inc. (CRWD)**: 클라우드 네이티브 플랫폼과 인공지능을 활용한 최첨단 사이버 보안 솔루션을 제공하는 기업으로, 현재 사이버 보안 시장에서 선두 주자 중 하나로 평가받고 있습니다.\n",
      "\n",
      "2. **Palo Alto Networks, Inc. (PANW)**: 네트워크 보안 및 클라우드 보안 솔루션을 제공하는 기업으로, 기업 및 기관들의 사이버 보안을 위한 종합적인 솔루션을 제공하고 있습니다.\n",
      "\n",
      "3. **Check Point Software Technologies Ltd. (CHKP)**: 네트워크 보안 및 엔드포인트 보안 솔루션을 제공하는 이스라엘 기반의 사이버 보안 기업으로, 글로벌 기업 및 기관들에 안정적인 보안 솔루션을 제공하고 있습니다.\n",
      "\n",
      "4. **Fortinet, Inc. (FTNT)**: 네트워크 보안, 엔드포인트 보안, 클라우드 보안 등 다양한 보안 솔루션을 제공하는 기업으로, 기업들의 사이버 보안을 위한 종합적인 솔루션을 제공하고 있습니다.\n",
      "\n",
      "이외에도 많은 사이버 보안 기업들이 있으며, 해당 기업들의 재무 건전성, 기술력, 시장 점유율 등을 분석하여 투자 결정을 내리시는 것이 중요합니다. 또한, 사이버 보안 산업의 성장 가능성과 시장 동향을 주의 깊게 살피는 것이 좋습니다.\n",
      "Quit the chatbot\n"
     ]
    }
   ],
   "execution_count": 21
  },
  {
   "metadata": {},
   "cell_type": "markdown",
   "source": "보다시피, 이제 AI어시스턴트는 전체 대화를 추적할 수 있다.",
   "id": "2c01de7eada6c0a5"
  },
  {
   "metadata": {},
   "cell_type": "markdown",
   "source": [
    "### 3. 비모수적 지식의 추가\n",
    "\n",
    "개발에 있어서 학습에 사용된 모수적 지식 뿐만이 아닌, 사용자가 독자적으로 가지고 있는 비모수적 지식을 활용한다면 더 좋은 접근 방법이 될 수 있다. 이를 위해 문서를 vector DB에 임베딩하거나 검색기를 직접 사용하여 작업을 수행할 수 있다. 이 경우 `ConversationalRetrevalChain`을 사용하는 벡터 저장소 기반 검색기를 사용할 것이다. `ConversationalRetrevalChain`은 제공된 지식 베이스에 대한 검색기를 활용한다. 이 체인은 채팅 기록을 처리할 수 있으며, 이 채팅 기록은 이전에 설명한 원하는 유형의 메모리 (example : `ConversationBufferMemory`)를 사용해 매개변수로 전달된다. `ConversationalRetrevalChain`은 이러한 방식으로 현재의 대화 맥락을 고려하면서 지식 베이스에서 관련 정보를 검색할 수 있다.\n",
    "\n",
    "이 예제를 위해 아래의 필요한 모든 요소를 초기화한다.\n",
    "\n",
    "- document loader : 문서가 PDF형식이므로 `PyPDFLoader`를 사용한다\n",
    "- text splitter : 지정된 문자들을 기준으로 텍스트를 재귀적으로 분할하는 `RecursiveCharacterTextSplitter`를 사용한다\n",
    "- vector database : `FIASS` vector DB를 사용한다\n",
    "- memory : `ConversationBufferMemory`를 사용한다\n",
    "- LLM : 대화에는 `gpt-4o-mini` 모델을 사용한다\n",
    "- embedding : `text-embedding-ada-002`를 사용한다"
   ],
   "id": "3ae4880609693e40"
  },
  {
   "metadata": {
    "ExecuteTime": {
     "end_time": "2025-01-04T09:25:38.056751Z",
     "start_time": "2025-01-04T09:25:36.705935Z"
    }
   },
   "cell_type": "code",
   "source": [
    "from langchain_openai import ChatOpenAI, OpenAIEmbeddings\n",
    "from langchain.text_splitter import RecursiveCharacterTextSplitter\n",
    "from langchain.vectorstores import FAISS\n",
    "from langchain.document_loaders import PyPDFLoader\n",
    "from langchain.chains import ConversationalRetrievalChain\n",
    "from langchain.memory import ConversationBufferMemory\n",
    "\n",
    "text_splitter = RecursiveCharacterTextSplitter(\n",
    "    chunk_size = 1500,\n",
    "    chunk_overlap = 200\n",
    ")\n",
    "\n",
    "raw_documents = PyPDFLoader('../data/portfolio_management_giude.pdf').load()\n",
    "documents = text_splitter.split_documents(raw_documents)\n",
    "db = FAISS.from_documents(documents, OpenAIEmbeddings())"
   ],
   "id": "b66f60fe7102c571",
   "outputs": [
    {
     "name": "stderr",
     "output_type": "stream",
     "text": [
      "Ignoring wrong pointing object 53 0 (offset 0)\n"
     ]
    }
   ],
   "execution_count": 23
  },
  {
   "metadata": {
    "ExecuteTime": {
     "end_time": "2025-01-04T09:26:13.573837Z",
     "start_time": "2025-01-04T09:26:13.570886Z"
    }
   },
   "cell_type": "code",
   "source": [
    "memory = ConversationBufferMemory(\n",
    "    memory_key = 'chat_history',\n",
    "    return_messages = True\n",
    ")"
   ],
   "id": "d904759892a34fa9",
   "outputs": [],
   "execution_count": 24
  },
  {
   "metadata": {
    "ExecuteTime": {
     "end_time": "2025-01-04T09:26:23.366079Z",
     "start_time": "2025-01-04T09:26:23.326357Z"
    }
   },
   "cell_type": "code",
   "source": "llm = ChatOpenAI()",
   "id": "f0da3ddc552dcff",
   "outputs": [],
   "execution_count": 25
  },
  {
   "metadata": {},
   "cell_type": "markdown",
   "source": "이제 체인과 상호 작용해 보자",
   "id": "d14465a1ef0f8639"
  },
  {
   "metadata": {
    "ExecuteTime": {
     "end_time": "2025-01-04T09:30:00.046250Z",
     "start_time": "2025-01-04T09:29:56.603998Z"
    }
   },
   "cell_type": "code",
   "source": [
    "qa_chain = ConversationalRetrievalChain.from_llm(\n",
    "    llm, retriever = db.as_retriever(),\n",
    "    memory = memory,\n",
    "    verbose = True\n",
    ")\n",
    "qa_chain.invoke(\n",
    "    {'question':'포트폴리오 운용 원칙에 대해서 설명해 줘'}\n",
    ")"
   ],
   "id": "f3653cc9b65ca8f3",
   "outputs": [
    {
     "name": "stdout",
     "output_type": "stream",
     "text": [
      "\n",
      "\n",
      "\u001B[1m> Entering new StuffDocumentsChain chain...\u001B[0m\n",
      "\n",
      "\n",
      "\u001B[1m> Entering new LLMChain chain...\u001B[0m\n",
      "Prompt after formatting:\n",
      "\u001B[32;1m\u001B[1;3mSystem: Use the following pieces of context to answer the user's question. \n",
      "If you don't know the answer, just say that you don't know, don't try to make up an answer.\n",
      "----------------\n",
      "Portfolio Management Guidelines  |  SBA  |  November 20204\n",
      "   \n",
      "1 Principles\n",
      "Art.  1\n",
      "The asset management agreement enables the bank to carry out all \n",
      "transactions it considers necessary in the context of regular asset \n",
      "management by banks. The bank pursues its mandate in good faith \n",
      "and in consideration of the client’s personal requirements that may \n",
      "reasonably be familiar to the bank. The bank acts on a discretionary \n",
      "basis in line with these guidelines, its asset allocation policy, the \n",
      "applicable investment strategy and any instructions set out by the \n",
      "client (including any investment restrictions). The asset management \n",
      "agreement does not authorise the bank to withdraw assets.\n",
      "Implementing provisions\n",
      "5. The bank establishes rules and guidelines regarding its overall invest -\n",
      "ment approach, the investment process, the definition of eligible \n",
      "investment strategies, the investment universe as well as appropriate \n",
      "control and monitoring measures. The bank may implement its portfolio \n",
      "management services uniformly for a number of clients or for clients \n",
      "individually.\n",
      "\n",
      "Portfolio Management Guidelines  |  SBA  |  November 2020 3\n",
      "  \n",
      "Preamble \n",
      "1. The Board of Directors of the Swiss Bankers Association has adopted \n",
      "these Guidelines in order to maintain and enhance the reputation and \n",
      "high quality of Swiss portfolio management in Switzerland as well as on \n",
      "an international level. Assets entrusted to Swiss banks must be managed \n",
      "professionally in the clients’ best interest, even if the clients only give \n",
      "their banks general investment objectives. \n",
      "2. The Guidelines are trade regulations (self-regulation). They have no \n",
      "direct bearing on the contractual relationship between banks and their \n",
      "clients. Such relationships are governed by the legal provisions (in \n",
      "particular by Art. 394 et seq. of the Swiss Code of Obligations) and  \n",
      "by the relevant agreements between banks and clients (e.  g. asset \n",
      "management agreement, the banks’ general business conditions etc.). \n",
      "3. In areas governed by specific legislation (e.  g. Federal Act on Financial \n",
      "Services (FINSA), OPA on pension funds, CISA on collective investment \n",
      "schemes, and the associated regulations or selfregulatory regimes), the \n",
      "relevant special provisions take precedence over these Guidelines. \n",
      "4. Institutional clients according to art. 4 par. 3 lit. a  – d and professional \n",
      "clients art. 4 par. 3 lit. e – i of the Federal Act on Financial Services \n",
      "(FINSA) are excluded from the provisions of these guidelines.\n",
      "\n",
      "Portfolio Management Guidelines  |  SBA  |  November 2020 11\n",
      "  \n",
      "4 Final Provision \n",
      "Art.  9\n",
      "1 The revised version of these Guidelines comes into force on  \n",
      "1st of January 2022. \n",
      "2 Institutions which complete the changeover to FinSA before the \n",
      "end of the transition period and have notified their audit company \n",
      "thereof in accordance with Art. 106 para. 2 FINSO, may already apply \n",
      "these guidelines from this date.\n",
      "\n",
      "Portfolio Management Guidelines  |  SBA  |  November 20206\n",
      "  \n",
      "3 Performance of the Mandate\n",
      "Art.  3\n",
      "1 The bank ensures that the asset management agreement is per -\n",
      "formed with due diligence. \n",
      "2 The bank must carefully select the investments to be included in the \n",
      "portfolio managed for the client. \n",
      "3 The bank must monitor the client’s portfolio under the asset man -\n",
      "agement agreement and these Guidelines on a regular basis.\n",
      "Implementing provisions\n",
      "9. The bank defines appropriate measures for the diligent and professional \n",
      "use of any investment instrument and asset class, such measures being \n",
      "proportionate to the risk embedded in the selected investment instru -\n",
      "ments and / or asset class. \n",
      "10. The bank must base its investment decisions on reliable sources of \n",
      "information. It must monitor the investments on a regular basis. \n",
      "However, the bank cannot be held responsible for the decline in value  \n",
      "of carefully selected investments. \n",
      "11. The bank must ensure that the managed portfolio complies with the \n",
      "selected investment strategy and client instructions. If necessary, it takes \n",
      "suitable action to restore compliance or agrees an amendment to the \n",
      "asset management agreement with the client. This does not apply to \n",
      "merely short-term deviations caused e.  g. by market fluctuations.\n",
      "Human: 포트폴리오 운용 원칙에 대해서 설명해 줘\u001B[0m\n",
      "\n",
      "\u001B[1m> Finished chain.\u001B[0m\n",
      "\n",
      "\u001B[1m> Finished chain.\u001B[0m\n"
     ]
    },
    {
     "data": {
      "text/plain": [
       "{'question': '포트폴리오 운용 원칙에 대해서 설명해 줘',\n",
       " 'chat_history': [HumanMessage(content='포트폴리오 운용 원칙에 대해서 설명해 줘', additional_kwargs={}, response_metadata={}),\n",
       "  AIMessage(content='포트폴리오 운용 원칙은 은행이 자산 관리 업무를 성실하게 이행하도록 하는 지침입니다. 은행은 고객의 개인적 요구사항을 고려하며, 이에 따른 자산 배분 정책, 투자 전략, 고객의 지시사항 등을 준수하여 자산 운용을 진행합니다. 또한, 적절한 통제 및 모니터링 조치를 시행하여 관리 서비스를 고객에게 제공합니다. 이러한 원칙은 스위스은행협회의 지침으로, 2022년 1월 1일부터 적용됩니다.', additional_kwargs={}, response_metadata={})],\n",
       " 'answer': '포트폴리오 운용 원칙은 은행이 자산 관리 업무를 성실하게 이행하도록 하는 지침입니다. 은행은 고객의 개인적 요구사항을 고려하며, 이에 따른 자산 배분 정책, 투자 전략, 고객의 지시사항 등을 준수하여 자산 운용을 진행합니다. 또한, 적절한 통제 및 모니터링 조치를 시행하여 관리 서비스를 고객에게 제공합니다. 이러한 원칙은 스위스은행협회의 지침으로, 2022년 1월 1일부터 적용됩니다.'}"
      ]
     },
     "execution_count": 26,
     "metadata": {},
     "output_type": "execute_result"
    }
   ],
   "execution_count": 26
  },
  {
   "metadata": {},
   "cell_type": "markdown",
   "source": [
    "`ConversationalRetrievalChain`은 `CONDENSE_QUESTION_PROMPT`라는 프롬프트 템플릿을 사용한다. 이 템플릿은 사용자의 마지막 질문을 채팅 기록과 병합해 검색기에 단일 쿼리로 전달한다. 사용자 정의 프롬프트를 전달하고 싶다면 `ConversationalRetrievalChain.from_llm` method의 `condense_question_prompt` parameter를 사용하면 된다.\n",
    "\n",
    "봇이 문서를 기반으로 답변을 제공할 수 있었지만 여전히 한계가 존재한다. 실제로 이러한 구성에서는 사용자가 제공한 문서만 살펴보게 되는데, 봇이 모수적 지식도 활용하게 하려면 어떻게 해야 할까? 예를 들어서, 봇이 제공된 문서와 통합할 수 있는지 또는 단순히 '자유롭게'답변할 수 있는지를 이해할 수 있기를 원할 수 있다. 이를 위해서는 앱을 에이전트화 해야 하는데, 이는 LLM의 추론 기능을 활용하여 정해진 순서 없이 사용 가능한 도구를 조율하고 호출하는 대신 사용자의 질의에 따라 가장 적합한 접근 방식을 따르는 것을 의미한다. 이를 위해 두 가지 주요 구성 요소를 사용한다.\n",
    "\n",
    "- `create_retriever_tool` : 이 메서드는 에이전트의 검색기 역할을 하는 사용자 지정 도구를 만든다. 검색할 데이터베이스, 이름, 간단한 설명이 있어야 모델이 그것들을 언제 사용할지 알 수 있다.\n",
    "- `create_conversational_retrieval_agent` : 이 메서드는 검색기 및 채팅 모델과 함께 작동하도록 구성된 대화형 에이전트를 초기화한다. 여기에는 LLM, 도구 목록 (이 경우 검색기), 이전 채팅 기록을 추적하기 위한 메모리 키가 필요하다\n",
    "\n",
    "아래의 코드는 에이전트를 초기화하는 방법을 설명한다"
   ],
   "id": "9a348601ccbc740"
  },
  {
   "metadata": {
    "ExecuteTime": {
     "end_time": "2025-01-04T10:04:02.679223Z",
     "start_time": "2025-01-04T10:04:01.101128Z"
    }
   },
   "cell_type": "code",
   "source": [
    "from langchain.prompts.prompt import PromptTemplate\n",
    "\n",
    "custom_template = \"\"\"다음 대화와 후속 질문을 바탕으로, 후속 질문을 독립적인 질문으로 다시 작성하세요.\n",
    "제공된 문서에서 답을 찾을 수 없는 경우, 문서를 무시하고 어쨌든 답변하세요.\n",
    "대화 기록:\n",
    "{chat_history}\n",
    "후속 입력: {question}\n",
    "독립적인 질문:\"\"\"\n",
    "\n",
    "CUSTOM_QUESTION_PROMPT = PromptTemplate.from_template(custom_template)\n",
    "\n",
    "memory = ConversationBufferMemory(\n",
    "    memory_key='chat_history',\n",
    "    return_messages=True\n",
    ")\n",
    "\n",
    "qa_chain = ConversationalRetrievalChain.from_llm(\n",
    "    llm, \n",
    "    retriever=db.as_retriever(), \n",
    "    condense_question_prompt=CUSTOM_QUESTION_PROMPT, \n",
    "    memory=memory, \n",
    "    verbose=True\n",
    ")\n",
    "\n",
    "qa_chain.invoke({'question': '위험선호형 포트폴리오를 구성하기 위해서는 어떻게 해야 하나요?'})"
   ],
   "id": "3fd6978b64bcd21f",
   "outputs": [
    {
     "name": "stdout",
     "output_type": "stream",
     "text": [
      "\n",
      "\n",
      "\u001B[1m> Entering new StuffDocumentsChain chain...\u001B[0m\n",
      "\n",
      "\n",
      "\u001B[1m> Entering new LLMChain chain...\u001B[0m\n",
      "Prompt after formatting:\n",
      "\u001B[32;1m\u001B[1;3mSystem: Use the following pieces of context to answer the user's question. \n",
      "If you don't know the answer, just say that you don't know, don't try to make up an answer.\n",
      "----------------\n",
      "and other commodities, the bank has to ensure that no physical delivery \n",
      "is made to the client. \n",
      "15. Investments in non-traditional investments that do not comply with \n",
      "para. 13, their derivatives and combinations thereof are permissible for \n",
      "the purposes of portfolio diversification provided they are structured \n",
      "according to the Fund-of-Funds Principle (the fund is invested in several \n",
      "legally segregated collective investment schemes) or Multi-Manager-  \n",
      "Principle (i. e., that the collective investment scheme’s portfolio is \n",
      "managed by more than one asset manager, each single asset manager \n",
      "being responsible solely for a specific part of the portfolio) or otherwise \n",
      "guarantee an equivalent diversification.\n",
      "\n",
      "not comply with the standards of Art. 4 below or do not comply with \n",
      "the investment strategy applied. Investments that have (long term) \n",
      "capital call commitments, contingent liabilities or similar conditions or \n",
      "modalities always need a client instruction.\n",
      "\n",
      "Portfolio Management Guidelines  |  SBA  |  November 20208\n",
      "  \n",
      "16. The asset management mandate does not entitle the bank to grant \n",
      "corporate loans to third parties for the client’s account.\n",
      "Art.  5\n",
      "The bank must spread the portfolio risk through sufficient \n",
      "diversification.\n",
      "Implementing provisions\n",
      "17. It avoids cluster risks e.  g. from unusual concentration in an excessively \n",
      "small number of investments.\n",
      "Art.  6\n",
      "Investment of assets is restricted to readily marketable instruments.\n",
      "Implementing provisions\n",
      "18. Ready marketability applies when one of the following criteria is met: \n",
      "• There must be a representative market for the security (on or \n",
      "off-exchange). \n",
      "• The issuer or bank must commit to provide ready marketability equiva -\n",
      "lent to a representative market. \n",
      "• The investment must be redeemable at regular intervals (in case of \n",
      "liquid non-traditional collective investment schemes, at least bi-  \n",
      "weekly; other instruments at least quarterly with a notice period not \n",
      "exceeding 60 days or, alternatively, at least monthly with a notice \n",
      "period not exceeding 90 days).\n",
      "\n",
      "Portfolio Management Guidelines  |  SBA  |  November 2020 3\n",
      "  \n",
      "Preamble \n",
      "1. The Board of Directors of the Swiss Bankers Association has adopted \n",
      "these Guidelines in order to maintain and enhance the reputation and \n",
      "high quality of Swiss portfolio management in Switzerland as well as on \n",
      "an international level. Assets entrusted to Swiss banks must be managed \n",
      "professionally in the clients’ best interest, even if the clients only give \n",
      "their banks general investment objectives. \n",
      "2. The Guidelines are trade regulations (self-regulation). They have no \n",
      "direct bearing on the contractual relationship between banks and their \n",
      "clients. Such relationships are governed by the legal provisions (in \n",
      "particular by Art. 394 et seq. of the Swiss Code of Obligations) and  \n",
      "by the relevant agreements between banks and clients (e.  g. asset \n",
      "management agreement, the banks’ general business conditions etc.). \n",
      "3. In areas governed by specific legislation (e.  g. Federal Act on Financial \n",
      "Services (FINSA), OPA on pension funds, CISA on collective investment \n",
      "schemes, and the associated regulations or selfregulatory regimes), the \n",
      "relevant special provisions take precedence over these Guidelines. \n",
      "4. Institutional clients according to art. 4 par. 3 lit. a  – d and professional \n",
      "clients art. 4 par. 3 lit. e – i of the Federal Act on Financial Services \n",
      "(FINSA) are excluded from the provisions of these guidelines.\n",
      "Human: 위험선호형 포트폴리오를 구성하기 위해서는 어떻게 해야 하나요?\u001B[0m\n",
      "\n",
      "\u001B[1m> Finished chain.\u001B[0m\n",
      "\n",
      "\u001B[1m> Finished chain.\u001B[0m\n"
     ]
    },
    {
     "data": {
      "text/plain": [
       "{'question': '위험선호형 포트폴리오를 구성하기 위해서는 어떻게 해야 하나요?',\n",
       " 'chat_history': [HumanMessage(content='위험선호형 포트폴리오를 구성하기 위해서는 어떻게 해야 하나요?', additional_kwargs={}, response_metadata={}),\n",
       "  AIMessage(content='죄송하지만, 위험선호형 포트폴리오를 구성하는 방법에 대한 정보는 제공할 수 없습니다.', additional_kwargs={}, response_metadata={})],\n",
       " 'answer': '죄송하지만, 위험선호형 포트폴리오를 구성하는 방법에 대한 정보는 제공할 수 없습니다.'}"
      ]
     },
     "execution_count": 29,
     "metadata": {},
     "output_type": "execute_result"
    }
   ],
   "execution_count": 29
  },
  {
   "metadata": {
    "ExecuteTime": {
     "end_time": "2025-01-04T10:06:30.630346Z",
     "start_time": "2025-01-04T10:06:30.584488Z"
    }
   },
   "cell_type": "code",
   "source": [
    "from langchain.agents.agent_toolkits import create_retriever_tool\n",
    "from langchain.memory import ConversationBufferMemory\n",
    "from langchain.agents.agent_toolkits import create_conversational_retrieval_agent\n",
    "from langchain_openai import ChatOpenAI\n",
    "\n",
    "llm = ChatOpenAI(\n",
    "    model = 'gpt-4o-mini',\n",
    "    temperature = 0\n",
    ")\n",
    "\n",
    "tool = create_retriever_tool(\n",
    "    db.as_retriever(),\n",
    "    'portfolio_management',\n",
    "    '포트폴리오 운용에 관한 문서를 검색해서 반환합니다.'\n",
    ")\n",
    "\n",
    "tools = [tool]\n",
    "\n",
    "memory = ConversationBufferMemory(\n",
    "    memory_key = 'chat_history',\n",
    "    return_messages = True,\n",
    "    llm = llm\n",
    ")\n",
    "\n",
    "agent_executor = create_conversational_retrieval_agent(\n",
    "    llm, tools,\n",
    "    memory_key = 'chat_history',\n",
    "    verbose = True\n",
    ")"
   ],
   "id": "a616401ae2a416b9",
   "outputs": [],
   "execution_count": 34
  },
  {
   "metadata": {},
   "cell_type": "markdown",
   "source": "이제 두 가지 다른 질문으로 에이전트의 사고 과정을 살펴보자",
   "id": "6c5fb2e7eb98ba50"
  },
  {
   "metadata": {
    "ExecuteTime": {
     "end_time": "2025-01-04T10:06:46.473672Z",
     "start_time": "2025-01-04T10:06:31.582734Z"
    }
   },
   "cell_type": "code",
   "source": [
    "agent_executor.invoke(\n",
    "    {'input': '포트폴리오 운용 원칙에 대해서 설명해 줘'}\n",
    ")"
   ],
   "id": "9e2e50a7d273f03",
   "outputs": [
    {
     "name": "stdout",
     "output_type": "stream",
     "text": [
      "\n",
      "\n",
      "\u001B[1m> Entering new AgentExecutor chain...\u001B[0m\n",
      "\u001B[32;1m\u001B[1;3m\n",
      "Invoking: `portfolio_management` with `{'query': '포트폴리오 운용 원칙'}`\n",
      "\n",
      "\n",
      "\u001B[0m\u001B[36;1m\u001B[1;3mPortfolio Management Guidelines  |  SBA  |  November 20204\n",
      "   \n",
      "1 Principles\n",
      "Art.  1\n",
      "The asset management agreement enables the bank to carry out all \n",
      "transactions it considers necessary in the context of regular asset \n",
      "management by banks. The bank pursues its mandate in good faith \n",
      "and in consideration of the client’s personal requirements that may \n",
      "reasonably be familiar to the bank. The bank acts on a discretionary \n",
      "basis in line with these guidelines, its asset allocation policy, the \n",
      "applicable investment strategy and any instructions set out by the \n",
      "client (including any investment restrictions). The asset management \n",
      "agreement does not authorise the bank to withdraw assets.\n",
      "Implementing provisions\n",
      "5. The bank establishes rules and guidelines regarding its overall invest -\n",
      "ment approach, the investment process, the definition of eligible \n",
      "investment strategies, the investment universe as well as appropriate \n",
      "control and monitoring measures. The bank may implement its portfolio \n",
      "management services uniformly for a number of clients or for clients \n",
      "individually.\n",
      "\n",
      "Portfolio Management Guidelines  |  SBA  |  November 2020 3\n",
      "  \n",
      "Preamble \n",
      "1. The Board of Directors of the Swiss Bankers Association has adopted \n",
      "these Guidelines in order to maintain and enhance the reputation and \n",
      "high quality of Swiss portfolio management in Switzerland as well as on \n",
      "an international level. Assets entrusted to Swiss banks must be managed \n",
      "professionally in the clients’ best interest, even if the clients only give \n",
      "their banks general investment objectives. \n",
      "2. The Guidelines are trade regulations (self-regulation). They have no \n",
      "direct bearing on the contractual relationship between banks and their \n",
      "clients. Such relationships are governed by the legal provisions (in \n",
      "particular by Art. 394 et seq. of the Swiss Code of Obligations) and  \n",
      "by the relevant agreements between banks and clients (e.  g. asset \n",
      "management agreement, the banks’ general business conditions etc.). \n",
      "3. In areas governed by specific legislation (e.  g. Federal Act on Financial \n",
      "Services (FINSA), OPA on pension funds, CISA on collective investment \n",
      "schemes, and the associated regulations or selfregulatory regimes), the \n",
      "relevant special provisions take precedence over these Guidelines. \n",
      "4. Institutional clients according to art. 4 par. 3 lit. a  – d and professional \n",
      "clients art. 4 par. 3 lit. e – i of the Federal Act on Financial Services \n",
      "(FINSA) are excluded from the provisions of these guidelines.\n",
      "\n",
      "Portfolio Management Guidelines  |  SBA  |  November 20208\n",
      "  \n",
      "16. The asset management mandate does not entitle the bank to grant \n",
      "corporate loans to third parties for the client’s account.\n",
      "Art.  5\n",
      "The bank must spread the portfolio risk through sufficient \n",
      "diversification.\n",
      "Implementing provisions\n",
      "17. It avoids cluster risks e.  g. from unusual concentration in an excessively \n",
      "small number of investments.\n",
      "Art.  6\n",
      "Investment of assets is restricted to readily marketable instruments.\n",
      "Implementing provisions\n",
      "18. Ready marketability applies when one of the following criteria is met: \n",
      "• There must be a representative market for the security (on or \n",
      "off-exchange). \n",
      "• The issuer or bank must commit to provide ready marketability equiva -\n",
      "lent to a representative market. \n",
      "• The investment must be redeemable at regular intervals (in case of \n",
      "liquid non-traditional collective investment schemes, at least bi-  \n",
      "weekly; other instruments at least quarterly with a notice period not \n",
      "exceeding 60 days or, alternatively, at least monthly with a notice \n",
      "period not exceeding 90 days).\n",
      "\n",
      "and other commodities, the bank has to ensure that no physical delivery \n",
      "is made to the client. \n",
      "15. Investments in non-traditional investments that do not comply with \n",
      "para. 13, their derivatives and combinations thereof are permissible for \n",
      "the purposes of portfolio diversification provided they are structured \n",
      "according to the Fund-of-Funds Principle (the fund is invested in several \n",
      "legally segregated collective investment schemes) or Multi-Manager-  \n",
      "Principle (i. e., that the collective investment scheme’s portfolio is \n",
      "managed by more than one asset manager, each single asset manager \n",
      "being responsible solely for a specific part of the portfolio) or otherwise \n",
      "guarantee an equivalent diversification.\u001B[0m\u001B[32;1m\u001B[1;3m포트폴리오 운용 원칙은 자산 관리의 기본적인 지침과 규칙을 포함하며, 주로 다음과 같은 요소들로 구성됩니다:\n",
      "\n",
      "1. **신뢰성 및 고객 요구사항 고려**: 자산 관리 계약에 따라 은행은 고객의 개인적인 요구사항을 고려하여 모든 필요한 거래를 수행해야 합니다. 은행은 고객의 일반적인 투자 목표에 따라 신뢰를 바탕으로 행동해야 합니다.\n",
      "\n",
      "2. **다양화**: 포트폴리오의 위험을 분산시키기 위해 충분한 다양화를 유지해야 합니다. 이는 특정 투자에 대한 과도한 집중을 피하고, 여러 자산에 분산 투자함으로써 리스크를 줄이는 것을 의미합니다.\n",
      "\n",
      "3. **유동성**: 자산 투자는 쉽게 시장에서 거래될 수 있는 금융 상품에 제한되어야 합니다. 이는 투자 자산이 대표적인 시장에서 거래되거나, 발행자가 유동성을 보장해야 함을 의미합니다.\n",
      "\n",
      "4. **투자 전략 및 프로세스**: 은행은 전체 투자 접근 방식, 투자 프로세스, 적격 투자 전략의 정의 및 투자 우주에 대한 규칙과 지침을 설정해야 합니다. 이는 고객의 요구에 맞춘 맞춤형 서비스 제공을 가능하게 합니다.\n",
      "\n",
      "5. **법적 규정 준수**: 포트폴리오 운용은 관련 법률 및 규정(예: 스위스 금융 서비스 법 등)을 준수해야 하며, 이러한 법적 규정이 자산 관리 계약에 우선합니다.\n",
      "\n",
      "6. **비전통적 투자**: 비전통적인 투자 및 그 파생상품은 포트폴리오 다양화를 위해 허용되지만, 이는 특정 원칙(예: 펀드-오브-펀드 원칙 또는 다중 관리자 원칙)에 따라 구조화되어야 합니다.\n",
      "\n",
      "이러한 원칙들은 포트폴리오 운용의 전문성과 고객의 이익을 보장하기 위해 설정된 것입니다.\u001B[0m\n",
      "\n",
      "\u001B[1m> Finished chain.\u001B[0m\n"
     ]
    },
    {
     "data": {
      "text/plain": [
       "{'input': '포트폴리오 운용 원칙에 대해서 설명해 줘',\n",
       " 'chat_history': [HumanMessage(content='포트폴리오 운용 원칙에 대해서 설명해 줘', additional_kwargs={}, response_metadata={}),\n",
       "  AIMessage(content='', additional_kwargs={'function_call': {'arguments': '{\"query\":\"포트폴리오 운용 원칙\"}', 'name': 'portfolio_management'}, 'refusal': None}, response_metadata={'token_usage': {'completion_tokens': 24, 'prompt_tokens': 102, 'total_tokens': 126, 'completion_tokens_details': {'accepted_prediction_tokens': 0, 'audio_tokens': 0, 'reasoning_tokens': 0, 'rejected_prediction_tokens': 0}, 'prompt_tokens_details': {'audio_tokens': 0, 'cached_tokens': 0}}, 'model_name': 'gpt-4o-mini-2024-07-18', 'system_fingerprint': 'fp_d02d531b47', 'finish_reason': 'function_call', 'logprobs': None}, id='run-fe0836c0-e61e-45dd-9969-25c7b91773ca-0', usage_metadata={'input_tokens': 102, 'output_tokens': 24, 'total_tokens': 126, 'input_token_details': {'audio': 0, 'cache_read': 0}, 'output_token_details': {'audio': 0, 'reasoning': 0}}),\n",
       "  FunctionMessage(content='Portfolio Management Guidelines  |  SBA  |  November 20204\\n   \\n1 Principles\\nArt.  1\\nThe asset management agreement enables the bank to carry out all \\ntransactions it considers necessary in the context of regular asset \\nmanagement by banks. The bank pursues its mandate in good faith \\nand in consideration of the client’s personal requirements that may \\nreasonably be familiar to the bank. The bank acts on a discretionary \\nbasis in line with these guidelines, its asset allocation policy, the \\napplicable investment strategy and any instructions set out by the \\nclient (including any investment restrictions). The asset management \\nagreement does not authorise the bank to withdraw assets.\\nImplementing provisions\\n5. The bank establishes rules and guidelines regarding its overall invest -\\nment approach, the investment process, the definition of eligible \\ninvestment strategies, the investment universe as well as appropriate \\ncontrol and monitoring measures. The bank may implement its portfolio \\nmanagement services uniformly for a number of clients or for clients \\nindividually.\\n\\nPortfolio Management Guidelines  |  SBA  |  November 2020 3\\n  \\nPreamble \\n1. The Board of Directors of the Swiss Bankers Association has adopted \\nthese Guidelines in order to maintain and enhance the reputation and \\nhigh quality of Swiss portfolio management in Switzerland as well as on \\nan international level. Assets entrusted to Swiss banks must be managed \\nprofessionally in the clients’ best interest, even if the clients only give \\ntheir banks general investment objectives. \\n2. The Guidelines are trade regulations (self-regulation). They have no \\ndirect bearing on the contractual relationship between banks and their \\nclients. Such relationships are governed by the legal provisions (in \\nparticular by Art. 394 et seq. of the Swiss Code of Obligations) and  \\nby the relevant agreements between banks and clients (e.  g. asset \\nmanagement agreement, the banks’ general business conditions etc.). \\n3. In areas governed by specific legislation (e.  g. Federal Act on Financial \\nServices (FINSA), OPA on pension funds, CISA on collective investment \\nschemes, and the associated regulations or selfregulatory regimes), the \\nrelevant special provisions take precedence over these Guidelines. \\n4. Institutional clients according to art. 4 par. 3 lit. a  – d and professional \\nclients art. 4 par. 3 lit. e – i of the Federal Act on Financial Services \\n(FINSA) are excluded from the provisions of these guidelines.\\n\\nPortfolio Management Guidelines  |  SBA  |  November 20208\\n  \\n16. The asset management mandate does not entitle the bank to grant \\ncorporate loans to third parties for the client’s account.\\nArt.  5\\nThe bank must spread the portfolio risk through sufficient \\ndiversification.\\nImplementing provisions\\n17. It avoids cluster risks e.  g. from unusual concentration in an excessively \\nsmall number of investments.\\nArt.  6\\nInvestment of assets is restricted to readily marketable instruments.\\nImplementing provisions\\n18. Ready marketability applies when one of the following criteria is met: \\n• There must be a representative market for the security (on or \\noff-exchange). \\n• The issuer or bank must commit to provide ready marketability equiva -\\nlent to a representative market. \\n• The investment must be redeemable at regular intervals (in case of \\nliquid non-traditional collective investment schemes, at least bi-  \\nweekly; other instruments at least quarterly with a notice period not \\nexceeding 60 days or, alternatively, at least monthly with a notice \\nperiod not exceeding 90 days).\\n\\nand other commodities, the bank has to ensure that no physical delivery \\nis made to the client. \\n15. Investments in non-traditional investments that do not comply with \\npara. 13, their derivatives and combinations thereof are permissible for \\nthe purposes of portfolio diversification provided they are structured \\naccording to the Fund-of-Funds Principle (the fund is invested in several \\nlegally segregated collective investment schemes) or Multi-Manager-  \\nPrinciple (i. e., that the collective investment scheme’s portfolio is \\nmanaged by more than one asset manager, each single asset manager \\nbeing responsible solely for a specific part of the portfolio) or otherwise \\nguarantee an equivalent diversification.', additional_kwargs={}, response_metadata={}, name='portfolio_management'),\n",
       "  AIMessage(content='포트폴리오 운용 원칙은 자산 관리의 기본적인 지침과 규칙을 포함하며, 주로 다음과 같은 요소들로 구성됩니다:\\n\\n1. **신뢰성 및 고객 요구사항 고려**: 자산 관리 계약에 따라 은행은 고객의 개인적인 요구사항을 고려하여 모든 필요한 거래를 수행해야 합니다. 은행은 고객의 일반적인 투자 목표에 따라 신뢰를 바탕으로 행동해야 합니다.\\n\\n2. **다양화**: 포트폴리오의 위험을 분산시키기 위해 충분한 다양화를 유지해야 합니다. 이는 특정 투자에 대한 과도한 집중을 피하고, 여러 자산에 분산 투자함으로써 리스크를 줄이는 것을 의미합니다.\\n\\n3. **유동성**: 자산 투자는 쉽게 시장에서 거래될 수 있는 금융 상품에 제한되어야 합니다. 이는 투자 자산이 대표적인 시장에서 거래되거나, 발행자가 유동성을 보장해야 함을 의미합니다.\\n\\n4. **투자 전략 및 프로세스**: 은행은 전체 투자 접근 방식, 투자 프로세스, 적격 투자 전략의 정의 및 투자 우주에 대한 규칙과 지침을 설정해야 합니다. 이는 고객의 요구에 맞춘 맞춤형 서비스 제공을 가능하게 합니다.\\n\\n5. **법적 규정 준수**: 포트폴리오 운용은 관련 법률 및 규정(예: 스위스 금융 서비스 법 등)을 준수해야 하며, 이러한 법적 규정이 자산 관리 계약에 우선합니다.\\n\\n6. **비전통적 투자**: 비전통적인 투자 및 그 파생상품은 포트폴리오 다양화를 위해 허용되지만, 이는 특정 원칙(예: 펀드-오브-펀드 원칙 또는 다중 관리자 원칙)에 따라 구조화되어야 합니다.\\n\\n이러한 원칙들은 포트폴리오 운용의 전문성과 고객의 이익을 보장하기 위해 설정된 것입니다.', additional_kwargs={}, response_metadata={})],\n",
       " 'output': '포트폴리오 운용 원칙은 자산 관리의 기본적인 지침과 규칙을 포함하며, 주로 다음과 같은 요소들로 구성됩니다:\\n\\n1. **신뢰성 및 고객 요구사항 고려**: 자산 관리 계약에 따라 은행은 고객의 개인적인 요구사항을 고려하여 모든 필요한 거래를 수행해야 합니다. 은행은 고객의 일반적인 투자 목표에 따라 신뢰를 바탕으로 행동해야 합니다.\\n\\n2. **다양화**: 포트폴리오의 위험을 분산시키기 위해 충분한 다양화를 유지해야 합니다. 이는 특정 투자에 대한 과도한 집중을 피하고, 여러 자산에 분산 투자함으로써 리스크를 줄이는 것을 의미합니다.\\n\\n3. **유동성**: 자산 투자는 쉽게 시장에서 거래될 수 있는 금융 상품에 제한되어야 합니다. 이는 투자 자산이 대표적인 시장에서 거래되거나, 발행자가 유동성을 보장해야 함을 의미합니다.\\n\\n4. **투자 전략 및 프로세스**: 은행은 전체 투자 접근 방식, 투자 프로세스, 적격 투자 전략의 정의 및 투자 우주에 대한 규칙과 지침을 설정해야 합니다. 이는 고객의 요구에 맞춘 맞춤형 서비스 제공을 가능하게 합니다.\\n\\n5. **법적 규정 준수**: 포트폴리오 운용은 관련 법률 및 규정(예: 스위스 금융 서비스 법 등)을 준수해야 하며, 이러한 법적 규정이 자산 관리 계약에 우선합니다.\\n\\n6. **비전통적 투자**: 비전통적인 투자 및 그 파생상품은 포트폴리오 다양화를 위해 허용되지만, 이는 특정 원칙(예: 펀드-오브-펀드 원칙 또는 다중 관리자 원칙)에 따라 구조화되어야 합니다.\\n\\n이러한 원칙들은 포트폴리오 운용의 전문성과 고객의 이익을 보장하기 위해 설정된 것입니다.',\n",
       " 'intermediate_steps': [(AgentActionMessageLog(tool='portfolio_management', tool_input={'query': '포트폴리오 운용 원칙'}, log=\"\\nInvoking: `portfolio_management` with `{'query': '포트폴리오 운용 원칙'}`\\n\\n\\n\", message_log=[AIMessage(content='', additional_kwargs={'function_call': {'arguments': '{\"query\":\"포트폴리오 운용 원칙\"}', 'name': 'portfolio_management'}, 'refusal': None}, response_metadata={'token_usage': {'completion_tokens': 24, 'prompt_tokens': 102, 'total_tokens': 126, 'completion_tokens_details': {'accepted_prediction_tokens': 0, 'audio_tokens': 0, 'reasoning_tokens': 0, 'rejected_prediction_tokens': 0}, 'prompt_tokens_details': {'audio_tokens': 0, 'cached_tokens': 0}}, 'model_name': 'gpt-4o-mini-2024-07-18', 'system_fingerprint': 'fp_d02d531b47', 'finish_reason': 'function_call', 'logprobs': None}, id='run-fe0836c0-e61e-45dd-9969-25c7b91773ca-0', usage_metadata={'input_tokens': 102, 'output_tokens': 24, 'total_tokens': 126, 'input_token_details': {'audio': 0, 'cache_read': 0}, 'output_token_details': {'audio': 0, 'reasoning': 0}})]),\n",
       "   'Portfolio Management Guidelines  |  SBA  |  November 20204\\n   \\n1 Principles\\nArt.  1\\nThe asset management agreement enables the bank to carry out all \\ntransactions it considers necessary in the context of regular asset \\nmanagement by banks. The bank pursues its mandate in good faith \\nand in consideration of the client’s personal requirements that may \\nreasonably be familiar to the bank. The bank acts on a discretionary \\nbasis in line with these guidelines, its asset allocation policy, the \\napplicable investment strategy and any instructions set out by the \\nclient (including any investment restrictions). The asset management \\nagreement does not authorise the bank to withdraw assets.\\nImplementing provisions\\n5. The bank establishes rules and guidelines regarding its overall invest -\\nment approach, the investment process, the definition of eligible \\ninvestment strategies, the investment universe as well as appropriate \\ncontrol and monitoring measures. The bank may implement its portfolio \\nmanagement services uniformly for a number of clients or for clients \\nindividually.\\n\\nPortfolio Management Guidelines  |  SBA  |  November 2020 3\\n  \\nPreamble \\n1. The Board of Directors of the Swiss Bankers Association has adopted \\nthese Guidelines in order to maintain and enhance the reputation and \\nhigh quality of Swiss portfolio management in Switzerland as well as on \\nan international level. Assets entrusted to Swiss banks must be managed \\nprofessionally in the clients’ best interest, even if the clients only give \\ntheir banks general investment objectives. \\n2. The Guidelines are trade regulations (self-regulation). They have no \\ndirect bearing on the contractual relationship between banks and their \\nclients. Such relationships are governed by the legal provisions (in \\nparticular by Art. 394 et seq. of the Swiss Code of Obligations) and  \\nby the relevant agreements between banks and clients (e.  g. asset \\nmanagement agreement, the banks’ general business conditions etc.). \\n3. In areas governed by specific legislation (e.  g. Federal Act on Financial \\nServices (FINSA), OPA on pension funds, CISA on collective investment \\nschemes, and the associated regulations or selfregulatory regimes), the \\nrelevant special provisions take precedence over these Guidelines. \\n4. Institutional clients according to art. 4 par. 3 lit. a  – d and professional \\nclients art. 4 par. 3 lit. e – i of the Federal Act on Financial Services \\n(FINSA) are excluded from the provisions of these guidelines.\\n\\nPortfolio Management Guidelines  |  SBA  |  November 20208\\n  \\n16. The asset management mandate does not entitle the bank to grant \\ncorporate loans to third parties for the client’s account.\\nArt.  5\\nThe bank must spread the portfolio risk through sufficient \\ndiversification.\\nImplementing provisions\\n17. It avoids cluster risks e.  g. from unusual concentration in an excessively \\nsmall number of investments.\\nArt.  6\\nInvestment of assets is restricted to readily marketable instruments.\\nImplementing provisions\\n18. Ready marketability applies when one of the following criteria is met: \\n• There must be a representative market for the security (on or \\noff-exchange). \\n• The issuer or bank must commit to provide ready marketability equiva -\\nlent to a representative market. \\n• The investment must be redeemable at regular intervals (in case of \\nliquid non-traditional collective investment schemes, at least bi-  \\nweekly; other instruments at least quarterly with a notice period not \\nexceeding 60 days or, alternatively, at least monthly with a notice \\nperiod not exceeding 90 days).\\n\\nand other commodities, the bank has to ensure that no physical delivery \\nis made to the client. \\n15. Investments in non-traditional investments that do not comply with \\npara. 13, their derivatives and combinations thereof are permissible for \\nthe purposes of portfolio diversification provided they are structured \\naccording to the Fund-of-Funds Principle (the fund is invested in several \\nlegally segregated collective investment schemes) or Multi-Manager-  \\nPrinciple (i. e., that the collective investment scheme’s portfolio is \\nmanaged by more than one asset manager, each single asset manager \\nbeing responsible solely for a specific part of the portfolio) or otherwise \\nguarantee an equivalent diversification.')]}"
      ]
     },
     "execution_count": 35,
     "metadata": {},
     "output_type": "execute_result"
    }
   ],
   "execution_count": 35
  },
  {
   "metadata": {},
   "cell_type": "markdown",
   "source": "이제 문서와 관련 없는 질문을 해 보자",
   "id": "eee18ed6b0020bf7"
  },
  {
   "metadata": {
    "ExecuteTime": {
     "end_time": "2025-01-04T10:08:58.071276Z",
     "start_time": "2025-01-04T10:08:46.943140Z"
    }
   },
   "cell_type": "code",
   "source": [
    "output = agent_executor.invoke(\n",
    "    {'input': '위험선호형 포트폴리오를 구성하고 관리하기 위해서 어떻게 해야 할까요?'}\n",
    ")"
   ],
   "id": "938e223a0b528a59",
   "outputs": [
    {
     "name": "stdout",
     "output_type": "stream",
     "text": [
      "\n",
      "\n",
      "\u001B[1m> Entering new AgentExecutor chain...\u001B[0m\n",
      "\u001B[32;1m\u001B[1;3m위험선호형 포트폴리오를 구성하고 관리하기 위해서는 다음과 같은 단계와 전략을 고려해야 합니다:\n",
      "\n",
      "1. **투자 목표 설정**:\n",
      "   - 투자자의 목표와 시간 범위를 명확히 정의합니다. 예를 들어, 장기적인 자본 성장, 소득 창출, 또는 특정 재무 목표 달성을 위한 투자 등입니다.\n",
      "\n",
      "2. **위험 수용 능력 평가**:\n",
      "   - 투자자가 감수할 수 있는 위험 수준을 평가합니다. 이는 투자자의 재무 상황, 투자 경험, 심리적 요인 등을 고려하여 결정됩니다.\n",
      "\n",
      "3. **자산 배분 전략 수립**:\n",
      "   - 위험선호형 투자자는 일반적으로 주식, 고위험 자산, 대체 투자(예: 부동산, 원자재 등)에 더 많은 비중을 두는 경향이 있습니다. 자산 배분은 투자자의 목표와 위험 수용 능력에 따라 조정되어야 합니다.\n",
      "\n",
      "4. **다양화**:\n",
      "   - 포트폴리오 내에서 다양한 자산 클래스와 산업에 투자하여 위험을 분산시킵니다. 이는 특정 자산이나 산업의 부진이 전체 포트폴리오에 미치는 영향을 줄이는 데 도움이 됩니다.\n",
      "\n",
      "5. **정기적인 모니터링 및 조정**:\n",
      "   - 시장 상황, 경제 지표, 투자 성과 등을 정기적으로 모니터링하고 필요에 따라 포트폴리오를 조정합니다. 이는 자산 배분 비율을 재조정하거나, 새로운 투자 기회를 탐색하는 것을 포함합니다.\n",
      "\n",
      "6. **리스크 관리**:\n",
      "   - 손실을 제한하기 위한 전략(예: 손절매, 옵션 사용 등)을 수립합니다. 또한, 포트폴리오의 변동성을 관리하기 위해 헤지 전략을 고려할 수 있습니다.\n",
      "\n",
      "7. **정보 수집 및 분석**:\n",
      "   - 시장 동향, 경제 지표, 기업 실적 등을 지속적으로 분석하여 informed decision을 내립니다. 이를 통해 투자 전략을 조정하고 최적의 투자 결정을 내릴 수 있습니다.\n",
      "\n",
      "8. **전문가의 조언 활용**:\n",
      "   - 필요시 금융 전문가나 자산 관리 전문가의 조언을 받아 포트폴리오를 구성하고 관리하는 데 도움을 받을 수 있습니다.\n",
      "\n",
      "위험선호형 포트폴리오는 높은 수익을 추구하지만, 그만큼 높은 변동성과 손실 위험을 동반하므로 신중한 접근이 필요합니다.\u001B[0m\n",
      "\n",
      "\u001B[1m> Finished chain.\u001B[0m\n"
     ]
    }
   ],
   "execution_count": 36
  },
  {
   "metadata": {},
   "cell_type": "markdown",
   "source": "이 앱에 마지막으로 추가하고자 하는 기능은 웹 탐색 기능이다. 투자에 있어서 투자자들은 최신의 정보를 잡아내기 원할 것이기 때문이다. 랭체인의 도구를 사용해 이를 구현해 보자",
   "id": "38e43c6a556761f8"
  },
  {
   "metadata": {},
   "cell_type": "markdown",
   "source": [
    "### 4. 외부 도구 추가하기\n",
    "\n",
    "이번에는 봇이 인터넷을 탐색할 수 있도록 `SerpApi` 도구를 추가한다. 앱이 웹에만 집중하게 하고 싶지는 않으므로, 앞에서 만든 도구와 이번에 새로 만들 `SerpApi` 도구를 함께 사용하도록 한다. 이렇게 하면 에이전트가 질문에 답하는 데 가장 유용한 도구를 선택하거나, 필요하지 않을 떄는 도구를 사용하지 않을 수도 있게 된다. 우선, 도구와 에이전트를 초기화해 보자."
   ],
   "id": "1d7141394ab9e3fa"
  },
  {
   "metadata": {
    "ExecuteTime": {
     "end_time": "2025-01-04T10:20:58.725154Z",
     "start_time": "2025-01-04T10:20:58.660332Z"
    }
   },
   "cell_type": "code",
   "source": [
    "from langchain import SerpAPIWrapper\n",
    "from langchain.agents import AgentType, initialize_agent\n",
    "from langchain_openai import OpenAI\n",
    "from langchain.tools import BaseTool, StructuredTool, Tool, tool\n",
    "\n",
    "import os\n",
    "from dotenv import load_dotenv\n",
    "\n",
    "load_dotenv()\n",
    "os.environ['SERPAPI_API_KEY'] = serp_api_key\n",
    "\n",
    "search = SerpAPIWrapper()\n",
    "\n",
    "llm = ChatOpenAI(\n",
    "    model = 'gpt-4o-mini',\n",
    "    temperature = 0\n",
    ")\n",
    "\n",
    "tools = [\n",
    "    Tool.from_function(\n",
    "        func = search.run,\n",
    "        name = \"Search\",\n",
    "        description = \"현재 일어나고 있는 일에 관한 질문에 답할 때 유용합니다.\"\n",
    "    ),\n",
    "    create_retriever_tool(\n",
    "        db.as_retriever(), \n",
    "        \"portfolio_management\",\n",
    "        \"포트폴리오 운용에 관한 문서를 검색해서 반환합니다.\"\n",
    "    )\n",
    "]\n",
    "\n",
    "agent_executor = create_conversational_retrieval_agent(\n",
    "    llm, \n",
    "    tools, \n",
    "    memory_key='chat_history', \n",
    "    verbose=True\n",
    ")"
   ],
   "id": "32b451646d9cf6ed",
   "outputs": [],
   "execution_count": 37
  },
  {
   "metadata": {
    "ExecuteTime": {
     "end_time": "2025-01-04T10:21:32.185718Z",
     "start_time": "2025-01-04T10:21:32.182546Z"
    }
   },
   "cell_type": "code",
   "source": "memory",
   "id": "28cdd057d07021af",
   "outputs": [
    {
     "data": {
      "text/plain": [
       "ConversationBufferMemory(chat_memory=InMemoryChatMessageHistory(messages=[]), return_messages=True, memory_key='chat_history')"
      ]
     },
     "execution_count": 38,
     "metadata": {},
     "output_type": "execute_result"
    }
   ],
   "execution_count": 38
  },
  {
   "metadata": {
    "ExecuteTime": {
     "end_time": "2025-01-04T10:22:33.661042Z",
     "start_time": "2025-01-04T10:22:27.456915Z"
    }
   },
   "cell_type": "code",
   "source": "agent_executor.invoke({\"input\": \"2025년 성장이 기대되는 미국 증권시장의 섹터나 테마는 무엇인가요?\"})",
   "id": "1b95e17d46238350",
   "outputs": [
    {
     "name": "stdout",
     "output_type": "stream",
     "text": [
      "\n",
      "\n",
      "\u001B[1m> Entering new AgentExecutor chain...\u001B[0m\n",
      "\u001B[32;1m\u001B[1;3m\n",
      "Invoking: `Search` with `2025년 미국 증권시장 성장 기대 섹터 테마`\n",
      "\n",
      "\n",
      "\u001B[0m\u001B[36;1m\u001B[1;3m['AI는 단연 2025년에도 주목해야 할 테마입니다. 생성형 AI 기술이 텍스트, 이미지, 영상 생성 능력을 보여주며 많은 관심을 받고 있습니다. AI 시장은 ...', '주요 경제 전망 ... 미 연준(Fed)의 긴축 통화 정책 여파가 지연 효과로 나타나면서, 미국 경제는 2025년 약 2.0%의 추세적 성장률을 기록할 것으로 전망됩니다. 근원 ...', 'S&P 500 지수는 2023년 24.2% 오른 데 이어 지난해에도 AI(인공지능) 붐에 힘입어 23.3% 상승했다. 2년간 무려 53% 올랐다. 인터넷 붐이 일었던 1997~1998 ...', '차기 미 대통령 선거 결과가 추가 상승 동력이 되어 다우존스를 비롯한 미국의 주요 주식시장 지수들이 사상 최고가를 기록하며 2025년을 준비하고 있는 ...', '담당: 임승미 연구위원(02-3771-7786) / 강윤형 연구원(02-3771-8024) / 박준우 연구원(02-3771-8116). 하나증권 리서치센터 글로벌투자분석실.', '삼성자산운용 관계자도 \"미국 빅테크들의 AI 투자가 지속될 것\"이라며 \"2025년에도 미국이 주도하는 AI 기술 혁신은 이어질 것으로 전망한다\"고 전망했다.', '알렉스 테더(Alex Tedder)와 팀 윌슨(Tom Wilson)이 주식 수익률 기회와 관련하여 시장 환경의 변화에 따라 주목할 섹터와 국가, 테마를 탐색합니다.', '미국 ETF 시장의 성장 배경은 1) 뮤추얼펀드 대비 유리. 한 세금 효율성, 2) 뮤추얼펀드 대비 낮은 운용 보수, 3). ETF 다양화로 투자자들의 선택지 확대 ...']\u001B[0m\u001B[32;1m\u001B[1;3m2025년 미국 증권시장에서 성장이 기대되는 섹터나 테마는 다음과 같습니다:\n",
      "\n",
      "1. **인공지능(AI)**: 생성형 AI 기술이 텍스트, 이미지, 영상 생성 능력을 보여주며 많은 관심을 받고 있습니다. AI 시장은 지속적으로 성장할 것으로 예상됩니다.\n",
      "\n",
      "2. **빅테크 기업**: 미국의 주요 기술 기업들이 AI에 대한 투자를 지속할 것으로 보이며, 이로 인해 AI 기술 혁신이 계속될 전망입니다.\n",
      "\n",
      "3. **기술 섹터**: AI 붐에 힘입어 기술 관련 주식들이 상승세를 보일 것으로 예상됩니다.\n",
      "\n",
      "4. **경제 성장**: 미국 경제는 2025년 약 2.0%의 추세적 성장률을 기록할 것으로 전망되며, 이는 주식시장에도 긍정적인 영향을 미칠 것입니다.\n",
      "\n",
      "이 외에도 차기 미 대통령 선거 결과가 주식시장에 추가적인 상승 동력이 될 수 있습니다.\u001B[0m\n",
      "\n",
      "\u001B[1m> Finished chain.\u001B[0m\n"
     ]
    },
    {
     "data": {
      "text/plain": [
       "{'input': '2025년 성장이 기대되는 미국 증권시장의 섹터나 테마는 무엇인가요?',\n",
       " 'chat_history': [HumanMessage(content='2025년 성장이 기대되는 섹터나 테마는 무엇인가요?', additional_kwargs={}, response_metadata={}),\n",
       "  AIMessage(content='', additional_kwargs={'function_call': {'arguments': '{\"__arg1\":\"2025년 성장 기대 섹터 테마\"}', 'name': 'Search'}, 'refusal': None}, response_metadata={'token_usage': {'completion_tokens': 25, 'prompt_tokens': 142, 'total_tokens': 167, 'completion_tokens_details': {'accepted_prediction_tokens': 0, 'audio_tokens': 0, 'reasoning_tokens': 0, 'rejected_prediction_tokens': 0}, 'prompt_tokens_details': {'audio_tokens': 0, 'cached_tokens': 0}}, 'model_name': 'gpt-4o-mini-2024-07-18', 'system_fingerprint': 'fp_0aa8d3e20b', 'finish_reason': 'function_call', 'logprobs': None}, id='run-fdbec66d-75c5-4826-9269-ecd79ff49aef-0', usage_metadata={'input_tokens': 142, 'output_tokens': 25, 'total_tokens': 167, 'input_token_details': {'audio': 0, 'cache_read': 0}, 'output_token_details': {'audio': 0, 'reasoning': 0}}),\n",
       "  FunctionMessage(content='구체적인 추천 테마로는 AI 연산, 소비전자, 자동차 산업체인, 반도체 등을 꼽았다. 해통증권(海通證券)은 내년 들어 전자, 컴퓨터, 통신 등 기술 섹터의 순이익이 전반적으로 뚜렷한 상승세를 보일 것으로 예상했다.', additional_kwargs={}, response_metadata={}, name='Search'),\n",
       "  AIMessage(content='2025년 성장 기대 섹터나 테마로는 다음과 같은 분야가 있습니다:\\n\\n1. **인공지능(AI)**: AI 기술의 발전과 응용이 계속해서 증가할 것으로 예상됩니다.\\n2. **소비전자**: 소비자 전자 제품의 수요가 지속적으로 증가할 것으로 보입니다.\\n3. **자동차 산업체인**: 전기차 및 자율주행차와 관련된 기술과 부품 산업이 성장할 것으로 기대됩니다.\\n4. **반도체**: 반도체 산업은 기술 발전과 함께 지속적인 성장이 예상됩니다.\\n\\n또한, 해통증권은 전자, 컴퓨터, 통신 등 기술 섹터의 순이익이 전반적으로 뚜렷한 상승세를 보일 것으로 전망하고 있습니다.', additional_kwargs={}, response_metadata={}),\n",
       "  HumanMessage(content='2025년 성장이 기대되는 미국 증권시장의 섹터나 테마는 무엇인가요?', additional_kwargs={}, response_metadata={}),\n",
       "  AIMessage(content='', additional_kwargs={'function_call': {'arguments': '{\"__arg1\":\"2025년 미국 증권시장 성장 기대 섹터 테마\"}', 'name': 'Search'}, 'refusal': None}, response_metadata={'token_usage': {'completion_tokens': 29, 'prompt_tokens': 455, 'total_tokens': 484, 'completion_tokens_details': {'accepted_prediction_tokens': 0, 'audio_tokens': 0, 'reasoning_tokens': 0, 'rejected_prediction_tokens': 0}, 'prompt_tokens_details': {'audio_tokens': 0, 'cached_tokens': 0}}, 'model_name': 'gpt-4o-mini-2024-07-18', 'system_fingerprint': 'fp_0aa8d3e20b', 'finish_reason': 'function_call', 'logprobs': None}, id='run-1db58d80-fb77-40cf-85bd-640f50a9a61a-0', usage_metadata={'input_tokens': 455, 'output_tokens': 29, 'total_tokens': 484, 'input_token_details': {'audio': 0, 'cache_read': 0}, 'output_token_details': {'audio': 0, 'reasoning': 0}}),\n",
       "  FunctionMessage(content='[\\'AI는 단연 2025년에도 주목해야 할 테마입니다. 생성형 AI 기술이 텍스트, 이미지, 영상 생성 능력을 보여주며 많은 관심을 받고 있습니다. AI 시장은 ...\\', \\'주요 경제 전망 ... 미 연준(Fed)의 긴축 통화 정책 여파가 지연 효과로 나타나면서, 미국 경제는 2025년 약 2.0%의 추세적 성장률을 기록할 것으로 전망됩니다. 근원 ...\\', \\'S&P 500 지수는 2023년 24.2% 오른 데 이어 지난해에도 AI(인공지능) 붐에 힘입어 23.3% 상승했다. 2년간 무려 53% 올랐다. 인터넷 붐이 일었던 1997~1998 ...\\', \\'차기 미 대통령 선거 결과가 추가 상승 동력이 되어 다우존스를 비롯한 미국의 주요 주식시장 지수들이 사상 최고가를 기록하며 2025년을 준비하고 있는 ...\\', \\'담당: 임승미 연구위원(02-3771-7786) / 강윤형 연구원(02-3771-8024) / 박준우 연구원(02-3771-8116). 하나증권 리서치센터 글로벌투자분석실.\\', \\'삼성자산운용 관계자도 \"미국 빅테크들의 AI 투자가 지속될 것\"이라며 \"2025년에도 미국이 주도하는 AI 기술 혁신은 이어질 것으로 전망한다\"고 전망했다.\\', \\'알렉스 테더(Alex Tedder)와 팀 윌슨(Tom Wilson)이 주식 수익률 기회와 관련하여 시장 환경의 변화에 따라 주목할 섹터와 국가, 테마를 탐색합니다.\\', \\'미국 ETF 시장의 성장 배경은 1) 뮤추얼펀드 대비 유리. 한 세금 효율성, 2) 뮤추얼펀드 대비 낮은 운용 보수, 3). ETF 다양화로 투자자들의 선택지 확대 ...\\']', additional_kwargs={}, response_metadata={}, name='Search'),\n",
       "  AIMessage(content='2025년 미국 증권시장에서 성장이 기대되는 섹터나 테마는 다음과 같습니다:\\n\\n1. **인공지능(AI)**: 생성형 AI 기술이 텍스트, 이미지, 영상 생성 능력을 보여주며 많은 관심을 받고 있습니다. AI 시장은 지속적으로 성장할 것으로 예상됩니다.\\n\\n2. **빅테크 기업**: 미국의 주요 기술 기업들이 AI에 대한 투자를 지속할 것으로 보이며, 이로 인해 AI 기술 혁신이 계속될 전망입니다.\\n\\n3. **기술 섹터**: AI 붐에 힘입어 기술 관련 주식들이 상승세를 보일 것으로 예상됩니다.\\n\\n4. **경제 성장**: 미국 경제는 2025년 약 2.0%의 추세적 성장률을 기록할 것으로 전망되며, 이는 주식시장에도 긍정적인 영향을 미칠 것입니다.\\n\\n이 외에도 차기 미 대통령 선거 결과가 주식시장에 추가적인 상승 동력이 될 수 있습니다.', additional_kwargs={}, response_metadata={})],\n",
       " 'output': '2025년 미국 증권시장에서 성장이 기대되는 섹터나 테마는 다음과 같습니다:\\n\\n1. **인공지능(AI)**: 생성형 AI 기술이 텍스트, 이미지, 영상 생성 능력을 보여주며 많은 관심을 받고 있습니다. AI 시장은 지속적으로 성장할 것으로 예상됩니다.\\n\\n2. **빅테크 기업**: 미국의 주요 기술 기업들이 AI에 대한 투자를 지속할 것으로 보이며, 이로 인해 AI 기술 혁신이 계속될 전망입니다.\\n\\n3. **기술 섹터**: AI 붐에 힘입어 기술 관련 주식들이 상승세를 보일 것으로 예상됩니다.\\n\\n4. **경제 성장**: 미국 경제는 2025년 약 2.0%의 추세적 성장률을 기록할 것으로 전망되며, 이는 주식시장에도 긍정적인 영향을 미칠 것입니다.\\n\\n이 외에도 차기 미 대통령 선거 결과가 주식시장에 추가적인 상승 동력이 될 수 있습니다.',\n",
       " 'intermediate_steps': [(AgentActionMessageLog(tool='Search', tool_input='2025년 미국 증권시장 성장 기대 섹터 테마', log='\\nInvoking: `Search` with `2025년 미국 증권시장 성장 기대 섹터 테마`\\n\\n\\n', message_log=[AIMessage(content='', additional_kwargs={'function_call': {'arguments': '{\"__arg1\":\"2025년 미국 증권시장 성장 기대 섹터 테마\"}', 'name': 'Search'}, 'refusal': None}, response_metadata={'token_usage': {'completion_tokens': 29, 'prompt_tokens': 455, 'total_tokens': 484, 'completion_tokens_details': {'accepted_prediction_tokens': 0, 'audio_tokens': 0, 'reasoning_tokens': 0, 'rejected_prediction_tokens': 0}, 'prompt_tokens_details': {'audio_tokens': 0, 'cached_tokens': 0}}, 'model_name': 'gpt-4o-mini-2024-07-18', 'system_fingerprint': 'fp_0aa8d3e20b', 'finish_reason': 'function_call', 'logprobs': None}, id='run-1db58d80-fb77-40cf-85bd-640f50a9a61a-0', usage_metadata={'input_tokens': 455, 'output_tokens': 29, 'total_tokens': 484, 'input_token_details': {'audio': 0, 'cache_read': 0}, 'output_token_details': {'audio': 0, 'reasoning': 0}})]),\n",
       "   '[\\'AI는 단연 2025년에도 주목해야 할 테마입니다. 생성형 AI 기술이 텍스트, 이미지, 영상 생성 능력을 보여주며 많은 관심을 받고 있습니다. AI 시장은 ...\\', \\'주요 경제 전망 ... 미 연준(Fed)의 긴축 통화 정책 여파가 지연 효과로 나타나면서, 미국 경제는 2025년 약 2.0%의 추세적 성장률을 기록할 것으로 전망됩니다. 근원 ...\\', \\'S&P 500 지수는 2023년 24.2% 오른 데 이어 지난해에도 AI(인공지능) 붐에 힘입어 23.3% 상승했다. 2년간 무려 53% 올랐다. 인터넷 붐이 일었던 1997~1998 ...\\', \\'차기 미 대통령 선거 결과가 추가 상승 동력이 되어 다우존스를 비롯한 미국의 주요 주식시장 지수들이 사상 최고가를 기록하며 2025년을 준비하고 있는 ...\\', \\'담당: 임승미 연구위원(02-3771-7786) / 강윤형 연구원(02-3771-8024) / 박준우 연구원(02-3771-8116). 하나증권 리서치센터 글로벌투자분석실.\\', \\'삼성자산운용 관계자도 \"미국 빅테크들의 AI 투자가 지속될 것\"이라며 \"2025년에도 미국이 주도하는 AI 기술 혁신은 이어질 것으로 전망한다\"고 전망했다.\\', \\'알렉스 테더(Alex Tedder)와 팀 윌슨(Tom Wilson)이 주식 수익률 기회와 관련하여 시장 환경의 변화에 따라 주목할 섹터와 국가, 테마를 탐색합니다.\\', \\'미국 ETF 시장의 성장 배경은 1) 뮤추얼펀드 대비 유리. 한 세금 효율성, 2) 뮤추얼펀드 대비 낮은 운용 보수, 3). ETF 다양화로 투자자들의 선택지 확대 ...\\']')]}"
      ]
     },
     "execution_count": 40,
     "metadata": {},
     "output_type": "execute_result"
    }
   ],
   "execution_count": 40
  },
  {
   "metadata": {
    "ExecuteTime": {
     "end_time": "2025-01-04T10:27:03.073646Z",
     "start_time": "2025-01-04T10:26:56.803729Z"
    }
   },
   "cell_type": "code",
   "source": "agent_executor.invoke({\"input\": \"트럼프가 2024년 미국 대선에서 승리하게 되었는데, 이로 인해 테슬라와 암호화폐 관련 주가가 상승하는 등의 격변이 보이고 있습니다. 양자컴퓨팅 테마가 급상승하며 차후 2025년 미국 증시의 테마가 어떻게 될지 모두가 주목을 하고 있는데, 안정적인 포트폴리오를 운영하기 위해서 2025년에 종목 구성을 어떻게 하는게 좋을까요? 목표 수익률은 연간 15%입니다.\"})",
   "id": "4c085d04585a1288",
   "outputs": [
    {
     "name": "stdout",
     "output_type": "stream",
     "text": [
      "\n",
      "\n",
      "\u001B[1m> Entering new AgentExecutor chain...\u001B[0m\n",
      "\u001B[32;1m\u001B[1;3m\n",
      "Invoking: `portfolio_management` with `{'query': '2025년 안정적인 포트폴리오 구성 종목 추천 목표 수익률 15%'}`\n",
      "\n",
      "\n",
      "\u001B[0m\u001B[33;1m\u001B[1;3mand other commodities, the bank has to ensure that no physical delivery \n",
      "is made to the client. \n",
      "15. Investments in non-traditional investments that do not comply with \n",
      "para. 13, their derivatives and combinations thereof are permissible for \n",
      "the purposes of portfolio diversification provided they are structured \n",
      "according to the Fund-of-Funds Principle (the fund is invested in several \n",
      "legally segregated collective investment schemes) or Multi-Manager-  \n",
      "Principle (i. e., that the collective investment scheme’s portfolio is \n",
      "managed by more than one asset manager, each single asset manager \n",
      "being responsible solely for a specific part of the portfolio) or otherwise \n",
      "guarantee an equivalent diversification.\n",
      "\n",
      "Portfolio Management Guidelines  |  SBA  |  November 20208\n",
      "  \n",
      "16. The asset management mandate does not entitle the bank to grant \n",
      "corporate loans to third parties for the client’s account.\n",
      "Art.  5\n",
      "The bank must spread the portfolio risk through sufficient \n",
      "diversification.\n",
      "Implementing provisions\n",
      "17. It avoids cluster risks e.  g. from unusual concentration in an excessively \n",
      "small number of investments.\n",
      "Art.  6\n",
      "Investment of assets is restricted to readily marketable instruments.\n",
      "Implementing provisions\n",
      "18. Ready marketability applies when one of the following criteria is met: \n",
      "• There must be a representative market for the security (on or \n",
      "off-exchange). \n",
      "• The issuer or bank must commit to provide ready marketability equiva -\n",
      "lent to a representative market. \n",
      "• The investment must be redeemable at regular intervals (in case of \n",
      "liquid non-traditional collective investment schemes, at least bi-  \n",
      "weekly; other instruments at least quarterly with a notice period not \n",
      "exceeding 60 days or, alternatively, at least monthly with a notice \n",
      "period not exceeding 90 days).\n",
      "\n",
      "Portfolio Management Guidelines  |  SBA  |  November 2020 11\n",
      "  \n",
      "4 Final Provision \n",
      "Art.  9\n",
      "1 The revised version of these Guidelines comes into force on  \n",
      "1st of January 2022. \n",
      "2 Institutions which complete the changeover to FinSA before the \n",
      "end of the transition period and have notified their audit company \n",
      "thereof in accordance with Art. 106 para. 2 FINSO, may already apply \n",
      "these guidelines from this date.\n",
      "\n",
      "Portfolio Management Guidelines  |  SBA  |  November 2020 7\n",
      "  \n",
      "Art.  4\n",
      "For the implementation of the applicable investment strategy, the \n",
      "bank may invest the client’s portfolio in any asset class, investment \n",
      "instrument and associated investment techniques required to achieve \n",
      "the investment objective, subject to the restrictions as set out in \n",
      "these Guidelines.\n",
      "Implementing provisions\n",
      "12. For the implementation of the investment strategy the bank may in \n",
      "particular but not limited to choose to invest in financial instruments \n",
      "and securities as defined in Art. 3 (a) and (b) FINSA.  \n",
      "13. In the case of collective investment schemes it is a prerequisite that they \n",
      "on their part invest in instruments as set out in para. 12 above or real \n",
      "estate. Investments in liquid non-traditional collective investment \n",
      "schemes are permissible if such liquid non-traditional collective invest -\n",
      "ment schemes are subject to prudential supervision and comply with the \n",
      "ready marketability requirements of Art. 6 (e.  g. UCITS). \n",
      "14. Investments in base metals and other commodities are permissible in the \n",
      "form of collective investment schemes, derivatives, index or structured \n",
      "products for the purpose of diversifying the managed portfolio. In case \n",
      "of investment instruments that involve physical delivery of base metals \n",
      "and other commodities, the bank has to ensure that no physical delivery \n",
      "is made to the client. \n",
      "15. Investments in non-traditional investments that do not comply with\u001B[0m\u001B[32;1m\u001B[1;3m2025년에 안정적인 포트폴리오를 구성하고 연간 15%의 목표 수익률을 달성하기 위해 다음과 같은 전략을 고려할 수 있습니다:\n",
      "\n",
      "1. **다양한 자산 클래스**: 주식, 채권, 부동산, 원자재 등 다양한 자산 클래스에 분산 투자하여 리스크를 줄입니다.\n",
      "\n",
      "2. **기술 섹터 집중**: AI, 반도체, 전기차, 양자컴퓨팅 등 성장 가능성이 높은 기술 섹터에 비중을 두고 투자합니다. 특히, 테슬라와 같은 빅테크 기업이나 양자컴퓨팅 관련 기업에 투자하는 것이 좋습니다.\n",
      "\n",
      "3. **암호화폐 및 블록체인**: 암호화폐와 블록체인 관련 주식이나 ETF에 소액 투자하여 높은 변동성을 활용할 수 있습니다.\n",
      "\n",
      "4. **안정적인 배당주**: 안정적인 배당을 지급하는 기업에 투자하여 수익을 보장받는 것도 좋은 전략입니다.\n",
      "\n",
      "5. **ETF 활용**: 특정 테마나 섹터에 집중 투자할 수 있는 ETF를 활용하여 리스크를 분산시키고 관리합니다.\n",
      "\n",
      "6. **리밸런싱**: 시장 상황에 따라 포트폴리오를 정기적으로 리밸런싱하여 목표 수익률을 유지합니다.\n",
      "\n",
      "이러한 전략을 통해 2025년에도 안정적인 수익을 추구할 수 있을 것입니다.\u001B[0m\n",
      "\n",
      "\u001B[1m> Finished chain.\u001B[0m\n"
     ]
    },
    {
     "data": {
      "text/plain": [
       "{'input': '트럼프가 2024년 미국 대선에서 승리하게 되었는데, 이로 인해 테슬라와 암호화폐 관련 주가가 상승하는 등의 격변이 보이고 있습니다. 양자컴퓨팅 테마가 급상승하며 차후 2025년 미국 증시의 테마가 어떻게 될지 모두가 주목을 하고 있는데, 안정적인 포트폴리오를 운영하기 위해서 2025년에 종목 구성을 어떻게 하는게 좋을까요? 목표 수익률은 연간 15%입니다.',\n",
       " 'chat_history': [HumanMessage(content='2025년 성장이 기대되는 미국 증권시장의 섹터나 테마는 무엇인가요?', additional_kwargs={}, response_metadata={}),\n",
       "  AIMessage(content='', additional_kwargs={'function_call': {'arguments': '{\"__arg1\":\"2025년 미국 증권시장 성장 기대 섹터 테마\"}', 'name': 'Search'}, 'refusal': None}, response_metadata={'token_usage': {'completion_tokens': 29, 'prompt_tokens': 455, 'total_tokens': 484, 'completion_tokens_details': {'accepted_prediction_tokens': 0, 'audio_tokens': 0, 'reasoning_tokens': 0, 'rejected_prediction_tokens': 0}, 'prompt_tokens_details': {'audio_tokens': 0, 'cached_tokens': 0}}, 'model_name': 'gpt-4o-mini-2024-07-18', 'system_fingerprint': 'fp_0aa8d3e20b', 'finish_reason': 'function_call', 'logprobs': None}, id='run-1db58d80-fb77-40cf-85bd-640f50a9a61a-0', usage_metadata={'input_tokens': 455, 'output_tokens': 29, 'total_tokens': 484, 'input_token_details': {'audio': 0, 'cache_read': 0}, 'output_token_details': {'audio': 0, 'reasoning': 0}}),\n",
       "  FunctionMessage(content='[\\'AI는 단연 2025년에도 주목해야 할 테마입니다. 생성형 AI 기술이 텍스트, 이미지, 영상 생성 능력을 보여주며 많은 관심을 받고 있습니다. AI 시장은 ...\\', \\'주요 경제 전망 ... 미 연준(Fed)의 긴축 통화 정책 여파가 지연 효과로 나타나면서, 미국 경제는 2025년 약 2.0%의 추세적 성장률을 기록할 것으로 전망됩니다. 근원 ...\\', \\'S&P 500 지수는 2023년 24.2% 오른 데 이어 지난해에도 AI(인공지능) 붐에 힘입어 23.3% 상승했다. 2년간 무려 53% 올랐다. 인터넷 붐이 일었던 1997~1998 ...\\', \\'차기 미 대통령 선거 결과가 추가 상승 동력이 되어 다우존스를 비롯한 미국의 주요 주식시장 지수들이 사상 최고가를 기록하며 2025년을 준비하고 있는 ...\\', \\'담당: 임승미 연구위원(02-3771-7786) / 강윤형 연구원(02-3771-8024) / 박준우 연구원(02-3771-8116). 하나증권 리서치센터 글로벌투자분석실.\\', \\'삼성자산운용 관계자도 \"미국 빅테크들의 AI 투자가 지속될 것\"이라며 \"2025년에도 미국이 주도하는 AI 기술 혁신은 이어질 것으로 전망한다\"고 전망했다.\\', \\'알렉스 테더(Alex Tedder)와 팀 윌슨(Tom Wilson)이 주식 수익률 기회와 관련하여 시장 환경의 변화에 따라 주목할 섹터와 국가, 테마를 탐색합니다.\\', \\'미국 ETF 시장의 성장 배경은 1) 뮤추얼펀드 대비 유리. 한 세금 효율성, 2) 뮤추얼펀드 대비 낮은 운용 보수, 3). ETF 다양화로 투자자들의 선택지 확대 ...\\']', additional_kwargs={}, response_metadata={}, name='Search'),\n",
       "  AIMessage(content='2025년 미국 증권시장에서 성장이 기대되는 섹터나 테마는 다음과 같습니다:\\n\\n1. **인공지능(AI)**: 생성형 AI 기술이 텍스트, 이미지, 영상 생성 능력을 보여주며 많은 관심을 받고 있습니다. AI 시장은 지속적으로 성장할 것으로 예상됩니다.\\n\\n2. **빅테크 기업**: 미국의 주요 기술 기업들이 AI에 대한 투자를 지속할 것으로 보이며, 이로 인해 AI 기술 혁신이 계속될 전망입니다.\\n\\n3. **기술 섹터**: AI 붐에 힘입어 기술 관련 주식들이 상승세를 보일 것으로 예상됩니다.\\n\\n4. **경제 성장**: 미국 경제는 2025년 약 2.0%의 추세적 성장률을 기록할 것으로 전망되며, 이는 주식시장에도 긍정적인 영향을 미칠 것입니다.\\n\\n이 외에도 차기 미 대통령 선거 결과가 주식시장에 추가적인 상승 동력이 될 수 있습니다.', additional_kwargs={}, response_metadata={}),\n",
       "  HumanMessage(content='트럼프가 2024년 미국 대선에서 승리하게 되었는데, 이로 인해 테슬라와 암호화폐 관련 주가가 상승하는 등의 격변이 보이고 있습니다. 양자컴퓨팅 테마가 급상승하며 차후 2025년 미국 증시의 테마가 어떻게 될지 모두가 주목을 하고 있는데, 안정적인 포트폴리오를 운영하기 위해서 2025년에 종목 구성을 어떻게 하는게 좋을까요? 목표 수익률은 연간 15%입니다.', additional_kwargs={}, response_metadata={}),\n",
       "  AIMessage(content='', additional_kwargs={'function_call': {'arguments': '{\"query\":\"2025년 안정적인 포트폴리오 구성 종목 추천 목표 수익률 15%\"}', 'name': 'portfolio_management'}, 'refusal': None}, response_metadata={'token_usage': {'completion_tokens': 36, 'prompt_tokens': 1277, 'total_tokens': 1313, 'completion_tokens_details': {'accepted_prediction_tokens': 0, 'audio_tokens': 0, 'reasoning_tokens': 0, 'rejected_prediction_tokens': 0}, 'prompt_tokens_details': {'audio_tokens': 0, 'cached_tokens': 1024}}, 'model_name': 'gpt-4o-mini-2024-07-18', 'system_fingerprint': 'fp_0aa8d3e20b', 'finish_reason': 'function_call', 'logprobs': None}, id='run-980f8533-e8a3-4cee-8084-06d9025326d9-0', usage_metadata={'input_tokens': 1277, 'output_tokens': 36, 'total_tokens': 1313, 'input_token_details': {'audio': 0, 'cache_read': 1024}, 'output_token_details': {'audio': 0, 'reasoning': 0}}),\n",
       "  FunctionMessage(content='and other commodities, the bank has to ensure that no physical delivery \\nis made to the client. \\n15. Investments in non-traditional investments that do not comply with \\npara. 13, their derivatives and combinations thereof are permissible for \\nthe purposes of portfolio diversification provided they are structured \\naccording to the Fund-of-Funds Principle (the fund is invested in several \\nlegally segregated collective investment schemes) or Multi-Manager-  \\nPrinciple (i. e., that the collective investment scheme’s portfolio is \\nmanaged by more than one asset manager, each single asset manager \\nbeing responsible solely for a specific part of the portfolio) or otherwise \\nguarantee an equivalent diversification.\\n\\nPortfolio Management Guidelines  |  SBA  |  November 20208\\n  \\n16. The asset management mandate does not entitle the bank to grant \\ncorporate loans to third parties for the client’s account.\\nArt.  5\\nThe bank must spread the portfolio risk through sufficient \\ndiversification.\\nImplementing provisions\\n17. It avoids cluster risks e.  g. from unusual concentration in an excessively \\nsmall number of investments.\\nArt.  6\\nInvestment of assets is restricted to readily marketable instruments.\\nImplementing provisions\\n18. Ready marketability applies when one of the following criteria is met: \\n• There must be a representative market for the security (on or \\noff-exchange). \\n• The issuer or bank must commit to provide ready marketability equiva -\\nlent to a representative market. \\n• The investment must be redeemable at regular intervals (in case of \\nliquid non-traditional collective investment schemes, at least bi-  \\nweekly; other instruments at least quarterly with a notice period not \\nexceeding 60 days or, alternatively, at least monthly with a notice \\nperiod not exceeding 90 days).\\n\\nPortfolio Management Guidelines  |  SBA  |  November 2020 11\\n  \\n4 Final Provision \\nArt.  9\\n1 The revised version of these Guidelines comes into force on  \\n1st of January 2022. \\n2 Institutions which complete the changeover to FinSA before the \\nend of the transition period and have notified their audit company \\nthereof in accordance with Art. 106 para. 2 FINSO, may already apply \\nthese guidelines from this date.\\n\\nPortfolio Management Guidelines  |  SBA  |  November 2020 7\\n  \\nArt.  4\\nFor the implementation of the applicable investment strategy, the \\nbank may invest the client’s portfolio in any asset class, investment \\ninstrument and associated investment techniques required to achieve \\nthe investment objective, subject to the restrictions as set out in \\nthese Guidelines.\\nImplementing provisions\\n12. For the implementation of the investment strategy the bank may in \\nparticular but not limited to choose to invest in financial instruments \\nand securities as defined in Art. 3 (a) and (b) FINSA.  \\n13. In the case of collective investment schemes it is a prerequisite that they \\non their part invest in instruments as set out in para. 12 above or real \\nestate. Investments in liquid non-traditional collective investment \\nschemes are permissible if such liquid non-traditional collective invest -\\nment schemes are subject to prudential supervision and comply with the \\nready marketability requirements of Art. 6 (e.  g. UCITS). \\n14. Investments in base metals and other commodities are permissible in the \\nform of collective investment schemes, derivatives, index or structured \\nproducts for the purpose of diversifying the managed portfolio. In case \\nof investment instruments that involve physical delivery of base metals \\nand other commodities, the bank has to ensure that no physical delivery \\nis made to the client. \\n15. Investments in non-traditional investments that do not comply with', additional_kwargs={}, response_metadata={}, name='portfolio_management'),\n",
       "  AIMessage(content='2025년에 안정적인 포트폴리오를 구성하고 연간 15%의 목표 수익률을 달성하기 위해 다음과 같은 전략을 고려할 수 있습니다:\\n\\n1. **다양한 자산 클래스**: 주식, 채권, 부동산, 원자재 등 다양한 자산 클래스에 분산 투자하여 리스크를 줄입니다.\\n\\n2. **기술 섹터 집중**: AI, 반도체, 전기차, 양자컴퓨팅 등 성장 가능성이 높은 기술 섹터에 비중을 두고 투자합니다. 특히, 테슬라와 같은 빅테크 기업이나 양자컴퓨팅 관련 기업에 투자하는 것이 좋습니다.\\n\\n3. **암호화폐 및 블록체인**: 암호화폐와 블록체인 관련 주식이나 ETF에 소액 투자하여 높은 변동성을 활용할 수 있습니다.\\n\\n4. **안정적인 배당주**: 안정적인 배당을 지급하는 기업에 투자하여 수익을 보장받는 것도 좋은 전략입니다.\\n\\n5. **ETF 활용**: 특정 테마나 섹터에 집중 투자할 수 있는 ETF를 활용하여 리스크를 분산시키고 관리합니다.\\n\\n6. **리밸런싱**: 시장 상황에 따라 포트폴리오를 정기적으로 리밸런싱하여 목표 수익률을 유지합니다.\\n\\n이러한 전략을 통해 2025년에도 안정적인 수익을 추구할 수 있을 것입니다.', additional_kwargs={}, response_metadata={})],\n",
       " 'output': '2025년에 안정적인 포트폴리오를 구성하고 연간 15%의 목표 수익률을 달성하기 위해 다음과 같은 전략을 고려할 수 있습니다:\\n\\n1. **다양한 자산 클래스**: 주식, 채권, 부동산, 원자재 등 다양한 자산 클래스에 분산 투자하여 리스크를 줄입니다.\\n\\n2. **기술 섹터 집중**: AI, 반도체, 전기차, 양자컴퓨팅 등 성장 가능성이 높은 기술 섹터에 비중을 두고 투자합니다. 특히, 테슬라와 같은 빅테크 기업이나 양자컴퓨팅 관련 기업에 투자하는 것이 좋습니다.\\n\\n3. **암호화폐 및 블록체인**: 암호화폐와 블록체인 관련 주식이나 ETF에 소액 투자하여 높은 변동성을 활용할 수 있습니다.\\n\\n4. **안정적인 배당주**: 안정적인 배당을 지급하는 기업에 투자하여 수익을 보장받는 것도 좋은 전략입니다.\\n\\n5. **ETF 활용**: 특정 테마나 섹터에 집중 투자할 수 있는 ETF를 활용하여 리스크를 분산시키고 관리합니다.\\n\\n6. **리밸런싱**: 시장 상황에 따라 포트폴리오를 정기적으로 리밸런싱하여 목표 수익률을 유지합니다.\\n\\n이러한 전략을 통해 2025년에도 안정적인 수익을 추구할 수 있을 것입니다.',\n",
       " 'intermediate_steps': [(AgentActionMessageLog(tool='portfolio_management', tool_input={'query': '2025년 안정적인 포트폴리오 구성 종목 추천 목표 수익률 15%'}, log=\"\\nInvoking: `portfolio_management` with `{'query': '2025년 안정적인 포트폴리오 구성 종목 추천 목표 수익률 15%'}`\\n\\n\\n\", message_log=[AIMessage(content='', additional_kwargs={'function_call': {'arguments': '{\"query\":\"2025년 안정적인 포트폴리오 구성 종목 추천 목표 수익률 15%\"}', 'name': 'portfolio_management'}, 'refusal': None}, response_metadata={'token_usage': {'completion_tokens': 36, 'prompt_tokens': 1277, 'total_tokens': 1313, 'completion_tokens_details': {'accepted_prediction_tokens': 0, 'audio_tokens': 0, 'reasoning_tokens': 0, 'rejected_prediction_tokens': 0}, 'prompt_tokens_details': {'audio_tokens': 0, 'cached_tokens': 1024}}, 'model_name': 'gpt-4o-mini-2024-07-18', 'system_fingerprint': 'fp_0aa8d3e20b', 'finish_reason': 'function_call', 'logprobs': None}, id='run-980f8533-e8a3-4cee-8084-06d9025326d9-0', usage_metadata={'input_tokens': 1277, 'output_tokens': 36, 'total_tokens': 1313, 'input_token_details': {'audio': 0, 'cache_read': 1024}, 'output_token_details': {'audio': 0, 'reasoning': 0}})]),\n",
       "   'and other commodities, the bank has to ensure that no physical delivery \\nis made to the client. \\n15. Investments in non-traditional investments that do not comply with \\npara. 13, their derivatives and combinations thereof are permissible for \\nthe purposes of portfolio diversification provided they are structured \\naccording to the Fund-of-Funds Principle (the fund is invested in several \\nlegally segregated collective investment schemes) or Multi-Manager-  \\nPrinciple (i. e., that the collective investment scheme’s portfolio is \\nmanaged by more than one asset manager, each single asset manager \\nbeing responsible solely for a specific part of the portfolio) or otherwise \\nguarantee an equivalent diversification.\\n\\nPortfolio Management Guidelines  |  SBA  |  November 20208\\n  \\n16. The asset management mandate does not entitle the bank to grant \\ncorporate loans to third parties for the client’s account.\\nArt.  5\\nThe bank must spread the portfolio risk through sufficient \\ndiversification.\\nImplementing provisions\\n17. It avoids cluster risks e.  g. from unusual concentration in an excessively \\nsmall number of investments.\\nArt.  6\\nInvestment of assets is restricted to readily marketable instruments.\\nImplementing provisions\\n18. Ready marketability applies when one of the following criteria is met: \\n• There must be a representative market for the security (on or \\noff-exchange). \\n• The issuer or bank must commit to provide ready marketability equiva -\\nlent to a representative market. \\n• The investment must be redeemable at regular intervals (in case of \\nliquid non-traditional collective investment schemes, at least bi-  \\nweekly; other instruments at least quarterly with a notice period not \\nexceeding 60 days or, alternatively, at least monthly with a notice \\nperiod not exceeding 90 days).\\n\\nPortfolio Management Guidelines  |  SBA  |  November 2020 11\\n  \\n4 Final Provision \\nArt.  9\\n1 The revised version of these Guidelines comes into force on  \\n1st of January 2022. \\n2 Institutions which complete the changeover to FinSA before the \\nend of the transition period and have notified their audit company \\nthereof in accordance with Art. 106 para. 2 FINSO, may already apply \\nthese guidelines from this date.\\n\\nPortfolio Management Guidelines  |  SBA  |  November 2020 7\\n  \\nArt.  4\\nFor the implementation of the applicable investment strategy, the \\nbank may invest the client’s portfolio in any asset class, investment \\ninstrument and associated investment techniques required to achieve \\nthe investment objective, subject to the restrictions as set out in \\nthese Guidelines.\\nImplementing provisions\\n12. For the implementation of the investment strategy the bank may in \\nparticular but not limited to choose to invest in financial instruments \\nand securities as defined in Art. 3 (a) and (b) FINSA.  \\n13. In the case of collective investment schemes it is a prerequisite that they \\non their part invest in instruments as set out in para. 12 above or real \\nestate. Investments in liquid non-traditional collective investment \\nschemes are permissible if such liquid non-traditional collective invest -\\nment schemes are subject to prudential supervision and comply with the \\nready marketability requirements of Art. 6 (e.  g. UCITS). \\n14. Investments in base metals and other commodities are permissible in the \\nform of collective investment schemes, derivatives, index or structured \\nproducts for the purpose of diversifying the managed portfolio. In case \\nof investment instruments that involve physical delivery of base metals \\nand other commodities, the bank has to ensure that no physical delivery \\nis made to the client. \\n15. Investments in non-traditional investments that do not comply with')]}"
      ]
     },
     "execution_count": 41,
     "metadata": {},
     "output_type": "execute_result"
    }
   ],
   "execution_count": 41
  },
  {
   "metadata": {},
   "cell_type": "markdown",
   "source": "이제 앱은 최신 정보를 제공할 뿐만 아니라, 선별된 문서에서 특정 지식을 검색할 수 있게 되었다. 다음 단계는 frontend를 구축하는 것이다.",
   "id": "2d05b3fd3fb652ff"
  }
 ],
 "metadata": {
  "kernelspec": {
   "display_name": "Python 3",
   "language": "python",
   "name": "python3"
  },
  "language_info": {
   "codemirror_mode": {
    "name": "ipython",
    "version": 2
   },
   "file_extension": ".py",
   "mimetype": "text/x-python",
   "name": "python",
   "nbconvert_exporter": "python",
   "pygments_lexer": "ipython2",
   "version": "2.7.6"
  }
 },
 "nbformat": 4,
 "nbformat_minor": 5
}
