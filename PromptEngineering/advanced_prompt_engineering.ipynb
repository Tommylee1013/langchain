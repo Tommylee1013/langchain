{
 "cells": [
  {
   "metadata": {},
   "cell_type": "markdown",
   "source": [
    "### Few shot Learning\n",
    "\n",
    "소량의 학습만으로 새로운 작업을 학습하거나 일반화하는 것을 의미한다. 모델에 어떻게 반응하기를 원하는지에 대한 예시를 제공하는 것으로, 이 기술은 전체 아키텍처를 건드리지 않고도 모델 맞춤화를 가능하게 한다."
   ],
   "id": "c649e5710f427d4b"
  },
  {
   "cell_type": "code",
   "id": "initial_id",
   "metadata": {
    "collapsed": true,
    "ExecuteTime": {
     "end_time": "2024-12-31T17:14:49.452325Z",
     "start_time": "2024-12-31T17:14:49.449018Z"
    }
   },
   "source": [
    "import numpy as np\n",
    "import pandas as pd\n",
    "import openai\n",
    "from openai import OpenAI\n",
    "import os\n",
    "\n",
    "with open('../config/api.key') as file :\n",
    "    lines = file.readlines()\n",
    "    api_key = lines[0].strip()\n",
    "    serp_api_key = lines[1].strip()\n",
    "    langsmith_api_key = lines[2].strip()\n",
    "\n",
    "openai.api_key = api_key"
   ],
   "outputs": [],
   "execution_count": 32
  },
  {
   "metadata": {
    "ExecuteTime": {
     "end_time": "2024-12-31T16:21:46.881093Z",
     "start_time": "2024-12-31T16:21:46.871398Z"
    }
   },
   "cell_type": "code",
   "source": [
    "system_message = \"\"\"\n",
    "당신은 AI 마케팅 도우미입니다. 사용자가 새로운 제품 이름에 대한 캐치프레이즈를 만들 수 있도록 도와줍니다.\n",
    "주어진 제품명에 대해 다음 예시와 비슷한 홍보 문구를 만들어주세요.\n",
    "\n",
    "Apple - Think Different\n",
    "Samsung - Do What You Can’t\n",
    "SK 텔레콤 - 또 다른 세상을 만날 땐 잠시 꺼두셔도 좋습니다.\n",
    "Amazon - Earth’s Most Customer-Centric Company\n",
    "Microsoft - Cloud First\n",
    "Google - Don’t Be Evil\n",
    "\n",
    "제품명 : \n",
    "\"\"\"\n",
    "\n",
    "product_name = 'iPhone'"
   ],
   "id": "d12208d0aef24084",
   "outputs": [],
   "execution_count": 2
  },
  {
   "metadata": {
    "ExecuteTime": {
     "end_time": "2024-12-31T16:22:01.788843Z",
     "start_time": "2024-12-31T16:22:01.132240Z"
    }
   },
   "cell_type": "code",
   "source": [
    "client = OpenAI(api_key = openai.api_key)\n",
    "\n",
    "response = client.chat.completions.create(\n",
    "    model = 'gpt-4o-mini',\n",
    "    messages = [\n",
    "        {'role': 'system', 'content': system_message},\n",
    "        {'role': 'user', 'content': product_name},\n",
    "    ]\n",
    ")"
   ],
   "id": "5b6a55f944a386c1",
   "outputs": [],
   "execution_count": 3
  },
  {
   "metadata": {
    "ExecuteTime": {
     "end_time": "2024-12-31T16:22:17.631276Z",
     "start_time": "2024-12-31T16:22:17.628722Z"
    }
   },
   "cell_type": "code",
   "source": "print(response.choices[0].message.content)",
   "id": "c3ba0b36587cbc66",
   "outputs": [
    {
     "name": "stdout",
     "output_type": "stream",
     "text": [
      "iPhone - Your World in a Touch\n"
     ]
    }
   ],
   "execution_count": 4
  },
  {
   "metadata": {},
   "cell_type": "markdown",
   "source": "대부분의 경우, fewshot learning은 fine tuning을 적절한 도구로 생각할 수 있는 극도로 특수한 시나리오에서도 모델을 맞춤화할 수 있을 만큼 강력하다는 점을 명심하자. 실제로 적절한 few shot learning은 fine tuning process만큼 효과적일 수 있다. 다른 예를 살펴보자. 감정 분석에 특화된 모델을 개발하고자 한다고 가정해 보자. 이를 위해 긍정 또는 부정 등 원하는 결과와 함께 다양한 감정을 가진 일련의 텍스트 예시를 제공한다. 이 예제 세트는 지도 학습 과업을 위한 작은 훈련 세트에 불과하며, fine tuning과 유일한 차이점은 모델의 parameter를 업데이트 하지 않는다는 점이다.",
   "id": "fb658ba03f5c194d"
  },
  {
   "metadata": {
    "ExecuteTime": {
     "end_time": "2024-12-31T16:42:35.588176Z",
     "start_time": "2024-12-31T16:42:35.584807Z"
    }
   },
   "cell_type": "code",
   "source": [
    "system_message = \"\"\"\n",
    "당신은 금융, 경제에 종사하고 있는 사람들의 연설을 전문적으로 분석하는 분석가입니다. \n",
    "연설의 감정을 향후 주식시장에 미칠 영향을 기준으로 positive, negative 로 분류합니다.\n",
    "\n",
    "원문이 한국어가 아닌 경우, 한국어로 번역을 하되 번역된 원문은 제공하지 마세요.\n",
    "\n",
    "다음 텍스트들을 예시로 사용할 수 있습니다.\n",
    "\n",
    "텍스트 : \"I love this product! It's fantastic and works perfectly.\"\n",
    "Positive\n",
    "\n",
    "텍스트 : \"I'm really disappointed with the quality of the food.\"\n",
    "Negative\n",
    "\n",
    "텍스트 : \"This is the best day of my life.\"\n",
    "Positive\n",
    "\n",
    "텍스트 : \"I can't stand the noise in this restaurant.\"\n",
    "Negative\n",
    "\n",
    "감정만을 구두점 없이 출력합니다.\n",
    "\n",
    "텍스트 : \n",
    "\"\"\""
   ],
   "id": "548177004c1dddae",
   "outputs": [],
   "execution_count": 16
  },
  {
   "metadata": {},
   "cell_type": "markdown",
   "source": "분류기를 테스트하기 위해 Kaggle에서 제공되는 영화 리뷰의 IMDB 데이터베이스를 사용한다.",
   "id": "9778ea6737bbf9bc"
  },
  {
   "metadata": {
    "ExecuteTime": {
     "end_time": "2024-12-31T16:42:39.423356Z",
     "start_time": "2024-12-31T16:42:38.973358Z"
    }
   },
   "cell_type": "code",
   "source": [
    "df = pd.read_csv('../data/IMDB Dataset.csv', encoding = 'utf-8')\n",
    "df['sentiment'] = df['sentiment'].replace(\n",
    "    {0: 'negative', 1: 'positive'}\n",
    ")\n",
    "df.head()"
   ],
   "id": "7e077f225bb22cc6",
   "outputs": [
    {
     "data": {
      "text/plain": [
       "                                              review sentiment\n",
       "0  One of the other reviewers has mentioned that ...  positive\n",
       "1  A wonderful little production. <br /><br />The...  positive\n",
       "2  I thought this was a wonderful way to spend ti...  positive\n",
       "3  Basically there's a family where a little boy ...  negative\n",
       "4  Petter Mattei's \"Love in the Time of Money\" is...  positive"
      ],
      "text/html": [
       "<div>\n",
       "<style scoped>\n",
       "    .dataframe tbody tr th:only-of-type {\n",
       "        vertical-align: middle;\n",
       "    }\n",
       "\n",
       "    .dataframe tbody tr th {\n",
       "        vertical-align: top;\n",
       "    }\n",
       "\n",
       "    .dataframe thead th {\n",
       "        text-align: right;\n",
       "    }\n",
       "</style>\n",
       "<table border=\"1\" class=\"dataframe\">\n",
       "  <thead>\n",
       "    <tr style=\"text-align: right;\">\n",
       "      <th></th>\n",
       "      <th>review</th>\n",
       "      <th>sentiment</th>\n",
       "    </tr>\n",
       "  </thead>\n",
       "  <tbody>\n",
       "    <tr>\n",
       "      <th>0</th>\n",
       "      <td>One of the other reviewers has mentioned that ...</td>\n",
       "      <td>positive</td>\n",
       "    </tr>\n",
       "    <tr>\n",
       "      <th>1</th>\n",
       "      <td>A wonderful little production. &lt;br /&gt;&lt;br /&gt;The...</td>\n",
       "      <td>positive</td>\n",
       "    </tr>\n",
       "    <tr>\n",
       "      <th>2</th>\n",
       "      <td>I thought this was a wonderful way to spend ti...</td>\n",
       "      <td>positive</td>\n",
       "    </tr>\n",
       "    <tr>\n",
       "      <th>3</th>\n",
       "      <td>Basically there's a family where a little boy ...</td>\n",
       "      <td>negative</td>\n",
       "    </tr>\n",
       "    <tr>\n",
       "      <th>4</th>\n",
       "      <td>Petter Mattei's \"Love in the Time of Money\" is...</td>\n",
       "      <td>positive</td>\n",
       "    </tr>\n",
       "  </tbody>\n",
       "</table>\n",
       "</div>"
      ]
     },
     "execution_count": 17,
     "metadata": {},
     "output_type": "execute_result"
    }
   ],
   "execution_count": 17
  },
  {
   "metadata": {
    "ExecuteTime": {
     "end_time": "2024-12-31T16:42:39.426861Z",
     "start_time": "2024-12-31T16:42:39.424393Z"
    }
   },
   "cell_type": "code",
   "source": "df = df.sample(n=10, random_state=42)",
   "id": "32349fa1b7cd46da",
   "outputs": [],
   "execution_count": 18
  },
  {
   "metadata": {
    "ExecuteTime": {
     "end_time": "2024-12-31T16:42:40.136822Z",
     "start_time": "2024-12-31T16:42:40.131885Z"
    }
   },
   "cell_type": "code",
   "source": "df",
   "id": "6ad03d280b9c1a45",
   "outputs": [
    {
     "data": {
      "text/plain": [
       "                                                  review sentiment\n",
       "33553  I really liked this Summerslam due to the look...  positive\n",
       "9427   Not many television shows appeal to quite as m...  positive\n",
       "199    The film quickly gets to a major chase scene w...  negative\n",
       "12447  Jane Austen would definitely approve of this o...  positive\n",
       "39489  Expectations were somewhat high for me when I ...  negative\n",
       "42724  I've watched this movie on a fairly regular ba...  positive\n",
       "10822  For once a story of hope highlighted over the ...  positive\n",
       "49498  Okay, I didn't get the Purgatory thing the fir...  positive\n",
       "4144   I was very disappointed with this series. It h...  negative\n",
       "36958  The first 30 minutes of Tinseltown had my fing...  negative"
      ],
      "text/html": [
       "<div>\n",
       "<style scoped>\n",
       "    .dataframe tbody tr th:only-of-type {\n",
       "        vertical-align: middle;\n",
       "    }\n",
       "\n",
       "    .dataframe tbody tr th {\n",
       "        vertical-align: top;\n",
       "    }\n",
       "\n",
       "    .dataframe thead th {\n",
       "        text-align: right;\n",
       "    }\n",
       "</style>\n",
       "<table border=\"1\" class=\"dataframe\">\n",
       "  <thead>\n",
       "    <tr style=\"text-align: right;\">\n",
       "      <th></th>\n",
       "      <th>review</th>\n",
       "      <th>sentiment</th>\n",
       "    </tr>\n",
       "  </thead>\n",
       "  <tbody>\n",
       "    <tr>\n",
       "      <th>33553</th>\n",
       "      <td>I really liked this Summerslam due to the look...</td>\n",
       "      <td>positive</td>\n",
       "    </tr>\n",
       "    <tr>\n",
       "      <th>9427</th>\n",
       "      <td>Not many television shows appeal to quite as m...</td>\n",
       "      <td>positive</td>\n",
       "    </tr>\n",
       "    <tr>\n",
       "      <th>199</th>\n",
       "      <td>The film quickly gets to a major chase scene w...</td>\n",
       "      <td>negative</td>\n",
       "    </tr>\n",
       "    <tr>\n",
       "      <th>12447</th>\n",
       "      <td>Jane Austen would definitely approve of this o...</td>\n",
       "      <td>positive</td>\n",
       "    </tr>\n",
       "    <tr>\n",
       "      <th>39489</th>\n",
       "      <td>Expectations were somewhat high for me when I ...</td>\n",
       "      <td>negative</td>\n",
       "    </tr>\n",
       "    <tr>\n",
       "      <th>42724</th>\n",
       "      <td>I've watched this movie on a fairly regular ba...</td>\n",
       "      <td>positive</td>\n",
       "    </tr>\n",
       "    <tr>\n",
       "      <th>10822</th>\n",
       "      <td>For once a story of hope highlighted over the ...</td>\n",
       "      <td>positive</td>\n",
       "    </tr>\n",
       "    <tr>\n",
       "      <th>49498</th>\n",
       "      <td>Okay, I didn't get the Purgatory thing the fir...</td>\n",
       "      <td>positive</td>\n",
       "    </tr>\n",
       "    <tr>\n",
       "      <th>4144</th>\n",
       "      <td>I was very disappointed with this series. It h...</td>\n",
       "      <td>negative</td>\n",
       "    </tr>\n",
       "    <tr>\n",
       "      <th>36958</th>\n",
       "      <td>The first 30 minutes of Tinseltown had my fing...</td>\n",
       "      <td>negative</td>\n",
       "    </tr>\n",
       "  </tbody>\n",
       "</table>\n",
       "</div>"
      ]
     },
     "execution_count": 19,
     "metadata": {},
     "output_type": "execute_result"
    }
   ],
   "execution_count": 19
  },
  {
   "metadata": {
    "ExecuteTime": {
     "end_time": "2024-12-31T16:42:48.519715Z",
     "start_time": "2024-12-31T16:42:44.082559Z"
    }
   },
   "cell_type": "code",
   "source": [
    "def process_text(text) : \n",
    "    response = client.chat.completions.create(\n",
    "        model = 'gpt-4o-mini',\n",
    "        messages = [\n",
    "            {'role': 'system', 'content': system_message},\n",
    "            {'role': 'user', 'content': text},\n",
    "        ]\n",
    "    )\n",
    "    return response.choices[0].message.content\n",
    "\n",
    "df['predicted'] = df['review'].apply(process_text)"
   ],
   "id": "1dd7b5cbf252825a",
   "outputs": [],
   "execution_count": 20
  },
  {
   "metadata": {
    "ExecuteTime": {
     "end_time": "2024-12-31T16:42:49.095575Z",
     "start_time": "2024-12-31T16:42:49.089409Z"
    }
   },
   "cell_type": "code",
   "source": "df",
   "id": "7991554d5ffa1571",
   "outputs": [
    {
     "data": {
      "text/plain": [
       "                                                  review sentiment predicted\n",
       "33553  I really liked this Summerslam due to the look...  positive  Negative\n",
       "9427   Not many television shows appeal to quite as m...  positive  Positive\n",
       "199    The film quickly gets to a major chase scene w...  negative  Negative\n",
       "12447  Jane Austen would definitely approve of this o...  positive  Positive\n",
       "39489  Expectations were somewhat high for me when I ...  negative  Negative\n",
       "42724  I've watched this movie on a fairly regular ba...  positive  Positive\n",
       "10822  For once a story of hope highlighted over the ...  positive  Positive\n",
       "49498  Okay, I didn't get the Purgatory thing the fir...  positive  Negative\n",
       "4144   I was very disappointed with this series. It h...  negative  Negative\n",
       "36958  The first 30 minutes of Tinseltown had my fing...  negative  Negative"
      ],
      "text/html": [
       "<div>\n",
       "<style scoped>\n",
       "    .dataframe tbody tr th:only-of-type {\n",
       "        vertical-align: middle;\n",
       "    }\n",
       "\n",
       "    .dataframe tbody tr th {\n",
       "        vertical-align: top;\n",
       "    }\n",
       "\n",
       "    .dataframe thead th {\n",
       "        text-align: right;\n",
       "    }\n",
       "</style>\n",
       "<table border=\"1\" class=\"dataframe\">\n",
       "  <thead>\n",
       "    <tr style=\"text-align: right;\">\n",
       "      <th></th>\n",
       "      <th>review</th>\n",
       "      <th>sentiment</th>\n",
       "      <th>predicted</th>\n",
       "    </tr>\n",
       "  </thead>\n",
       "  <tbody>\n",
       "    <tr>\n",
       "      <th>33553</th>\n",
       "      <td>I really liked this Summerslam due to the look...</td>\n",
       "      <td>positive</td>\n",
       "      <td>Negative</td>\n",
       "    </tr>\n",
       "    <tr>\n",
       "      <th>9427</th>\n",
       "      <td>Not many television shows appeal to quite as m...</td>\n",
       "      <td>positive</td>\n",
       "      <td>Positive</td>\n",
       "    </tr>\n",
       "    <tr>\n",
       "      <th>199</th>\n",
       "      <td>The film quickly gets to a major chase scene w...</td>\n",
       "      <td>negative</td>\n",
       "      <td>Negative</td>\n",
       "    </tr>\n",
       "    <tr>\n",
       "      <th>12447</th>\n",
       "      <td>Jane Austen would definitely approve of this o...</td>\n",
       "      <td>positive</td>\n",
       "      <td>Positive</td>\n",
       "    </tr>\n",
       "    <tr>\n",
       "      <th>39489</th>\n",
       "      <td>Expectations were somewhat high for me when I ...</td>\n",
       "      <td>negative</td>\n",
       "      <td>Negative</td>\n",
       "    </tr>\n",
       "    <tr>\n",
       "      <th>42724</th>\n",
       "      <td>I've watched this movie on a fairly regular ba...</td>\n",
       "      <td>positive</td>\n",
       "      <td>Positive</td>\n",
       "    </tr>\n",
       "    <tr>\n",
       "      <th>10822</th>\n",
       "      <td>For once a story of hope highlighted over the ...</td>\n",
       "      <td>positive</td>\n",
       "      <td>Positive</td>\n",
       "    </tr>\n",
       "    <tr>\n",
       "      <th>49498</th>\n",
       "      <td>Okay, I didn't get the Purgatory thing the fir...</td>\n",
       "      <td>positive</td>\n",
       "      <td>Negative</td>\n",
       "    </tr>\n",
       "    <tr>\n",
       "      <th>4144</th>\n",
       "      <td>I was very disappointed with this series. It h...</td>\n",
       "      <td>negative</td>\n",
       "      <td>Negative</td>\n",
       "    </tr>\n",
       "    <tr>\n",
       "      <th>36958</th>\n",
       "      <td>The first 30 minutes of Tinseltown had my fing...</td>\n",
       "      <td>negative</td>\n",
       "      <td>Negative</td>\n",
       "    </tr>\n",
       "  </tbody>\n",
       "</table>\n",
       "</div>"
      ]
     },
     "execution_count": 21,
     "metadata": {},
     "output_type": "execute_result"
    }
   ],
   "execution_count": 21
  },
  {
   "metadata": {},
   "cell_type": "markdown",
   "source": "label과 predicted 열을 비교한 결과를 보면 알 수 있듯이, 모델을 fine tuning하지 않고도 모든 리뷰를 정확하게 분류할 수 있다. 이것은 모델 전문화 측면에서 few shot learning 기술을 통해 달성할 수 있는 것의 한 예일 뿐이다.",
   "id": "ac61e0988c89a78c"
  },
  {
   "metadata": {},
   "cell_type": "markdown",
   "source": [
    "### Chain of Thought(CoT\n",
    "\n",
    "사고 연쇄(Chain of Thought)는 중간 추론 단계를 통해 복잡한 추론을 가능하게 하는 기법이다. 또한 모델이 자신의 추론을 설명하도록 유도하여 너무 빠르지 않도록 '강제'함으로써 잘못된 응답을 제공할 위험을 방지한다. LLM이 일반적인 일차 방정식을 풀게 하고 싶다고 가정하자. 이를 위해 LLM이 따라야 할 기본 추론 목록을 제공한다."
   ],
   "id": "541549a65bc2d08d"
  },
  {
   "metadata": {
    "ExecuteTime": {
     "end_time": "2024-12-31T16:53:46.520643Z",
     "start_time": "2024-12-31T16:53:41.569605Z"
    }
   },
   "cell_type": "code",
   "source": [
    "system_message = \"\"\"\n",
    "일반적인 1차 방정식을 해결하려면 다음 단계를 따르세요.\n",
    "\n",
    "1. 방정식 식별 : 해결하려는 방정식을 식별합니다.\n",
    "   방정식은 'ax + b = c' 형태여야 합니다.\n",
    "   여기서 'a'는 변수의 계수, 'x'는 변수, 'b'는 상수, 'c'는 또 다른 상수입니다.\n",
    "2. 변수 고립화 : 목표는 변수 'x'를 방정식 한쪽에 고립시키는 것입니다.\n",
    "   이를 위해 다음 단계를 수행합니다:\n",
    "   a. 상수 추가 또는 빼기 : 상수를 한쪽으로 이동시키기 위해 양쪽에서 'b'를 더하거나 뺍니다.\n",
    "   b. 계수로 나누기 : 'x'를 고립시키기 위해 양쪽을 'a'로 나눕니다.\n",
    "      'a'가 0이면 방정식에는 고유한 해가 없을 수 있습니다.\n",
    "3. 단순화 : 방정식의 양쪽을 최대한 단순화합니다.\n",
    "4. 'x'에 대해 해결 : 'x'를 한쪽에 고립시키면 해결책을 얻을 수 있습니다.\n",
    "   이는 'x = 값' 형태가 될 것입니다. \n",
    "5. 해 검토 : 찾은 'x' 값을 원래 방정식에 대입하여 방정식을 만족하는지 확인합니다.\n",
    "   그렇다면 올바른 해결책을 찾은 것입니다.\n",
    "6. 해 표현 : 해결책을 명확하고 간결한 형태로 작성합니다.\n",
    "7. 특수 경우 고려 : 'a'가 0일 때 해가 없거나 무한히 많은 해가 있을 수 있는 특수한 경우를 인지합니다.\n",
    "\n",
    "방정식 : \n",
    "\"\"\"\n",
    "\n",
    "equation = \"3x + 5 = 11\"\n",
    "\n",
    "response = client.chat.completions.create(\n",
    "    model = 'gpt-4o-mini',\n",
    "    messages = [\n",
    "        {'role': 'system', 'content': system_message},\n",
    "        {'role': 'user', 'content': equation},\n",
    "    ]\n",
    ")"
   ],
   "id": "e27be81442adcbda",
   "outputs": [],
   "execution_count": 22
  },
  {
   "metadata": {
    "ExecuteTime": {
     "end_time": "2024-12-31T16:53:49.256135Z",
     "start_time": "2024-12-31T16:53:49.252654Z"
    }
   },
   "cell_type": "code",
   "source": "print(response.choices[0].message.content)",
   "id": "7b922b166d4699f",
   "outputs": [
    {
     "name": "stdout",
     "output_type": "stream",
     "text": [
      "주어진 방정식은 \\( 3x + 5 = 11 \\)입니다. 이 방정식을 해결해 보겠습니다.\n",
      "\n",
      "1. **방정식 식별**: 방정식은 \\( ax + b = c \\) 형태이고, 여기서 \\( a = 3 \\), \\( b = 5 \\), \\( c = 11 \\)입니다.\n",
      "\n",
      "2. **변수 고립화**:\n",
      "   - **상수 추가 또는 빼기**: 양쪽에서 5를 빼줍니다.\n",
      "     \\[\n",
      "     3x + 5 - 5 = 11 - 5\n",
      "     \\]\n",
      "     이는 \\( 3x = 6 \\)이 됩니다.\n",
      "     \n",
      "   - **계수로 나누기**: 양쪽을 3으로 나눕니다.\n",
      "     \\[\n",
      "     \\frac{3x}{3} = \\frac{6}{3}\n",
      "     \\]\n",
      "     그러면 \\( x = 2 \\)가 됩니다.\n",
      "\n",
      "3. **단순화**: 현재 방정식은 이미 단순화 되어 있습니다.\n",
      "\n",
      "4. **'x'에 대해 해결**: \\( x = 2 \\)입니다.\n",
      "\n",
      "5. **해 검토**: 원래 방정식에 대입하여 확인합니다.\n",
      "   \\[\n",
      "   3(2) + 5 = 6 + 5 = 11\n",
      "   \\]\n",
      "   오른쪽과 왼쪽이 같으므로 올바른 해결책입니다.\n",
      "\n",
      "6. **해 표현**: 최종 해는 \\( x = 2 \\)입니다.\n",
      "\n",
      "7. **특수 경우 고려**: \\( a \\)는 3이므로 고유한 해가 있습니다.\n",
      "\n",
      "따라서 주어진 방정식의 해는 \\( x = 2 \\)입니다.\n"
     ]
    }
   ],
   "execution_count": 23
  },
  {
   "metadata": {},
   "cell_type": "markdown",
   "source": [
    "모델은 meta prompt에 지정된 7단계를 명확하게 따랐으며, 이를 통해 이 과업을 수행하는 데 '시간적 여유'를 가질 수 있다. 응답하기 전에 추론이 필요한 더 복잡한 과업에서 더 나은 결과를 얻기 위해 이 기능을 단답형 prompt와 결합할 수도 있다.\n",
    "\n",
    "CoT를 사용하면 모델에 중간 추론 단계를 생성하도록 유도한다. 이는 다음 절에서 살펴볼 또 다른 추론 기법의 구성 요소이기도 하다."
   ],
   "id": "d22abbb6c0619f01"
  },
  {
   "metadata": {},
   "cell_type": "markdown",
   "source": "### Reason and Act (ReAct)",
   "id": "88a3ac876b1cfe36"
  },
  {
   "metadata": {
    "ExecuteTime": {
     "end_time": "2024-12-31T17:19:41.582751Z",
     "start_time": "2024-12-31T17:19:41.286797Z"
    }
   },
   "cell_type": "code",
   "source": [
    "from langchain import hub\n",
    "from langchain.agents import AgentExecutor, create_react_agent, load_tools\n",
    "from langchain_openai import ChatOpenAI\n",
    "\n",
    "chat = ChatOpenAI(\n",
    "    model_name = 'gpt-4o-mini',\n",
    "    api_key = openai.api_key,\n",
    "    \n",
    ")\n",
    "tools = load_tools(\n",
    "    ['serpapi'],\n",
    "    serpapi_api_key = serp_api_key\n",
    ")\n",
    "prompt = hub.pull('hwchase17/react')\n",
    "\n",
    "agent = create_react_agent(chat, tools, prompt)\n",
    "agent_executor = AgentExecutor(\n",
    "    agent = agent,\n",
    "    tools = tools,\n",
    "    verbose = True\n",
    ")"
   ],
   "id": "5e0aeae66fe2da71",
   "outputs": [
    {
     "name": "stderr",
     "output_type": "stream",
     "text": [
      "/Users/junghunlee/anaconda3/envs/langchain/lib/python3.11/site-packages/langsmith/client.py:256: LangSmithMissingAPIKeyWarning: API key must be provided when using hosted LangSmith API\n",
      "  warnings.warn(\n"
     ]
    }
   ],
   "execution_count": 37
  },
  {
   "metadata": {
    "ExecuteTime": {
     "end_time": "2024-12-31T17:20:25.143594Z",
     "start_time": "2024-12-31T17:20:25.140744Z"
    }
   },
   "cell_type": "code",
   "source": "print(prompt.template)",
   "id": "bd14fbd0c83e0640",
   "outputs": [
    {
     "name": "stdout",
     "output_type": "stream",
     "text": [
      "Answer the following questions as best you can. You have access to the following tools:\n",
      "\n",
      "{tools}\n",
      "\n",
      "Use the following format:\n",
      "\n",
      "Question: the input question you must answer\n",
      "Thought: you should always think about what to do\n",
      "Action: the action to take, should be one of [{tool_names}]\n",
      "Action Input: the input to the action\n",
      "Observation: the result of the action\n",
      "... (this Thought/Action/Action Input/Observation can repeat N times)\n",
      "Thought: I now know the final answer\n",
      "Final Answer: the final answer to the original input question\n",
      "\n",
      "Begin!\n",
      "\n",
      "Question: {input}\n",
      "Thought:{agent_scratchpad}\n"
     ]
    }
   ],
   "execution_count": 38
  },
  {
   "metadata": {
    "ExecuteTime": {
     "end_time": "2024-12-31T17:21:38.716880Z",
     "start_time": "2024-12-31T17:21:33.546141Z"
    }
   },
   "cell_type": "code",
   "source": [
    "result = agent_executor.invoke(\n",
    "    {'input': '2024년 8월 5일 미국의 주식시장이 갑자기 하락한 이유는?'}\n",
    ")\n",
    "print(result)"
   ],
   "id": "cf5f658745ab15c0",
   "outputs": [
    {
     "name": "stdout",
     "output_type": "stream",
     "text": [
      "\n",
      "\n",
      "\u001B[1m> Entering new AgentExecutor chain...\u001B[0m\n",
      "\u001B[32;1m\u001B[1;3m미국의 주식시장이 갑자기 하락한 이유를 찾기 위해 최근 뉴스나 시장 동향을 검색해야 할 것 같습니다. \n",
      "Action: Search \n",
      "Action Input: \"2024년 8월 5일 미국 주식시장 하락 이유\" \u001B[0m\u001B[36;1m\u001B[1;3m[\"미국 경기 둔화가 지표로 확인되며 경기 침체 진단에 증시가 폭락한 가운데 엔화 가치가 급등하며 '엔 캐리 트레이드' 청산 공포까지 커지고 있다. 4일 ...\", '미국발 경기침체 우려와 주요국 통화정책 변화, 중동 분쟁과 미국 대통령 선거 등 대외적 불확실성이 해소되지 않은 까닭에 증권시장에선 당분간 변동성이 ...', '증권사들의 프로그램 매매와 미국 경제의 불안이 이유였다고 하지만 정확한 이유는 아닌 것으로 밝혀졌다. 블랙먼데이에 미국 시장 대형주인 IBM, 엑손( ...', '5일 미국발 경기 침체 우려로 국내 증시를 포함한 아시아 증시가 급락한 가운데 미국 나스닥100 선물 지수 역시 급락 중이다. 아시아 증시 폭락이 미국 ...', '달러 인덱스는 안전자산 선호 현상보다 연준의 금리인하 전망에 더욱 초점을 맞추면서 전일비 1.16% 급락한 103.21pt로 거래를 마쳤습니다. WTI 유가의 ...', '미국 경기 침체 우려, 외국인 투자자의 대량 매도, 엔 캐리 트레이드 청산 우려, 인공지능 관련 주식의 수익성 우려, 중동 지정학적 불안 등이 주요 원인 ...', '이번 주(8월 5일~8월 9일) 뉴욕증시는 미국의 경기 침체 우려 속 높은 변동성을 보일 것으로 전망된다.지난주 뉴욕증시는 여러 대형 이벤트 속 롤러 ...', '5일 미국 경기 침체에 대한 우려 등으로 한국 증시가 폭락하며 최악의 하루를 경험했다. 이날 코스피는 전 거래일 대비 8.77% 내린 2,441.55, 코스닥은 ...']\u001B[0m\u001B[32;1m\u001B[1;3mThought: 여러 뉴스 항목에서 2024년 8월 5일 미국 주식시장이 하락한 이유로 미국 경기 둔화, 엔 캐리 트레이드 청산 우려, 외국인 투자자의 대량 매도, 인공지능 관련 주식의 수익성 우려 그리고 중동 지정학적 불안 등이 언급되고 있습니다. 이 정보를 종합하여 최종적인 이유를 정리할 수 있을 것 같습니다. \n",
      "Final Answer: 2024년 8월 5일 미국 주식시장이 하락한 이유는 미국 경기 둔화 우려, 엔 캐리 트레이드 청산 우려, 외국인 투자자의 대량 매도, 인공지능 관련 주식의 수익성 우려, 그리고 중동 지정학적 불안 등이 복합적으로 작용했기 때문입니다.\u001B[0m\n",
      "\n",
      "\u001B[1m> Finished chain.\u001B[0m\n",
      "{'input': '2024년 8월 5일 미국의 주식시장이 갑자기 하락한 이유는?', 'output': '2024년 8월 5일 미국 주식시장이 하락한 이유는 미국 경기 둔화 우려, 엔 캐리 트레이드 청산 우려, 외국인 투자자의 대량 매도, 인공지능 관련 주식의 수익성 우려, 그리고 중동 지정학적 불안 등이 복합적으로 작용했기 때문입니다.'}\n"
     ]
    }
   ],
   "execution_count": 39
  }
 ],
 "metadata": {
  "kernelspec": {
   "display_name": "Python 3",
   "language": "python",
   "name": "python3"
  },
  "language_info": {
   "codemirror_mode": {
    "name": "ipython",
    "version": 2
   },
   "file_extension": ".py",
   "mimetype": "text/x-python",
   "name": "python",
   "nbconvert_exporter": "python",
   "pygments_lexer": "ipython2",
   "version": "2.7.6"
  }
 },
 "nbformat": 4,
 "nbformat_minor": 5
}
