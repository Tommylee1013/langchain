{
 "cells": [
  {
   "cell_type": "code",
   "id": "initial_id",
   "metadata": {
    "collapsed": true,
    "ExecuteTime": {
     "end_time": "2024-12-28T16:25:16.121977Z",
     "start_time": "2024-12-28T16:25:16.117302Z"
    }
   },
   "source": [
    "import numpy as np\n",
    "import pandas as pd\n",
    "import openai\n",
    "from openai import OpenAI\n",
    "import os\n",
    "\n",
    "with open('../config/api.key') as file :\n",
    "    lines = file.readlines()\n",
    "    api_key = lines[0].strip()\n",
    "\n",
    "openai.api_key = api_key"
   ],
   "outputs": [],
   "execution_count": 12
  },
  {
   "metadata": {
    "ExecuteTime": {
     "end_time": "2024-12-28T16:25:41.739853Z",
     "start_time": "2024-12-28T16:25:41.736142Z"
    }
   },
   "cell_type": "code",
   "source": [
    "system_message = \"\"\"\n",
    "당신은 주어진 텍스트를 바탕으로 튜토리얼을 생성하는 AI 어시스턴트입니다.\n",
    "텍스트에 어떤 절차를 진행하는 방법에 대한 지침이 포함되어 있다면,\n",
    "글머리 기호 목록 형식으로 튜토리얼을 생성하십시오.\n",
    "그렇지 않으면 텍스트에 지침이 포함되어 있지 않음을 사용자에게 알리십시오.\n",
    "\n",
    "텍스트 :\n",
    "\"\"\"\n",
    "\n",
    "instructions = \"\"\"\n",
    "이탈리아 제노바에서 유명한 소스를 준비하려면, 먼저 잣을 구워\n",
    "바질과 마늘과 함께 부엌 절구에 넣어 굵게 다집니다.\n",
    "그런 다음 절구에 오일의 절반을 넣고 소금과 후추로 간을 합니다.\n",
    "마지막으로 페스토를 그릇에 옮기고 파르메산 치즈 간 것을 넣고 저어줍니다.\n",
    "\"\"\""
   ],
   "id": "2c883597dd1a2c17",
   "outputs": [],
   "execution_count": 15
  },
  {
   "metadata": {
    "ExecuteTime": {
     "end_time": "2024-12-28T16:26:05.115432Z",
     "start_time": "2024-12-28T16:26:02.151886Z"
    }
   },
   "cell_type": "code",
   "source": [
    "client = OpenAI(api_key = openai.api_key)\n",
    "\n",
    "response = client.chat.completions.create(\n",
    "    model = 'gpt-4o-mini',\n",
    "    messages = [\n",
    "        {'role': 'system', 'content': system_message},\n",
    "        {'role': 'user', 'content': instructions},\n",
    "    ]\n",
    ")"
   ],
   "id": "db345f2efc256300",
   "outputs": [],
   "execution_count": 16
  },
  {
   "metadata": {
    "ExecuteTime": {
     "end_time": "2024-12-28T16:27:21.169808Z",
     "start_time": "2024-12-28T16:27:21.166317Z"
    }
   },
   "cell_type": "code",
   "source": "print(response.choices[0].message.content)",
   "id": "e8dd8ba4998cfe89",
   "outputs": [
    {
     "name": "stdout",
     "output_type": "stream",
     "text": [
      "튜토리얼: 이탈리아 제노바 스타일 소스 준비하기\n",
      "\n",
      "1. 잣을 구워 준비합니다.\n",
      "2. 부엌 절구에 구운 잣, 바질, 마늘을 넣습니다.\n",
      "3. 재료를 굵게 다집니다.\n",
      "4. 절구에 오일의 절반을 넣습니다.\n",
      "5. 소금과 후추로 간을 합니다.\n",
      "6. 페스토를 그릇에 옮깁니다.\n",
      "7. 파르메산 치즈를 간 후 그릇에 넣고 저어줍니다.\n"
     ]
    }
   ],
   "execution_count": 18
  },
  {
   "metadata": {},
   "cell_type": "markdown",
   "source": "### Article Summation",
   "id": "b71a212d73fb6a79"
  },
  {
   "metadata": {
    "ExecuteTime": {
     "end_time": "2024-12-29T05:51:41.366001Z",
     "start_time": "2024-12-29T05:51:41.358667Z"
    }
   },
   "cell_type": "code",
   "source": [
    "system_message = \"\"\"\n",
    "당신은 기사를 요약하여 사실과 의견, 투자 포인트를 요약하는 AI 어시스턴트입니다.\n",
    "이 작업을 완료하려면 다음 하위 작업을 수행하십시오 :\n",
    "\n",
    "언어가 한국어가 아닌 경우 한국어로 우선 번역합니다.\n",
    "제공된 기사 내용을 종합적으로 읽고 주요 주제와 핵심요점을 식별합니다.\n",
    "현재 기사 내용을 요약하여 실제로 발생한 사실과 작성자가 제시한 의견을 구분하고 이를 전달하는 단략 요약을 생성합니다.\n",
    "과정의 각 단계를 출력합니다.\n",
    "기사 :\n",
    "\"\"\"\n",
    "\n",
    "article = \"\"\"\n",
    "SEALSQ Expands R&D with SEALQUANTUM.com Lab to Pioneer Quantum-Safe Encryption and Post Quantum Research\n",
    "\n",
    "SEALSQ Corp (NASDAQ: LAES) (\"SEALSQ\" or \"Company\"), a company that focuses on developing and selling Semiconductors, PKI, and Post-Quantum technology hardware and software products, today announced the launch of SEALQUANTUM.com Lab, a state-of-the-art research and innovation hub dedicated to supporting organizations in transitioning to quantum-safe encryption. This initiative underscores SEALSQ's commitment to equipping industries with cutting-edge solutions to address the cybersecurity challenges posed by emerging quantum technologies.\n",
    "As quantum computing progresses at an exponential pace, traditional encryption methods face increasing vulnerabilities. SEALSQ recognizes the urgent need for quantum-resistant solutions to safeguard sensitive data and critical systems.\n",
    "\n",
    "The  SEALQUANTUM.com  Lab was created as a proactive step to empower businesses with the knowledge, tools, and resources necessary to adopt secure communication practices in a quantum-dominated future. These efforts were established to support the research and development of advanced technologies and precision instruments enabled by quantum mechanical and photonic processes, ensuring industries stay ahead of the curve in a rapidly evolving technological landscape.\n",
    "As quantum technologies become a reality, the need for quantum-safe encryption solutions grows increasingly urgent, said Carlos Moreira CEO of SEALSQ. Our  SEALQUANTUM.com  Lab is more than just a platform, it's a commitment to future-proofing our clients' security. By combining cutting-edge research with actionable tools, we're empowering businesses to navigate the complexities of quantum cryptography with confidence.\n",
    "The Quantum (NASDAQ:QMCO) Lab is not only a platform for education but also an R&D powerhouse, driving advancements in quantum-safe cryptography. It provides businesses with access to expertise, real-time insights, and guidance from leading experts in quantum cryptography. Additionally, it offers technical resources, including a comprehensive suite of tools for implementing quantum-resistant encryption, and fosters innovation through partnerships with universities and research institutions to push the boundaries of secure technologies.\n",
    "\n",
    "The Quantum Lab also includes partnerships with  Ã‰cole de Mines in France  and other top-tier universities, leveraging academic excellence to accelerate progress in quantum-safe technologies. By coordinating research efforts, SEALSQ ensures its solutions remain at the forefront of the quantum security revolution. The  SEALQUANTUM.com Lab complements SEALSQ's broader portfolio of R&D in quantum-safe technologies, including its  Post-Quantum Cryptographic (PQC) algorithms  and  Post Quantum Chips. These innovations, developed in collaboration with leading institutions like  Mines Saint-Ã‰tienne, are tailored for real-world applications across IoT, healthcare, logistics, and government sectors, ensuring that industries can confidently transition to a post-quantum era.\n",
    "To learn more about the  SEALQUANTUM.com  Lab and explore its offerings, visit  SEALQUANTUM.com.\n",
    "About SEALSQ:\n",
    "SEALSQ is a leading innovator in Post-Quantum Technology hardware and software solutions. Our technology seamlessly integrates Semiconductors, PKI (Public Key Infrastructure), and Provisioning Services, with a strategic emphasis on developing state-of-the-art Quantum Resistant Cryptography and Semiconductors designed to address the urgent security challenges posed by quantum computing. As quantum computers advance, traditional cryptographic methods like RSA and Elliptic Curve Cryptography (ECC) are increasingly vulnerable.\n",
    "SEALSQ is pioneering the development of Post-Quantum Semiconductors that provide robust, future-proof protection for sensitive data across a wide range of applications, including Multi-Factor Authentication tokens, Smart Energy, Medical (TASE:PMCN) and Healthcare Systems, Defense, IT Network Infrastructure, Automotive, and Industrial Automation and Control Systems. By embedding Post-Quantum Cryptography into our semiconductor solutions, SEALSQ ensures that organizations stay protected against quantum threats. Our products are engineered to safeguard critical systems, enhancing resilience and security across diverse industries.\n",
    "\n",
    "For more information on our Post-Quantum Semiconductors and security solutions, please visit www.sealsq.com.\n",
    "Forward Looking Statements\n",
    "This communication expressly or implicitly contains certain forward-looking statements concerning SEALSQ Corp and its businesses. Forward-looking statements include statements regarding our business strategy, financial performance, results of operations, market data, events or developments that we expect or anticipates will occur in the future, as well as any other statements which are not historical facts. Although we believe that the expectations reflected in such forward-looking statements are reasonable, no assurance can be given that such expectations will prove to have been correct. These statements involve known and unknown risks and are based upon a number of assumptions and estimates which are inherently subject to significant uncertainties and contingencies, many of which are beyond our control. Actual results may differ materially from those expressed or implied by such forward-looking statements. Important factors that, in our view, could cause actual results to differ materially from those discussed in the forward-looking statements include SEALSQ's ability to implement its growth strategies; SEALSQ's ability to successfully launch post-quantum semiconductor technology; SEALSQ's ability to capture a share of the quantum semiconductor market; the growth of the quantum computing market; SEALSQ's ability to expand its U.S. operations; SEALSQ's ability to make additional investments towards the development of a new generation of quantum-ready semiconductors; SEALSQ's ability to continue beneficial transactions with material parties, including a limited number of significant customers; market demand and semiconductor industry conditions; the growth of the quantum computing market; and the risks discussed in SEALSQ's filings with the SEC. Risks and uncertainties are further described in reports filed by SEALSQ with the SEC.\n",
    "\n",
    "SEALSQ Corp is providing this communication as of this date and does not undertake to update any forward-looking statements contained herein as a result of new information, future events or otherwise.\n",
    "\"\"\""
   ],
   "id": "e2d556526bc6362f",
   "outputs": [],
   "execution_count": 20
  },
  {
   "metadata": {
    "ExecuteTime": {
     "end_time": "2024-12-29T05:54:26.419052Z",
     "start_time": "2024-12-29T05:54:07.963977Z"
    }
   },
   "cell_type": "code",
   "source": [
    "response = client.chat.completions.create(\n",
    "    model = 'gpt-4o-mini',\n",
    "    messages = [\n",
    "        {'role': 'system', 'content': system_message},\n",
    "        {'role': 'user', 'content': article},\n",
    "    ]\n",
    ")\n",
    "\n",
    "print(response.choices[0].message.content)"
   ],
   "id": "d94134964c35add8",
   "outputs": [
    {
     "name": "stdout",
     "output_type": "stream",
     "text": [
      "**번역**\n",
      "SEALSQ, SEALQUANTUM.com 연구소 설립을 통해 양자-안전 암호화 및 포스트 양자 연구 선도\n",
      "\n",
      "SEALSQ Corp (NASDAQ: LAES) (\"SEALSQ\" 또는 \"회사\")는 반도체, PKI 및 포스트 양자 기술 하드웨어 및 소프트웨어 제품 개발 및 판매에 집중하는 회사로, SEALQUANTUM.com 연구소를 출범했다고 발표했다. 이 연구소는 양자-안전 암호화로의 전환을 지원하는 최첨단 연구 및 혁신 허브로, SEALSQ의 고급 솔루션을 통해 사이버 보안 문제를 해결하기 위한 의지를 나타낸다. 양자 컴퓨팅이 기하급수적으로 발전함에 따라, 기존 암호화 방법은 점점 더 취약해지고 있다. SEALSQ는 민감한 데이터와 중요한 시스템을 보호하기 위해 양자 저항 솔루션의 시급한 필요성을 인식하고 있다.\n",
      "\n",
      "SEALQUANTUM.com 연구소는 기업이 양자 중심 미래에 안전한 소통 방법을 채택할 수 있도록 지식, 도구 및 자원을 제공하는 프로액티브한 조치로 만들어졌다. 이 연구소는 양자 및 광학 프로세스에 기반한 첨단 기술 및 정밀 기기의 연구 개발을 지원하는 통로로서, 기술적 환경의 변화에 대응할 수 있도록 산업을 선도하도록 돕는다. SEALSQ의 CEO Carlos Moreira는 양자 기술이 현실이 됨에 따라, 양자-안전 암호화 솔루션에 대한 필요성이 더욱 급해지고 있다고 말했다. \n",
      "\n",
      "양자 연구소는 교육 플랫폼일 뿐만 아니라 양자-안전 암호화 분야의 R&D 동력소로, 기업에 전문 지식, 실시간 통찰력 및 양자 암호화 분야의 주요 전문가들의 안내를 제공한다. 또한, 양자 저항 암호화를 구현하기 위한 포괄적인 도구 모음을 포함한 기술 자원을 제공하고, 대학 및 연구 기관과의 협력을 통해 혁신을 촉진하여 보안 기술의 경계를 확장하고 있다.\n",
      "\n",
      "양자 연구소는 프랑스의 École de Mines와 기타 주요 대학과의 파트너십을 통해 학문적 우수성을 활용하여 양자-안전 기술의 발전을 가속화하고 있다. 연구 노력을 조정함으로써 SEALSQ는 자사의 솔루션이 양자 보안 혁명의 최전선에 머물도록 보장하고 있다. SEALQUANTUM.com 연구소는 SEALSQ의 포괄적인 양자-안전 기술 연구 및 개발 포트폴리오의 일환으로, 포스트 양자 암호(PQC) 알고리즘 및 포스트 양자 칩을 포함하고 있다. 이러한 혁신은 IoT, 헬스케어, 물류 및 정부 부문 등에서의 실질적인 응용을 위해 선도적인 기관과 함께 개발되어, 산업이 포스트 양자 시대에 안전하게 전환할 수 있도록 보장하고 있다. 자세한 내용은 SEALQUANTUM.com 웹사이트를 방문하면 확인할 수 있다.\n",
      "\n",
      "**요약**\n",
      "- **사실**:\n",
      "  - SEALSQ Corp는 SEALQUANTUM.com Lab을 설립하여 양자-안전 암호화 및 포스트 양자 연구에 집중하고 있다.\n",
      "  - 양자 컴퓨팅의 발전으로 기존 암호화 방법이 취약해지는 가운데, SEALSQ는 실질적인 양자 저항 솔루션의 필요성을 강조하고 있다.\n",
      "  - SEALQUANTUM.com 연구소는 기업들에게 양자 암호화 도구와 전문성을 지원하며, 다양한 대학과의 협력을 통해 연구 개발을 확대하고 있다.\n",
      "\n",
      "- **의견**:\n",
      "  - SEALSQ는 양자 중심의 미래에 대비하는 고객의 보안을 강화하기 위해 최첨단 연구와 실행 가능한 도구를 결합하고 있다.\n",
      "  - 양자 기술이 현실화됨에 따라, 양자-안전 솔루션의 필요성이 존재한다고 강조하고 있다.\n",
      "\n",
      "- **투자 포인트**:\n",
      "  - SEALSQ는 포스트 양자 기술과 세미컨덕터 분야에서 선도적인 혁신을 추구하고 있으며, 이는 시장의 성장 가능성을 제시한다.\n",
      "  - 양자-안전 암호화 솔루션을 통해 사이버 보안의 새로운 요구에 부응하고 있어, 업계에서의 입지가 강화될 것으로 예상된다.\n"
     ]
    }
   ],
   "execution_count": 21
  },
  {
   "metadata": {},
   "cell_type": "markdown",
   "source": "### 추론 과정",
   "id": "836223033e6c2e5f"
  },
  {
   "metadata": {
    "ExecuteTime": {
     "end_time": "2024-12-29T09:01:45.214750Z",
     "start_time": "2024-12-29T09:01:45.210852Z"
    }
   },
   "cell_type": "code",
   "source": [
    "system_message = \"\"\"\n",
    "당신은 추론에 특화된 AI 어시스턴트입니다.\n",
    "어떠한 사건에 대해서 최선을 다해 원인을 파악해 주세요.\n",
    "답변에 대한 명확한 정당화와 그 뒤의 추론 과정을 제공해 주세요.\n",
    "원문이 한국어가 아닌 경우, 한국어로 번역을 하되 번역된 원문은 제공하지 마세요.\n",
    "\n",
    "제공된 기사 내용을 종합적으로 읽고 주요 주제와 핵심요점을 식별합니다.\n",
    "현재 기사 내용을 요약하여 실제로 발생한 사실과 작성자가 제시한 의견을 구분하고 이를 전달하는 단략 요약을 생성합니다.\n",
    "실제로 발생한 사실이 발생하게 된 원인을 기술하세요. 본문에 없다면 일반적인 상식을 얘기해도 무관합니다.\n",
    "과정의 각 단계를 출력합니다.\n",
    "\n",
    "기사내용 :\n",
    "\"\"\"\n",
    "\n",
    "text = \"\"\"\n",
    "Stock market today: Dow, S&P, Nasdaq slide on Big Tech losses, but weekly gains hold.\n",
    "\n",
    "US stocks closed the holiday week on a downbeat note as Wall Street slogged to the finish of a largely triumphant year.\n",
    "\n",
    "The S&P 500 (^GSPC) lost 1.1%, while the tech-heavy Nasdaq Composite (^IXIC) shed 1.5% Friday at the close. The Dow Jones Industrial Average (^DJI) gave up 0.8%. Meanwhile, the 10-year Treasury yield (^TNX) hovered near seven-month highs around 4.6%.\n",
    "\n",
    "After stacking impressive gains this year, some of the biggest names in tech lost ground as investors took profits, rebalance portfolios, or reassessed their lofty valuations. Tesla (TSLA) lost 5%. Nvidia (NVDA) gave up 2%, while Amazon (AMZN) decreased by 1%.\n",
    "\n",
    "Wall Street has just three trading days remaining in a 2024 full of big gains, but markets have been unable to mount a \"Santa Claus\" rally into the end of the year.\n",
    "\n",
    "Despite the negative day, the S&P 500 logged a weekly gain of 1.8%. The Nasdaq also posted a win of 1.8%, while the Dow notched a 1.5% increase.\n",
    "\n",
    "Markets have largely digested the year's remaining key economic data points, and investors are now turning their attention to two big themes for the coming year: the Federal Reserve's path for interest rates and the implications of Donald Trump's ascent back to the White House.\n",
    "\n",
    "On the former, stocks have largely taken in stride the Fed's plans to scale back rate cuts next year after an initial plunge last week. Bets have now shifted squarely to May as the next meeting at which the Fed will slash interest rates, as it continues to grapple with stubborn inflation while keeping a close eye on a cooling labor market.\n",
    "\n",
    "And on the latter, Yahoo Finance's Ben Werschkul writes that while Trump talked up his big plans during the campaign, especially on the economy, those plans could soon face a reality check from other key power players.\n",
    "\"\"\""
   ],
   "id": "a856b9d60c6b8d9e",
   "outputs": [],
   "execution_count": 23
  },
  {
   "metadata": {
    "ExecuteTime": {
     "end_time": "2024-12-29T09:03:17.880245Z",
     "start_time": "2024-12-29T09:03:11.973800Z"
    }
   },
   "cell_type": "code",
   "source": [
    "response = client.chat.completions.create(\n",
    "    model = 'gpt-4o-mini',\n",
    "    messages = [\n",
    "        {'role': 'system', 'content': system_message},\n",
    "        {'role': 'user', 'content': text}\n",
    "    ]\n",
    ")"
   ],
   "id": "21e624eab8c614fb",
   "outputs": [],
   "execution_count": 24
  },
  {
   "metadata": {
    "ExecuteTime": {
     "end_time": "2024-12-29T09:03:31.836602Z",
     "start_time": "2024-12-29T09:03:31.833998Z"
    }
   },
   "cell_type": "code",
   "source": "print(response.choices[0].message.content)",
   "id": "672ed0b57c3eb7a",
   "outputs": [
    {
     "name": "stdout",
     "output_type": "stream",
     "text": [
      "**주요 주제 및 핵심 요점 식별:**\n",
      "\n",
      "1. **주식 시장 하락**: 다우존스, S&P 500, 나스닥 지수가 하락했다.\n",
      "2. **기술주 손실**: 대형 기술 기업들이 이익 실현으로 인해 가치가 하락했다.\n",
      "3. **금리와 경제 전망**: 연방준비제도(Fed)의 금리 정책과 도널드 트럼프의 정치적 상황이 향후 시장에 미칠 영향.\n",
      "4. **주간 성과**: 한 주 동안 S&P 500과 나스닥은 각각 1.8% 상승했으나, 이날은 하락 마감.\n",
      "\n",
      "**사실과 의견 구분:**\n",
      "\n",
      "- **사실**: S&P 500과 나스닥은 각각 1.1%와 1.5% 하락했으며, 다우는 0.8% 하락했다. 그러나 주간 기준으로 S&P 500과 나스닥은 각각 1.8% 상승했다.\n",
      "- **의견**: 투자자들이 포트폴리오를 조정하거나 기술 주식의 과대 평가를 재검토하고 있다는 주장이 제기되었다. 또한 트럼프의 경제 계획이 현실적인 도전에 직면할 것이라는 분석도 있다.\n",
      "\n",
      "**원인 기술:**\n",
      "\n",
      "주식 시장의 하락은 주요 기술 기업들의 주가가 하락하면서 발생했다. 이는 여러 요인으로 인해 발생할 수 있다:\n",
      "1. **이익 실현**: 투자자들이 이전의 상승세에서 이익을 챙기고자 하면서 매도 압력이 발생했다.\n",
      "2. **포트폴리오 재조정**: 연말에 투자자들이 자산 배분을 조정하는 경향이 있다.\n",
      "3. **높은 평가**: 일부 기술 기업의 주식이 과대 평가되어 있다고 느끼는 투자자들이 많아졌고, 이에 따라 매도하는 움직임이 나타났다.\n",
      "\n",
      "이와 같은 현상은 경제 전반의 불확실성이 커지면서 더욱 두드러진 것으로 보인다. 특히 향후 연방준비제도의 금리 정책과 같은 주요 경제 지표에 대한 우려가 커지면서 투자자들의 심리에도 영향을 미쳤다고 볼 수 있다.\n"
     ]
    }
   ],
   "execution_count": 25
  },
  {
   "metadata": {},
   "cell_type": "markdown",
   "source": "### 여러 개의 출력을 생성해 가장 적합한 것을 선택",
   "id": "d07e2f5add62843c"
  },
  {
   "metadata": {
    "ExecuteTime": {
     "end_time": "2024-12-29T09:05:55.925739Z",
     "start_time": "2024-12-29T09:05:55.922438Z"
    }
   },
   "cell_type": "code",
   "source": [
    "system_message = \"\"\"\n",
    "당신은 추론에 특화된 AI 어시스턴트입니다.\n",
    "어떠한 사건에 대해서 최선을 다해 원인을 파악해 주세요.\n",
    "답변에 대한 명확한 정당화와 그 뒤의 추론 과정을 제공해 주세요.\n",
    "원문이 한국어가 아닌 경우, 한국어로 번역을 하되 번역된 원문은 제공하지 마세요.\n",
    "\n",
    "제공된 기사 내용을 종합적으로 읽고 주요 주제와 핵심요점을 식별합니다. \n",
    "현재 기사 내용을 요약하여 실제로 발생한 사실과 작성자가 제시한 의견을 구분하고 이를 전달하는 단략 요약을 생성합니다.\n",
    "주어진 기사에 대해 세 가지 답변을 생성해야 합니다.\n",
    "각 답변에는 실제로 발생한 사실이 발생하게 된 원인을 기술하세요. 본문에 없다면 일반적인 상식을 얘기해도 무관합니다.\n",
    "그런 다음, 세 가지 답변 중에서 원인과 결과를 고려했을 때 가장 그럴듯한 것을 선택하세요.\n",
    "\n",
    "기사내용 :\n",
    "\"\"\"\n",
    "\n",
    "text = \"\"\"\n",
    "Stock market today: Dow, S&P, Nasdaq slide on Big Tech losses, but weekly gains hold.\n",
    "\n",
    "US stocks closed the holiday week on a downbeat note as Wall Street slogged to the finish of a largely triumphant year.\n",
    "\n",
    "The S&P 500 (^GSPC) lost 1.1%, while the tech-heavy Nasdaq Composite (^IXIC) shed 1.5% Friday at the close. The Dow Jones Industrial Average (^DJI) gave up 0.8%. Meanwhile, the 10-year Treasury yield (^TNX) hovered near seven-month highs around 4.6%.\n",
    "\n",
    "After stacking impressive gains this year, some of the biggest names in tech lost ground as investors took profits, rebalance portfolios, or reassessed their lofty valuations. Tesla (TSLA) lost 5%. Nvidia (NVDA) gave up 2%, while Amazon (AMZN) decreased by 1%.\n",
    "\n",
    "Wall Street has just three trading days remaining in a 2024 full of big gains, but markets have been unable to mount a \"Santa Claus\" rally into the end of the year.\n",
    "\n",
    "Despite the negative day, the S&P 500 logged a weekly gain of 1.8%. The Nasdaq also posted a win of 1.8%, while the Dow notched a 1.5% increase.\n",
    "\n",
    "Markets have largely digested the year's remaining key economic data points, and investors are now turning their attention to two big themes for the coming year: the Federal Reserve's path for interest rates and the implications of Donald Trump's ascent back to the White House.\n",
    "\n",
    "On the former, stocks have largely taken in stride the Fed's plans to scale back rate cuts next year after an initial plunge last week. Bets have now shifted squarely to May as the next meeting at which the Fed will slash interest rates, as it continues to grapple with stubborn inflation while keeping a close eye on a cooling labor market.\n",
    "\n",
    "And on the latter, Yahoo Finance's Ben Werschkul writes that while Trump talked up his big plans during the campaign, especially on the economy, those plans could soon face a reality check from other key power players.\n",
    "\"\"\""
   ],
   "id": "de446b671260e9af",
   "outputs": [],
   "execution_count": 26
  },
  {
   "metadata": {
    "ExecuteTime": {
     "end_time": "2024-12-29T09:06:11.192322Z",
     "start_time": "2024-12-29T09:06:00.795468Z"
    }
   },
   "cell_type": "code",
   "source": [
    "response = client.chat.completions.create(\n",
    "    model = 'gpt-4o-mini',\n",
    "    messages = [\n",
    "        {'role': 'system', 'content': system_message},\n",
    "        {'role': 'user', 'content': text}\n",
    "    ]\n",
    ")"
   ],
   "id": "20b5ebb90851b875",
   "outputs": [],
   "execution_count": 27
  },
  {
   "metadata": {
    "ExecuteTime": {
     "end_time": "2024-12-29T09:06:35.838664Z",
     "start_time": "2024-12-29T09:06:35.836737Z"
    }
   },
   "cell_type": "code",
   "source": "print(response.choices[0].message.content)",
   "id": "839df646d2570cc8",
   "outputs": [
    {
     "name": "stdout",
     "output_type": "stream",
     "text": [
      "1. **주요 사실 및 원인 1**: 미국 주식 시장은 연말의 마지막 주에 하락세를 보였다. 주요 기술주들이 투자자들에 의해 매도되면서 평가가 조정되었고, 이는 그들이 이미 큰 상승 잠재력을 기록한 후 세익실현을 위한 행동으로 볼 수 있다. 이러한 하락세는 일시적인 현상일 수 있으며, 특히 연말 정산을 반영하는 것으로 해석된다.\n",
      "\n",
      "2. **주요 사실 및 원인 2**: 경제 데이터 발표 후, 투자자들은 연방준비제도(Fed)의 금리 정책 전망에 주목하고 있다. 이에 따라 Fed가 금리 인하를 고려하면서도 높은 인플레이션과 냉각되는 노동 시장을 감안해 신중하게 접근하고 있는 것이 시장 감정에 영향을 미쳤다. 이는 투자자들이 앞으로의 경제 상황을 두고 불안감을 느끼게 할 수 있다.\n",
      "\n",
      "3. **주요 사실 및 원인 3**: 도널드 트럼프의 정치적 복귀가 많은 투자자들에게 불확실성을 안겨주고 있다. 그는 경제 관련 계획을 내세웠지만, 실제로 실행에 옮길 수 있는 가능성에 대한 의문이 제기되고 있고, 이는 투자자 심리에 부정적인 영향을 미칠 수 있다. 향후 정치적 변화가 경제에 미치는 영향이 불확실하기 때문에 주식 시장의 변동성이 커질 가능성이 있다.\n",
      "\n",
      "**가장 그럴듯한 원인 선택**: 1번 원인이 가장 그럴듯하다. 투자자들이 기술주에서 수익을 실현하기 위해 매도한 행위는 시장 하락의 직접적인 원인으로 작용했으며, 이는 일반적인 투자 심리와 연말의 패턴에 부합하는 것으로 볼 수 있다. 이러한 행동은 특히 높은 시장 구조에서 가격 조정을 반영하는 자연스러운 과정으로 여겨진다.\n"
     ]
    }
   ],
   "execution_count": 28
  },
  {
   "metadata": {},
   "cell_type": "markdown",
   "source": "### Labeling",
   "id": "edd30a9883c4bf4e"
  },
  {
   "metadata": {
    "ExecuteTime": {
     "end_time": "2024-12-29T09:11:17.071312Z",
     "start_time": "2024-12-29T09:11:17.065036Z"
    }
   },
   "cell_type": "code",
   "source": [
    "system_message = \"\"\"\n",
    "당신은 금융, 경제에 종사하고 있는 사람들의 연설을 전문적으로 분석하는 분석가입니다. \n",
    "연설의 감정을 향후 주식시장에 미칠 영향을 기준으로 긍정, 부정, 중립으로 분류합니다.\n",
    "감정만을 구두점 없이 출력합니다.\n",
    "\n",
    "원문이 한국어가 아닌 경우, 한국어로 번역을 하되 번역된 원문은 제공하지 마세요.\n",
    "\n",
    "연설 : \n",
    "\"\"\"\n",
    "\n",
    "speech = \"\"\"\n",
    "Good afternoon. Thank you to the World Affairs Council, the Federal Reserve Bank of Dallas, and the Dallas Regional Chamber for the kind invitation to be with you today. I will start with some brief comments on the economy and monetary policy.\n",
    "\n",
    "Looking back, the U.S. economy has weathered a global pandemic and its aftermath and is now back to a good place. The economy has made significant progress toward our dual-mandate goals of maximum employment and stable prices. The labor market remains in solid condition. Inflation has eased substantially from its peak, and we believe it is on a sustainable path to our 2 percent goal. We are committed to maintaining our economy's strength by returning inflation to our goal while supporting maximum employment.\n",
    "\n",
    "Recent Economic Data\n",
    "Economic growth\n",
    "The recent performance of our economy has been remarkably good, by far the best of any major economy in the world. Economic output grew by more than 3 percent last year and is expanding at a stout 2.5 percent rate so far this year. Growth in consumer spending has remained strong, supported by increases in disposable income and solid household balance sheets. Business investment in equipment and intangibles has accelerated over the past year. In contrast, activity in the housing sector has been weak.\n",
    "\n",
    "Improving supply conditions have supported this strong performance of the economy. The labor force has expanded rapidly, and productivity has grown faster over the past five years than its pace in the two decades before the pandemic, increasing the productive capacity of the economy and allowing rapid economic growth without overheating.\n",
    "\n",
    "The labor market\n",
    "The labor market remains in solid condition, having cooled off from the significantly overheated conditions of a couple of years ago, and is now by many metrics back to more normal levels that are consistent with our employment mandate. The number of job openings is now just slightly above the number of unemployed Americans seeking work. The rate at which workers quit their jobs is below the pre-pandemic pace, after touching historic highs two years ago. Wages are still increasing, but at a more sustainable pace. Hiring has slowed from earlier in the year. The most recent jobs report for October reflected significant effects from hurricanes and labor strikes, making it difficult to get a clear signal. Finally, at 4.1 percent, the unemployment rate is notably higher than a year ago but has flattened out in recent months and remains historically low.\n",
    "\n",
    "Inflation\n",
    "The labor market has cooled to the point where it is no longer a source of significant inflationary pressures. This cooling and the substantial improvement in broader supply conditions have brought inflation down significantly over the past two years from its mid-2022 peak above 7 percent. Progress on inflation has been broad based. Estimates based on the consumer price index and other data released this week indicate that total PCE prices rose 2.3 percent over the 12 months ending in October and that, excluding the volatile food and energy categories, core PCE prices rose 2.8 percent. Core measures of goods and services inflation, excluding housing, fell rapidly over the past two years and have returned to rates closer to those consistent with our goals. We expect that these rates will continue to fluctuate in their recent ranges. We are watching carefully to be sure that they do, however, just as we are closely tracking the gradual decline in housing services inflation, which has yet to fully normalize. Inflation is running much closer to our 2 percent longer-run goal, but it is not there yet. We are committed to finishing the job. With labor market conditions in rough balance and inflation expectations well anchored, I expect inflation to continue to come down toward our 2 percent objective, albeit on a sometimes-bumpy path.\n",
    "\n",
    "Monetary Policy\n",
    "Given progress toward our inflation goal and the cooling of labor market conditions, last week my Federal Open Market Committee colleagues and I took another step in reducing the degree of policy restraint by lowering our policy interest rate 1/4 percentage point.\n",
    "\n",
    "We are confident that with an appropriate recalibration of our policy stance, strength in the economy and the labor market can be maintained, with inflation moving sustainably down to 2 percent. We see the risks to achieving our employment and inflation goals as being roughly in balance, and we are attentive to the risks to both sides. We know that reducing policy restraint too quickly could hinder progress on inflation. At the same time, reducing policy restraint too slowly could unduly weaken economic activity and employment.\n",
    "\n",
    "We are moving policy over time to a more neutral setting. But the path for getting there is not preset. In considering additional adjustments to the target range for the federal funds rate, we will carefully assess incoming data, the evolving outlook, and the balance of risks. The economy is not sending any signals that we need to be in a hurry to lower rates. The strength we are currently seeing in the economy gives us the ability to approach our decisions carefully. Ultimately, the path of the policy rate will depend on how the incoming data and the economic outlook evolve.\n",
    "\n",
    "We remain resolute in our commitment to the dual mandate given to us by Congress: maximum employment and price stability. Our aim has been to return inflation to our objective without the kind of painful rise in unemployment that has often accompanied past efforts to bring down high inflation. That would be a highly desirable result for the communities, families, and businesses we serve. While the task is not complete, we have made a good deal of progress toward that outcome.\n",
    "\n",
    "Thank you, and I look forward to our discussion.\n",
    "\"\"\""
   ],
   "id": "a508d3ebd575aacd",
   "outputs": [],
   "execution_count": 29
  },
  {
   "metadata": {
    "ExecuteTime": {
     "end_time": "2024-12-29T09:11:28.245586Z",
     "start_time": "2024-12-29T09:11:27.680613Z"
    }
   },
   "cell_type": "code",
   "source": [
    "response = client.chat.completions.create(\n",
    "    model = 'gpt-4o-mini',\n",
    "    messages = [\n",
    "        {'role': 'system', 'content': system_message},\n",
    "        {'role': 'user', 'content': speech}\n",
    "    ]\n",
    ")"
   ],
   "id": "44072d153a84b9c",
   "outputs": [],
   "execution_count": 30
  },
  {
   "metadata": {
    "ExecuteTime": {
     "end_time": "2024-12-29T09:11:31.998574Z",
     "start_time": "2024-12-29T09:11:31.996042Z"
    }
   },
   "cell_type": "code",
   "source": "print(response.choices[0].message.content)",
   "id": "44d6fcbaf781c79",
   "outputs": [
    {
     "name": "stdout",
     "output_type": "stream",
     "text": [
      "긍정\n"
     ]
    }
   ],
   "execution_count": 31
  },
  {
   "metadata": {},
   "cell_type": "markdown",
   "source": [
    "### 구분선을 사용\n",
    "\n",
    "- 명확한 구분 : 구분선은 프롬프트 내에서 별도의 섹션을 표시하여 지침, 예제 및 원하는 출력을 구분한다\n",
    "- LLM을 위한 지침 : 구분선을 적절히 사용하면 모호성을 제거하여 모델을 효과적으로 안내할 수 있다.\n",
    "- 정확성 향상 : 구분선은 즉각적인 이해도를 높여 보다 관련성 높은 응답을 제공한다.\n",
    "- 일관성 향상 : 구분선을 효과적으로 사용하면 지침, 입력 및 출력을 정리하여 일관된 응답을 유도할 수 있다."
   ],
   "id": "22c6434cc6969248"
  },
  {
   "metadata": {
    "ExecuteTime": {
     "end_time": "2024-12-31T16:09:03.698117Z",
     "start_time": "2024-12-31T16:09:03.680760Z"
    }
   },
   "cell_type": "code",
   "source": [
    "system_message = \"\"\"\n",
    "당신은 포트폴리오 구성을 하는 매니저의 요청에 따라 코드를 작성하는 파이썬 프로그래머입니다. 요청에 따라 파이썬 코드를 생성합니다.\n",
    "\n",
    "==> 예제 시작\n",
    "\n",
    "--사용자 질문--\n",
    "Monte Carlo Simulation과 Markowitz의 포트폴리오 이론을 이용해 임의의 주식 5개에 대해서 최적의 배분 비율을 도출하는 함수를 작성해 주세요.\n",
    "input은 pandas.DataFrame형태이며, 5개의 자산이 컬럼으로 들어가 있습니다.\n",
    "각 자산 데이터는 수익률 데이터입니다.\n",
    "\n",
    "--사용자 출력--\n",
    "예시로, 함수는 다음과 같이 작성되어야 합니다.\n",
    "```\n",
    "def portfolio_optimization(data : pd.DataFrame) -> pd.DataFrame:\n",
    "    '''\n",
    "    this function is responsible for optimizing the portfolio\n",
    "    '''\n",
    "    return result\n",
    "```\n",
    "<=== 예제 끝\n",
    "\"\"\"\n",
    "\n",
    "query = \"5개의 자산을 임의로 생성하고, 이 자산들의 최적 weight를 구하는 파이썬 함수를 생성하세요.\""
   ],
   "id": "74f397e662f214e6",
   "outputs": [],
   "execution_count": 32
  },
  {
   "metadata": {
    "ExecuteTime": {
     "end_time": "2024-12-31T16:09:26.119649Z",
     "start_time": "2024-12-31T16:09:18.619884Z"
    }
   },
   "cell_type": "code",
   "source": [
    "response = client.chat.completions.create(\n",
    "    model = 'gpt-4o-mini',\n",
    "    messages = [\n",
    "        {'role': 'system', 'content': system_message},\n",
    "        {'role': 'user', 'content': query}\n",
    "    ]\n",
    ")"
   ],
   "id": "23ae4eb0a2a5d954",
   "outputs": [],
   "execution_count": 33
  },
  {
   "metadata": {
    "ExecuteTime": {
     "end_time": "2024-12-31T16:09:27.002515Z",
     "start_time": "2024-12-31T16:09:27.000443Z"
    }
   },
   "cell_type": "code",
   "source": "print(response.choices[0].message.content)",
   "id": "e636aace724004ba",
   "outputs": [
    {
     "name": "stdout",
     "output_type": "stream",
     "text": [
      "다음은 5개의 임의 주식 자산의 수익률 데이터를 생성하고, 마르코위츠 포트폴리오 이론과 몬테 카를로 시뮬레이션을 이용해 최적의 배분 비율을 도출하는 파이썬 코드입니다.\n",
      "\n",
      "```python\n",
      "import numpy as np\n",
      "import pandas as pd\n",
      "\n",
      "def generate_random_assets(num_assets=5, num_observations=1000):\n",
      "    \"\"\"\n",
      "    Generates a DataFrame of random asset returns.\n",
      "    \"\"\"\n",
      "    np.random.seed(42)\n",
      "    return pd.DataFrame(np.random.randn(num_observations, num_assets) * 0.01, columns=[f'Asset_{i+1}' for i in range(num_assets)])\n",
      "\n",
      "def portfolio_optimization(data: pd.DataFrame, num_portfolios=10000):\n",
      "    \"\"\"\n",
      "    This function is responsible for optimizing the portfolio using Monte Carlo simulation.\n",
      "    \"\"\"\n",
      "    # Calculate expected returns and the covariance matrix\n",
      "    returns = data.mean()\n",
      "    cov_matrix = data.cov()\n",
      "\n",
      "    # Initialize the results List\n",
      "    results = {'Returns': [], 'Volatility': [], 'Weights': []}\n",
      "\n",
      "    for _ in range(num_portfolios):\n",
      "        # Generate random weights\n",
      "        weights = np.random.random(len(data.columns))\n",
      "        weights /= np.sum(weights)  # Normalize to sum to 1\n",
      "        \n",
      "        # Expected portfolio return\n",
      "        portfolio_return = np.dot(weights, returns)\n",
      "\n",
      "        # Expected portfolio volatility\n",
      "        portfolio_volatility = np.sqrt(np.dot(weights.T, np.dot(cov_matrix, weights)))\n",
      "\n",
      "        # Append the results\n",
      "        results['Returns'].append(portfolio_return)\n",
      "        results['Volatility'].append(portfolio_volatility)\n",
      "        results['Weights'].append(weights)\n",
      "\n",
      "    # Create a DataFrame from the results\n",
      "    results_df = pd.DataFrame(results)\n",
      "    \n",
      "    return results_df.loc[results_df['Returns'].idxmax()]\n",
      "\n",
      "# Generate random asset data\n",
      "random_assets = generate_random_assets()\n",
      "\n",
      "# Optimize portfolio\n",
      "optimal_portfolio = portfolio_optimization(random_assets)\n",
      "print(optimal_portfolio)\n",
      "```\n",
      "\n",
      "위 코드는 다음의 기능을 수행합니다:\n",
      "1. `generate_random_assets` 함수는 5개의 랜덤 자산 수익률 데이터를 생성합니다.\n",
      "2. `portfolio_optimization` 함수는 몬테 카를로 시뮬레이션을 사용하여 수익률과 변동성을 계산하고, 최적의 자산 배분 비율을 도출합니다.\n",
      "3. 마지막으로 생성된 무작위 자산 데이터를 사용하여 최적의 포트폴리오를 계산하고 결과를 출력합니다.\n"
     ]
    }
   ],
   "execution_count": 34
  },
  {
   "metadata": {
    "ExecuteTime": {
     "end_time": "2024-12-31T16:10:28.374463Z",
     "start_time": "2024-12-31T16:10:28.098351Z"
    }
   },
   "cell_type": "code",
   "source": [
    "import numpy as np\n",
    "import pandas as pd\n",
    "\n",
    "def generate_random_assets(num_assets=5, num_observations=1000):\n",
    "    \"\"\"\n",
    "    Generates a DataFrame of random asset returns.\n",
    "    \"\"\"\n",
    "    np.random.seed(42)\n",
    "    return pd.DataFrame(np.random.randn(num_observations, num_assets) * 0.01, columns=[f'Asset_{i+1}' for i in range(num_assets)])\n",
    "\n",
    "def portfolio_optimization(data: pd.DataFrame, num_portfolios=10000):\n",
    "    \"\"\"\n",
    "    This function is responsible for optimizing the portfolio using Monte Carlo simulation.\n",
    "    \"\"\"\n",
    "    # Calculate expected returns and the covariance matrix\n",
    "    returns = data.mean()\n",
    "    cov_matrix = data.cov()\n",
    "\n",
    "    # Initialize the results List\n",
    "    results = {'Returns': [], 'Volatility': [], 'Weights': []}\n",
    "\n",
    "    for _ in range(num_portfolios):\n",
    "        # Generate random weights\n",
    "        weights = np.random.random(len(data.columns))\n",
    "        weights /= np.sum(weights)  # Normalize to sum to 1\n",
    "        \n",
    "        # Expected portfolio return\n",
    "        portfolio_return = np.dot(weights, returns)\n",
    "\n",
    "        # Expected portfolio volatility\n",
    "        portfolio_volatility = np.sqrt(np.dot(weights.T, np.dot(cov_matrix, weights)))\n",
    "\n",
    "        # Append the results\n",
    "        results['Returns'].append(portfolio_return)\n",
    "        results['Volatility'].append(portfolio_volatility)\n",
    "        results['Weights'].append(weights)\n",
    "\n",
    "    # Create a DataFrame from the results\n",
    "    results_df = pd.DataFrame(results)\n",
    "    \n",
    "    return results_df.loc[results_df['Returns'].idxmax()]\n",
    "\n",
    "# Generate random asset data\n",
    "random_assets = generate_random_assets()\n",
    "\n",
    "# Optimize portfolio\n",
    "optimal_portfolio = portfolio_optimization(random_assets)\n",
    "print(optimal_portfolio)"
   ],
   "id": "391305cb52d0fed8",
   "outputs": [
    {
     "name": "stdout",
     "output_type": "stream",
     "text": [
      "Returns                                                0.000275\n",
      "Volatility                                             0.008273\n",
      "Weights       [0.09624309077161877, 0.01413599240035578, 0.0...\n",
      "Name: 9334, dtype: object\n"
     ]
    }
   ],
   "execution_count": 35
  }
 ],
 "metadata": {
  "kernelspec": {
   "display_name": "Python 3",
   "language": "python",
   "name": "python3"
  },
  "language_info": {
   "codemirror_mode": {
    "name": "ipython",
    "version": 2
   },
   "file_extension": ".py",
   "mimetype": "text/x-python",
   "name": "python",
   "nbconvert_exporter": "python",
   "pygments_lexer": "ipython2",
   "version": "2.7.6"
  }
 },
 "nbformat": 4,
 "nbformat_minor": 5
}
