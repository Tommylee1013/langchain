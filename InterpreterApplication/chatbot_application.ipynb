{
 "cells": [
  {
   "metadata": {},
   "cell_type": "markdown",
   "source": "### 1. 단순한 기본형 봇 만들기",
   "id": "7e837ebadb290408"
  },
  {
   "metadata": {
    "ExecuteTime": {
     "end_time": "2025-01-03T16:13:45.673275Z",
     "start_time": "2025-01-03T16:13:45.669616Z"
    }
   },
   "cell_type": "code",
   "source": [
    "import numpy as np\n",
    "import pandas as pd\n",
    "import openai\n",
    "from openai import OpenAI\n",
    "import os\n",
    "import warnings\n",
    "warnings.filterwarnings(\"ignore\")\n",
    "\n",
    "with open('../config/api.key') as file :\n",
    "    lines = file.readlines()\n",
    "    api_key = lines[0].strip()\n",
    "    serp_api_key = lines[1].strip()\n",
    "    langsmith_api_key = lines[2].strip()\n",
    "\n",
    "openai.api_key = api_key\n",
    "os.environ['OPENAI_API_KEY'] = openai.api_key"
   ],
   "id": "f9f319e63976eec8",
   "outputs": [],
   "execution_count": 7
  },
  {
   "cell_type": "code",
   "id": "initial_id",
   "metadata": {
    "collapsed": true,
    "ExecuteTime": {
     "end_time": "2025-01-03T16:13:46.315736Z",
     "start_time": "2025-01-03T16:13:46.271111Z"
    }
   },
   "source": [
    "from langchain.schema import (\n",
    "    AIMessage,\n",
    "    HumanMessage,\n",
    "    SystemMessage\n",
    ")\n",
    "from langchain.chains import LLMChain, ConversationChain\n",
    "from langchain_openai import ChatOpenAI\n",
    "\n",
    "chat = ChatOpenAI()\n",
    "\n",
    "message = [\n",
    "    SystemMessage(\n",
    "        content = \"당신은 사용자가 최적화된 투자 의사결정을 내리도록 도움을 주는 유용한 도우미입니다.\"\n",
    "    ),\n",
    "    HumanMessage(\n",
    "        content = \"저는 애플(AAPL)을 1년동안 투자하고 있는데, 앞으로 계속 추가 매수를 하는게 좋을까요?\"\n",
    "    )\n",
    "]"
   ],
   "outputs": [],
   "execution_count": 8
  },
  {
   "metadata": {
    "ExecuteTime": {
     "end_time": "2025-01-03T16:13:52.496572Z",
     "start_time": "2025-01-03T16:13:46.980113Z"
    }
   },
   "cell_type": "code",
   "source": [
    "output = chat.invoke(message)\n",
    "print(output.content)"
   ],
   "id": "c776cd7fac2e445",
   "outputs": [
    {
     "name": "stdout",
     "output_type": "stream",
     "text": [
      "애플(AAPL)은 기술 기업으로서 현재 시장에서 안정적이고 성장하는 기업으로 평가받고 있습니다. 하지만 투자의사결정은 개인의 투자목표, 투자기간, 위험 선호도 등을 고려해야 합니다. 추가 매수를 고려할 때 고려해야 할 몇 가지 사항이 있습니다.\n",
      "\n",
      "1. 재무제표 분석: 애플의 재무건전성과 수익성을 분석해야 합니다. 매출액, 순이익, 자산가치 등을 확인하여 기업의 건강한 재무 상태를 확인할 수 있습니다.\n",
      "\n",
      "2. 시장 분석: 애플이 속한 산업과 시장의 트렌드를 파악해야 합니다. 기술 산업이 미래에 어떻게 변화할지 고려해야 합니다.\n",
      "\n",
      "3. 기업 분석: 애플의 제품 라인업, 혁신력, 경쟁력 등을 분석하여 기업이 성장할 여지가 있는지 확인해야 합니다.\n",
      "\n",
      "4. 주가 분석: 현재 애플의 주가가 적정한 가치에 있는지, 과도하게 고평가되었는지 등을 분석하여 추가 매수의 타이밍을 결정할 수 있습니다.\n",
      "\n",
      "따라서, 추가 매수를 고려할 때에는 위와 같은 요인들을 종합적으로 고려하여 결정하는 것이 중요합니다. 또한, 투자에 대한 충분한 연구와 정보 수집을 통해 최선의 결정을 내리는 것이 중요합니다. 만약 추가로 도움이 필요하다면 금융 전문가와 상담을 하는 것을 권장합니다.\n"
     ]
    }
   ],
   "execution_count": 9
  },
  {
   "metadata": {},
   "cell_type": "markdown",
   "source": [
    "### 기억 추가하기\n",
    "\n",
    "이 시나리오는 비교적 짧은 메세지로 대화형 봇을 만드는 것이므로 `ConversationBufferMemory`로 충분할 것이다. 더 쉽게 구성할 수 있게 LLM과 메모리 컴포넌트를 결합하기 위해 `ConversationChain`도 초기화해 보자. "
   ],
   "id": "cf26c894f974e4e7"
  },
  {
   "metadata": {
    "ExecuteTime": {
     "end_time": "2025-01-03T16:14:00.031234Z",
     "start_time": "2025-01-03T16:14:00.028378Z"
    }
   },
   "cell_type": "code",
   "source": [
    "from langchain.memory import ConversationBufferMemory\n",
    "from langchain.chains import ConversationChain\n",
    "\n",
    "memory = ConversationBufferMemory()\n",
    "conversation = ConversationChain(\n",
    "    llm = chat,\n",
    "    verbose = True,\n",
    "    memory = memory\n",
    ")"
   ],
   "id": "6bcda6907f7c68b0",
   "outputs": [],
   "execution_count": 10
  },
  {
   "metadata": {
    "ExecuteTime": {
     "end_time": "2025-01-03T16:14:13.366371Z",
     "start_time": "2025-01-03T16:14:12.826148Z"
    }
   },
   "cell_type": "code",
   "source": "conversation.invoke(\"안녕하세요!\")",
   "id": "ece7cc50c4fcaa63",
   "outputs": [
    {
     "name": "stdout",
     "output_type": "stream",
     "text": [
      "\n",
      "\n",
      "\u001B[1m> Entering new ConversationChain chain...\u001B[0m\n",
      "Prompt after formatting:\n",
      "\u001B[32;1m\u001B[1;3mThe following is a friendly conversation between a human and an AI. The AI is talkative and provides lots of specific details from its context. If the AI does not know the answer to a question, it truthfully says it does not know.\n",
      "\n",
      "Current conversation:\n",
      "\n",
      "Human: 안녕하세요!\n",
      "AI:\u001B[0m\n",
      "\n",
      "\u001B[1m> Finished chain.\u001B[0m\n"
     ]
    },
    {
     "data": {
      "text/plain": [
       "{'input': '안녕하세요!', 'history': '', 'response': ' 안녕하세요! 어떻게 도와 드릴까요?'}"
      ]
     },
     "execution_count": 11,
     "metadata": {},
     "output_type": "execute_result"
    }
   ],
   "execution_count": 11
  },
  {
   "metadata": {
    "ExecuteTime": {
     "end_time": "2025-01-03T16:16:52.507340Z",
     "start_time": "2025-01-03T16:16:50.947599Z"
    }
   },
   "cell_type": "code",
   "source": "conversation.invoke('2025년에 성장가능성이 높은 산업은 무엇인가요?')",
   "id": "1a7057c776d269b4",
   "outputs": [
    {
     "name": "stdout",
     "output_type": "stream",
     "text": [
      "\n",
      "\n",
      "\u001B[1m> Entering new ConversationChain chain...\u001B[0m\n",
      "Prompt after formatting:\n",
      "\u001B[32;1m\u001B[1;3mThe following is a friendly conversation between a human and an AI. The AI is talkative and provides lots of specific details from its context. If the AI does not know the answer to a question, it truthfully says it does not know.\n",
      "\n",
      "Current conversation:\n",
      "Human: 안녕하세요!\n",
      "AI:  안녕하세요! 어떻게 도와 드릴까요?\n",
      "Human: 2025년에 성장가능성이 높은 산업은 무엇인가요?\n",
      "AI:\u001B[0m\n",
      "\n",
      "\u001B[1m> Finished chain.\u001B[0m\n"
     ]
    },
    {
     "data": {
      "text/plain": [
       "{'input': '2025년에 성장가능성이 높은 산업은 무엇인가요?',\n",
       " 'history': 'Human: 안녕하세요!\\nAI:  안녕하세요! 어떻게 도와 드릴까요?',\n",
       " 'response': '2025년에는 인공지능, 사물인터넷, 빅데이터, 사물인터넷, 사이버 보안 및 생명 과학 분야가 성장 가능성이 높을 것으로 예상됩니다. 특히 인공지능과 빅데이터 분야는 계속해서 발전하여 많은 기회를 제공할 것으로 보입니다.'}"
      ]
     },
     "execution_count": 12,
     "metadata": {},
     "output_type": "execute_result"
    }
   ],
   "execution_count": 12
  },
  {
   "metadata": {},
   "cell_type": "markdown",
   "source": "체인에서 볼 수 있듯이 이전 상호 작용을 추적하고 있다.",
   "id": "8a10aa7d2ba456e"
  },
  {
   "metadata": {
    "ExecuteTime": {
     "end_time": "2025-01-03T16:17:44.222282Z",
     "start_time": "2025-01-03T16:17:42.655374Z"
    }
   },
   "cell_type": "code",
   "source": "conversation.invoke('성장가능성이 희박한 산업도 말해 주세요')",
   "id": "db431bea51662544",
   "outputs": [
    {
     "name": "stdout",
     "output_type": "stream",
     "text": [
      "\n",
      "\n",
      "\u001B[1m> Entering new ConversationChain chain...\u001B[0m\n",
      "Prompt after formatting:\n",
      "\u001B[32;1m\u001B[1;3mThe following is a friendly conversation between a human and an AI. The AI is talkative and provides lots of specific details from its context. If the AI does not know the answer to a question, it truthfully says it does not know.\n",
      "\n",
      "Current conversation:\n",
      "Human: 안녕하세요!\n",
      "AI:  안녕하세요! 어떻게 도와 드릴까요?\n",
      "Human: 2025년에 성장가능성이 높은 산업은 무엇인가요?\n",
      "AI: 2025년에는 인공지능, 사물인터넷, 빅데이터, 사물인터넷, 사이버 보안 및 생명 과학 분야가 성장 가능성이 높을 것으로 예상됩니다. 특히 인공지능과 빅데이터 분야는 계속해서 발전하여 많은 기회를 제공할 것으로 보입니다.\n",
      "Human: 성장가능성이 희박한 산업도 말해 주세요\n",
      "AI:\u001B[0m\n",
      "\n",
      "\u001B[1m> Finished chain.\u001B[0m\n"
     ]
    },
    {
     "data": {
      "text/plain": [
       "{'input': '성장가능성이 희박한 산업도 말해 주세요',\n",
       " 'history': 'Human: 안녕하세요!\\nAI:  안녕하세요! 어떻게 도와 드릴까요?\\nHuman: 2025년에 성장가능성이 높은 산업은 무엇인가요?\\nAI: 2025년에는 인공지능, 사물인터넷, 빅데이터, 사물인터넷, 사이버 보안 및 생명 과학 분야가 성장 가능성이 높을 것으로 예상됩니다. 특히 인공지능과 빅데이터 분야는 계속해서 발전하여 많은 기회를 제공할 것으로 보입니다.',\n",
       " 'response': '성장가능성이 희박한 산업으로는 전통적인 제조업, 일부 광업 및 석유화학 산업 등이 있습니다. 이러한 산업들은 기술 혁신과 경쟁력 부족으로 인해 미래에는 성장 가능성이 낮을 수 있습니다.'}"
      ]
     },
     "execution_count": 13,
     "metadata": {},
     "output_type": "execute_result"
    }
   ],
   "execution_count": 13
  },
  {
   "metadata": {},
   "cell_type": "code",
   "outputs": [],
   "execution_count": null,
   "source": "",
   "id": "a03a1d30e6681f83"
  }
 ],
 "metadata": {
  "kernelspec": {
   "display_name": "Python 3",
   "language": "python",
   "name": "python3"
  },
  "language_info": {
   "codemirror_mode": {
    "name": "ipython",
    "version": 2
   },
   "file_extension": ".py",
   "mimetype": "text/x-python",
   "name": "python",
   "nbconvert_exporter": "python",
   "pygments_lexer": "ipython2",
   "version": "2.7.6"
  }
 },
 "nbformat": 4,
 "nbformat_minor": 5
}
